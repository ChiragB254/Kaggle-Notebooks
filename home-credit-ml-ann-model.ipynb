{
 "cells": [
  {
   "cell_type": "code",
   "execution_count": 1,
   "id": "6867b7c0",
   "metadata": {
    "execution": {
     "iopub.execute_input": "2024-02-09T07:13:38.541609Z",
     "iopub.status.busy": "2024-02-09T07:13:38.540411Z",
     "iopub.status.idle": "2024-02-09T07:13:41.674433Z",
     "shell.execute_reply": "2024-02-09T07:13:41.673246Z"
    },
    "papermill": {
     "duration": 3.14714,
     "end_time": "2024-02-09T07:13:41.677397",
     "exception": false,
     "start_time": "2024-02-09T07:13:38.530257",
     "status": "completed"
    },
    "tags": []
   },
   "outputs": [],
   "source": [
    "import pandas as pd\n",
    "import numpy as np\n",
    "import matplotlib.pyplot as plt\n",
    "import seaborn as sns\n",
    "import polars as pl\n",
    "import os\n",
    "from sklearn.preprocessing import OneHotEncoder, OrdinalEncoder, LabelEncoder\n",
    "from category_encoders import *\n",
    "from pathlib import Path\n"
   ]
  },
  {
   "cell_type": "code",
   "execution_count": 2,
   "id": "2e519114",
   "metadata": {
    "execution": {
     "iopub.execute_input": "2024-02-09T07:13:41.693945Z",
     "iopub.status.busy": "2024-02-09T07:13:41.693397Z",
     "iopub.status.idle": "2024-02-09T07:13:41.699642Z",
     "shell.execute_reply": "2024-02-09T07:13:41.698531Z"
    },
    "papermill": {
     "duration": 0.01727,
     "end_time": "2024-02-09T07:13:41.702120",
     "exception": false,
     "start_time": "2024-02-09T07:13:41.684850",
     "status": "completed"
    },
    "tags": []
   },
   "outputs": [],
   "source": [
    "ROOT = Path(\"/kaggle/input/home-credit-credit-risk-model-stability\")\n",
    "TRAIN_DIR       = ROOT / \"csv_files\" / \"train\"\n",
    "TEST_DIR        = ROOT / \"csv_files\" / \"test\"\n",
    "BASE_TRAIN_PATH = TRAIN_DIR / \"train_base.csv\"\n",
    "BASE_TEST_PATH  = TEST_DIR / \"test_base.csv\"\n",
    "\n",
    "\n",
    "MODEL_PATH = \"/kaggle/working/homecredit-dataset/best_model.pth\"\n",
    "LOAD_MODEL = False"
   ]
  },
  {
   "cell_type": "code",
   "execution_count": 3,
   "id": "b921694d",
   "metadata": {
    "execution": {
     "iopub.execute_input": "2024-02-09T07:13:41.718030Z",
     "iopub.status.busy": "2024-02-09T07:13:41.717634Z",
     "iopub.status.idle": "2024-02-09T07:13:42.097021Z",
     "shell.execute_reply": "2024-02-09T07:13:42.096201Z"
    },
    "papermill": {
     "duration": 0.390172,
     "end_time": "2024-02-09T07:13:42.099537",
     "exception": false,
     "start_time": "2024-02-09T07:13:41.709365",
     "status": "completed"
    },
    "tags": []
   },
   "outputs": [],
   "source": [
    "main_file = pl.read_csv(BASE_TRAIN_PATH)"
   ]
  },
  {
   "cell_type": "code",
   "execution_count": 4,
   "id": "2347420c",
   "metadata": {
    "execution": {
     "iopub.execute_input": "2024-02-09T07:13:42.115896Z",
     "iopub.status.busy": "2024-02-09T07:13:42.115492Z",
     "iopub.status.idle": "2024-02-09T07:13:42.122628Z",
     "shell.execute_reply": "2024-02-09T07:13:42.121541Z"
    },
    "papermill": {
     "duration": 0.018147,
     "end_time": "2024-02-09T07:13:42.125000",
     "exception": false,
     "start_time": "2024-02-09T07:13:42.106853",
     "status": "completed"
    },
    "tags": []
   },
   "outputs": [],
   "source": [
    "d = os.listdir(\"/kaggle/input/home-credit-credit-risk-model-stability/csv_files/train\")"
   ]
  },
  {
   "cell_type": "code",
   "execution_count": 5,
   "id": "983c0ad6",
   "metadata": {
    "execution": {
     "iopub.execute_input": "2024-02-09T07:13:42.141814Z",
     "iopub.status.busy": "2024-02-09T07:13:42.141066Z",
     "iopub.status.idle": "2024-02-09T07:13:42.146874Z",
     "shell.execute_reply": "2024-02-09T07:13:42.146102Z"
    },
    "papermill": {
     "duration": 0.016833,
     "end_time": "2024-02-09T07:13:42.149114",
     "exception": false,
     "start_time": "2024-02-09T07:13:42.132281",
     "status": "completed"
    },
    "tags": []
   },
   "outputs": [],
   "source": [
    "def check_dtype(file_list):\n",
    "    for file_name in file_list:\n",
    "        print(\"*\"*5+file_name+\"*\"*5)\n",
    "        col_dtype = {}\n",
    "        file = pd.read_csv(TRAIN_DIR/file_name)\n",
    "        for col in file.columns:\n",
    "            col_dtype[col] = file[col].dtype\n",
    "        \n",
    "        print(col_dtype)\n",
    "            "
   ]
  },
  {
   "cell_type": "code",
   "execution_count": 6,
   "id": "e5c8fc3d",
   "metadata": {
    "_kg_hide-output": false,
    "execution": {
     "iopub.execute_input": "2024-02-09T07:13:42.165083Z",
     "iopub.status.busy": "2024-02-09T07:13:42.164688Z",
     "iopub.status.idle": "2024-02-09T07:13:42.169423Z",
     "shell.execute_reply": "2024-02-09T07:13:42.168375Z"
    },
    "papermill": {
     "duration": 0.015704,
     "end_time": "2024-02-09T07:13:42.171958",
     "exception": false,
     "start_time": "2024-02-09T07:13:42.156254",
     "status": "completed"
    },
    "tags": []
   },
   "outputs": [],
   "source": [
    "# check_dtype(os.listdir(\"/kaggle/input/home-credit-credit-risk-model-stability/csv_files/train\"))"
   ]
  },
  {
   "cell_type": "code",
   "execution_count": 7,
   "id": "1db5218a",
   "metadata": {
    "execution": {
     "iopub.execute_input": "2024-02-09T07:13:42.189002Z",
     "iopub.status.busy": "2024-02-09T07:13:42.188156Z",
     "iopub.status.idle": "2024-02-09T07:17:08.991025Z",
     "shell.execute_reply": "2024-02-09T07:17:08.989620Z"
    },
    "papermill": {
     "duration": 206.814737,
     "end_time": "2024-02-09T07:17:08.993923",
     "exception": false,
     "start_time": "2024-02-09T07:13:42.179186",
     "status": "completed"
    },
    "tags": []
   },
   "outputs": [
    {
     "name": "stdout",
     "output_type": "stream",
     "text": [
      "train_credit_bureau_a_1_3.csv\n",
      "OrderedDict([('case_id', Int64), ('annualeffectiverate_199L', Float64), ('annualeffectiverate_63L', Float64), ('classificationofcontr_13M', String), ('classificationofcontr_400M', String), ('contractst_545M', String), ('contractst_964M', String), ('contractsum_5085717L', Float64), ('credlmt_230A', Float64), ('credlmt_935A', Float64), ('dateofcredend_289D', String), ('dateofcredend_353D', String), ('dateofcredstart_181D', String), ('dateofcredstart_739D', String), ('dateofrealrepmt_138D', String), ('debtoutstand_525A', Float64), ('debtoverdue_47A', Float64), ('description_351M', String), ('dpdmax_139P', Float64), ('dpdmax_757P', Float64), ('dpdmaxdatemonth_442T', Float64), ('dpdmaxdatemonth_89T', Float64), ('dpdmaxdateyear_596T', Float64), ('dpdmaxdateyear_896T', Float64), ('financialinstitution_382M', String), ('financialinstitution_591M', String), ('instlamount_768A', Float64), ('instlamount_852A', Float64), ('interestrate_508L', Float64), ('lastupdate_1112D', String), ('lastupdate_388D', String), ('monthlyinstlamount_332A', Float64), ('monthlyinstlamount_674A', Float64), ('nominalrate_281L', Float64), ('nominalrate_498L', Float64), ('num_group1', Int64), ('numberofcontrsvalue_258L', Float64), ('numberofcontrsvalue_358L', Float64), ('numberofinstls_229L', Float64), ('numberofinstls_320L', Float64), ('numberofoutstandinstls_520L', Float64), ('numberofoutstandinstls_59L', Float64), ('numberofoverdueinstlmax_1039L', Float64), ('numberofoverdueinstlmax_1151L', Float64), ('numberofoverdueinstlmaxdat_148D', String), ('numberofoverdueinstlmaxdat_641D', String), ('numberofoverdueinstls_725L', Float64), ('numberofoverdueinstls_834L', Float64), ('outstandingamount_354A', Float64), ('outstandingamount_362A', Float64), ('overdueamount_31A', Float64), ('overdueamount_659A', Float64), ('overdueamountmax2_14A', Float64), ('overdueamountmax2_398A', Float64), ('overdueamountmax2date_1002D', String), ('overdueamountmax2date_1142D', String), ('overdueamountmax_155A', Float64), ('overdueamountmax_35A', Float64), ('overdueamountmaxdatemonth_284T', Float64), ('overdueamountmaxdatemonth_365T', Float64), ('overdueamountmaxdateyear_2T', Float64), ('overdueamountmaxdateyear_994T', Float64), ('periodicityofpmts_1102L', Float64), ('periodicityofpmts_837L', Float64), ('prolongationcount_1120L', Float64), ('prolongationcount_599L', String), ('purposeofcred_426M', String), ('purposeofcred_874M', String), ('refreshdate_3813885D', String), ('residualamount_488A', Float64), ('residualamount_856A', Float64), ('subjectrole_182M', String), ('subjectrole_93M', String), ('totalamount_6A', Float64), ('totalamount_996A', Float64), ('totaldebtoverduevalue_178A', Float64), ('totaldebtoverduevalue_718A', Float64), ('totaloutstanddebtvalue_39A', Float64), ('totaloutstanddebtvalue_668A', Float64)])\n",
      "train_static_cb_0.csv\n",
      "OrderedDict([('case_id', Int64), ('assignmentdate_238D', String), ('assignmentdate_4527235D', String), ('assignmentdate_4955616D', String), ('birthdate_574D', String), ('contractssum_5085716L', String), ('dateofbirth_337D', String), ('dateofbirth_342D', String), ('days120_123L', Float64), ('days180_256L', Float64), ('days30_165L', Float64), ('days360_512L', Float64), ('days90_310L', Float64), ('description_5085714M', String), ('education_1103M', String), ('education_88M', String), ('firstquarter_103L', Float64), ('for3years_128L', Float64), ('for3years_504L', Float64), ('for3years_584L', Float64), ('formonth_118L', Float64), ('formonth_206L', Float64), ('formonth_535L', Float64), ('forquarter_1017L', Float64), ('forquarter_462L', Float64), ('forquarter_634L', Float64), ('fortoday_1092L', Float64), ('forweek_1077L', Float64), ('forweek_528L', Float64), ('forweek_601L', Float64), ('foryear_618L', Float64), ('foryear_818L', Float64), ('foryear_850L', Float64), ('fourthquarter_440L', Float64), ('maritalst_385M', String), ('maritalst_893M', String), ('numberofqueries_373L', Float64), ('pmtaverage_3A', Float64), ('pmtaverage_4527227A', String), ('pmtaverage_4955615A', String), ('pmtcount_4527229L', String), ('pmtcount_4955617L', String), ('pmtcount_693L', Float64), ('pmtscount_423L', Float64), ('pmtssum_45A', Float64), ('requesttype_4525192L', String), ('responsedate_1012D', String), ('responsedate_4527233D', String), ('responsedate_4917613D', String), ('riskassesment_302T', String), ('riskassesment_940T', Float64), ('secondquarter_766L', Float64), ('thirdquarter_1082L', Float64)])\n",
      "train_applprev_1_0.csv\n",
      "OrderedDict([('case_id', Int64), ('actualdpd_943P', Float64), ('annuity_853A', Float64), ('approvaldate_319D', String), ('byoccupationinc_3656910L', Float64), ('cancelreason_3545846M', String), ('childnum_21L', Float64), ('creationdate_885D', String), ('credacc_actualbalance_314A', Float64), ('credacc_credlmt_575A', Float64), ('credacc_maxhisbal_375A', Float64), ('credacc_minhisbal_90A', Float64), ('credacc_status_367L', String), ('credacc_transactions_402L', Float64), ('credamount_590A', Float64), ('credtype_587L', String), ('currdebt_94A', Float64), ('dateactivated_425D', String), ('district_544M', String), ('downpmt_134A', Float64), ('dtlastpmt_581D', String), ('dtlastpmtallstes_3545839D', String), ('education_1138M', String), ('employedfrom_700D', String), ('familystate_726L', String), ('firstnonzeroinstldate_307D', String), ('inittransactioncode_279L', String), ('isbidproduct_390L', Boolean), ('isdebitcard_527L', Boolean), ('mainoccupationinc_437A', Float64), ('maxdpdtolerance_577P', Float64), ('num_group1', Int64), ('outstandingdebt_522A', Float64), ('pmtnum_8L', Float64), ('postype_4733339M', String), ('profession_152M', String), ('rejectreason_755M', String), ('rejectreasonclient_4145042M', String), ('revolvingaccount_394A', Float64), ('status_219L', String), ('tenor_203L', Float64)])\n",
      "train_person_2.csv\n",
      "OrderedDict([('case_id', Int64), ('addres_district_368M', String), ('addres_role_871L', String), ('addres_zip_823M', String), ('conts_role_79M', String), ('empls_economicalst_849M', String), ('empls_employedfrom_796D', String), ('empls_employer_name_740M', String), ('num_group1', Int64), ('num_group2', Int64), ('relatedpersons_role_762T', String)])\n",
      "train_base.csv\n",
      "OrderedDict([('case_id', Int64), ('date_decision', String), ('MONTH', Int64), ('WEEK_NUM', Int64), ('target', Int64)])\n",
      "train_tax_registry_a_1.csv\n",
      "OrderedDict([('case_id', Int64), ('amount_4527230A', Float64), ('name_4527232M', String), ('num_group1', Int64), ('recorddate_4527225D', String)])\n",
      "train_static_0_0.csv\n",
      "OrderedDict([('case_id', Int64), ('actualdpdtolerance_344P', Float64), ('amtinstpaidbefduel24m_4187115A', String), ('annuity_780A', Float64), ('annuitynextmonth_57A', Float64), ('applicationcnt_361L', Float64), ('applications30d_658L', Float64), ('applicationscnt_1086L', Float64), ('applicationscnt_464L', Float64), ('applicationscnt_629L', Float64), ('applicationscnt_867L', Float64), ('avgdbddpdlast24m_3658932P', Float64), ('avgdbddpdlast3m_4187120P', String), ('avgdbdtollast24m_4525197P', String), ('avgdpdtolclosure24_3658938P', Float64), ('avginstallast24m_3658937A', Float64), ('avglnamtstart24m_4525187A', String), ('avgmaxdpdlast9m_3716943P', Float64), ('avgoutstandbalancel6m_4187114A', String), ('avgpmtlast12m_4525200A', String), ('bankacctype_710L', String), ('cardtype_51L', String), ('clientscnt12m_3712952L', Float64), ('clientscnt3m_3712950L', Float64), ('clientscnt6m_3712949L', Float64), ('clientscnt_100L', Float64), ('clientscnt_1022L', Float64), ('clientscnt_1071L', Float64), ('clientscnt_1130L', Float64), ('clientscnt_136L', Float64), ('clientscnt_157L', Float64), ('clientscnt_257L', Float64), ('clientscnt_304L', Float64), ('clientscnt_360L', Float64), ('clientscnt_493L', Float64), ('clientscnt_533L', Float64), ('clientscnt_887L', Float64), ('clientscnt_946L', Float64), ('cntincpaycont9m_3716944L', Float64), ('cntpmts24_3658933L', Float64), ('commnoinclast6m_3546845L', Float64), ('credamount_770A', Float64), ('credtype_322L', String), ('currdebt_22A', Float64), ('currdebtcredtyperange_828A', Float64), ('datefirstoffer_1144D', String), ('datelastinstal40dpd_247D', String), ('datelastunpaid_3546854D', String), ('daysoverduetolerancedd_3976961L', Float64), ('deferredmnthsnum_166L', Float64), ('disbursedcredamount_1113A', Float64), ('disbursementtype_67L', String), ('downpmt_116A', Float64), ('dtlastpmtallstes_4499206D', String), ('eir_270L', Float64), ('equalitydataagreement_891L', Boolean), ('equalityempfrom_62L', Boolean), ('firstclxcampaign_1125D', String), ('firstdatedue_489D', String), ('homephncnt_628L', Float64), ('inittransactionamount_650A', Float64), ('inittransactioncode_186L', String), ('interestrate_311L', Float64), ('interestrategrace_34L', Float64), ('isbidproduct_1095L', Boolean), ('isbidproductrequest_292L', Boolean), ('isdebitcard_729L', Boolean), ('lastactivateddate_801D', String), ('lastapplicationdate_877D', String), ('lastapprcommoditycat_1041M', String), ('lastapprcommoditytypec_5251766M', String), ('lastapprcredamount_781A', Float64), ('lastapprdate_640D', String), ('lastcancelreason_561M', String), ('lastdelinqdate_224D', String), ('lastdependentsnum_448L', String), ('lastotherinc_902A', String), ('lastotherlnsexpense_631A', String), ('lastrejectcommoditycat_161M', String), ('lastrejectcommodtypec_5251769M', String), ('lastrejectcredamount_222A', Float64), ('lastrejectdate_50D', String), ('lastrejectreason_759M', String), ('lastrejectreasonclient_4145040M', String), ('lastrepayingdate_696D', String), ('lastst_736L', String), ('maininc_215A', Float64), ('mastercontrelectronic_519L', Float64), ('mastercontrexist_109L', Float64), ('maxannuity_159A', Float64), ('maxannuity_4075009A', String), ('maxdbddpdlast1m_3658939P', Float64), ('maxdbddpdtollast12m_3658940P', Float64), ('maxdbddpdtollast6m_4187119P', String), ('maxdebt4_972A', Float64), ('maxdpdfrom6mto36m_3546853P', Float64), ('maxdpdinstldate_3546855D', String), ('maxdpdinstlnum_3546846P', Float64), ('maxdpdlast12m_727P', Float64), ('maxdpdlast24m_143P', Float64), ('maxdpdlast3m_392P', Float64), ('maxdpdlast6m_474P', Float64), ('maxdpdlast9m_1059P', Float64), ('maxdpdtolerance_374P', Float64), ('maxinstallast24m_3658928A', Float64), ('maxlnamtstart6m_4525199A', String), ('maxoutstandbalancel12m_4187113A', String), ('maxpmtlast3m_4525190A', String), ('mindbddpdlast24m_3658935P', Float64), ('mindbdtollast24m_4525191P', String), ('mobilephncnt_593L', Float64), ('monthsannuity_845L', Float64), ('numactivecreds_622L', Float64), ('numactivecredschannel_414L', Float64), ('numactiverelcontr_750L', Float64), ('numcontrs3months_479L', Float64), ('numincomingpmts_3546848L', Float64), ('numinstlallpaidearly3d_817L', Float64), ('numinstls_657L', Float64), ('numinstlsallpaid_934L', Float64), ('numinstlswithdpd10_728L', Float64), ('numinstlswithdpd5_4187116L', String), ('numinstlswithoutdpd_562L', Float64), ('numinstmatpaidtearly2d_4499204L', String), ('numinstpaid_4499208L', String), ('numinstpaidearly3d_3546850L', Float64), ('numinstpaidearly3dest_4493216L', String), ('numinstpaidearly5d_1087L', Float64), ('numinstpaidearly5dest_4493211L', String), ('numinstpaidearly5dobd_4499205L', String), ('numinstpaidearly_338L', Float64), ('numinstpaidearlyest_4493214L', String), ('numinstpaidlastcontr_4325080L', String), ('numinstpaidlate1d_3546852L', Float64), ('numinstregularpaid_973L', Float64), ('numinstregularpaidest_4493210L', String), ('numinsttopaygr_769L', Float64), ('numinsttopaygrest_4493213L', String), ('numinstunpaidmax_3546851L', Float64), ('numinstunpaidmaxest_4493212L', String), ('numnotactivated_1143L', Float64), ('numpmtchanneldd_318L', Float64), ('numrejects9m_859L', Float64), ('opencred_647L', Boolean), ('paytype1st_925L', String), ('paytype_783L', String), ('payvacationpostpone_4187118D', String), ('pctinstlsallpaidearl3d_427L', Float64), ('pctinstlsallpaidlat10d_839L', Float64), ('pctinstlsallpaidlate1d_3546856L', Float64), ('pctinstlsallpaidlate4d_3546849L', Float64), ('pctinstlsallpaidlate6d_3546844L', Float64), ('pmtnum_254L', Float64), ('posfpd10lastmonth_333P', Float64), ('posfpd30lastmonth_3976960P', Float64), ('posfstqpd30lastmonth_3976962P', Float64), ('previouscontdistrict_112M', String), ('price_1097A', Float64), ('sellerplacecnt_915L', Float64), ('sellerplacescnt_216L', Float64), ('sumoutstandtotal_3546847A', Float64), ('sumoutstandtotalest_4493215A', String), ('totaldebt_9A', Float64), ('totalsettled_863A', Float64), ('totinstallast1m_4525188A', String), ('twobodfilling_608L', String), ('typesuite_864L', String), ('validfrom_1069D', String)])\n",
      "train_credit_bureau_a_1_0.csv\n",
      "OrderedDict([('case_id', Int64), ('annualeffectiverate_199L', String), ('annualeffectiverate_63L', Float64), ('classificationofcontr_13M', String), ('classificationofcontr_400M', String), ('contractst_545M', String), ('contractst_964M', String), ('contractsum_5085717L', String), ('credlmt_230A', String), ('credlmt_935A', Float64), ('dateofcredend_289D', String), ('dateofcredend_353D', String), ('dateofcredstart_181D', String), ('dateofcredstart_739D', String), ('dateofrealrepmt_138D', String), ('debtoutstand_525A', Float64), ('debtoverdue_47A', Float64), ('description_351M', String), ('dpdmax_139P', Float64), ('dpdmax_757P', String), ('dpdmaxdatemonth_442T', String), ('dpdmaxdatemonth_89T', Float64), ('dpdmaxdateyear_596T', Float64), ('dpdmaxdateyear_896T', String), ('financialinstitution_382M', String), ('financialinstitution_591M', String), ('instlamount_768A', Float64), ('instlamount_852A', String), ('interestrate_508L', String), ('lastupdate_1112D', String), ('lastupdate_388D', String), ('monthlyinstlamount_332A', Float64), ('monthlyinstlamount_674A', String), ('nominalrate_281L', Float64), ('nominalrate_498L', String), ('num_group1', Int64), ('numberofcontrsvalue_258L', Float64), ('numberofcontrsvalue_358L', Float64), ('numberofinstls_229L', String), ('numberofinstls_320L', Float64), ('numberofoutstandinstls_520L', String), ('numberofoutstandinstls_59L', Float64), ('numberofoverdueinstlmax_1039L', Float64), ('numberofoverdueinstlmax_1151L', String), ('numberofoverdueinstlmaxdat_148D', String), ('numberofoverdueinstlmaxdat_641D', String), ('numberofoverdueinstls_725L', Float64), ('numberofoverdueinstls_834L', String), ('outstandingamount_354A', String), ('outstandingamount_362A', Float64), ('overdueamount_31A', String), ('overdueamount_659A', Float64), ('overdueamountmax2_14A', Float64), ('overdueamountmax2_398A', String), ('overdueamountmax2date_1002D', String), ('overdueamountmax2date_1142D', String), ('overdueamountmax_155A', Float64), ('overdueamountmax_35A', String), ('overdueamountmaxdatemonth_284T', String), ('overdueamountmaxdatemonth_365T', Float64), ('overdueamountmaxdateyear_2T', Float64), ('overdueamountmaxdateyear_994T', String), ('periodicityofpmts_1102L', String), ('periodicityofpmts_837L', Float64), ('prolongationcount_1120L', String), ('prolongationcount_599L', String), ('purposeofcred_426M', String), ('purposeofcred_874M', String), ('refreshdate_3813885D', String), ('residualamount_488A', String), ('residualamount_856A', Float64), ('subjectrole_182M', String), ('subjectrole_93M', String), ('totalamount_6A', String), ('totalamount_996A', Float64), ('totaldebtoverduevalue_178A', Float64), ('totaldebtoverduevalue_718A', Float64), ('totaloutstanddebtvalue_39A', Float64), ('totaloutstanddebtvalue_668A', Float64)])\n",
      "train_applprev_2.csv\n",
      "OrderedDict([('case_id', Int64), ('cacccardblochreas_147M', String), ('conts_type_509L', String), ('credacc_cards_status_52L', String), ('num_group1', Int64), ('num_group2', Int64)])\n",
      "train_credit_bureau_a_2_6.csv\n",
      "OrderedDict([('case_id', Int64), ('collater_typofvalofguarant_298M', String), ('collater_typofvalofguarant_407M', String), ('collater_valueofguarantee_1124L', Float64), ('collater_valueofguarantee_876L', Float64), ('collaterals_typeofguarante_359M', String), ('collaterals_typeofguarante_669M', String), ('num_group1', Int64), ('num_group2', Int64), ('pmts_dpd_1073P', Float64), ('pmts_dpd_303P', Float64), ('pmts_month_158T', Float64), ('pmts_month_706T', Float64), ('pmts_overdue_1140A', Float64), ('pmts_overdue_1152A', Float64), ('pmts_year_1139T', Float64), ('pmts_year_507T', Float64), ('subjectroles_name_541M', String), ('subjectroles_name_838M', String)])\n",
      "train_credit_bureau_a_1_2.csv\n",
      "OrderedDict([('case_id', Int64), ('annualeffectiverate_199L', Float64), ('annualeffectiverate_63L', Float64), ('classificationofcontr_13M', String), ('classificationofcontr_400M', String), ('contractst_545M', String), ('contractst_964M', String), ('contractsum_5085717L', String), ('credlmt_230A', Float64), ('credlmt_935A', Float64), ('dateofcredend_289D', String), ('dateofcredend_353D', String), ('dateofcredstart_181D', String), ('dateofcredstart_739D', String), ('dateofrealrepmt_138D', String), ('debtoutstand_525A', Float64), ('debtoverdue_47A', Float64), ('description_351M', String), ('dpdmax_139P', Float64), ('dpdmax_757P', Float64), ('dpdmaxdatemonth_442T', Float64), ('dpdmaxdatemonth_89T', Float64), ('dpdmaxdateyear_596T', Float64), ('dpdmaxdateyear_896T', Float64), ('financialinstitution_382M', String), ('financialinstitution_591M', String), ('instlamount_768A', Float64), ('instlamount_852A', Float64), ('interestrate_508L', String), ('lastupdate_1112D', String), ('lastupdate_388D', String), ('monthlyinstlamount_332A', Float64), ('monthlyinstlamount_674A', Float64), ('nominalrate_281L', Float64), ('nominalrate_498L', Float64), ('num_group1', Int64), ('numberofcontrsvalue_258L', Float64), ('numberofcontrsvalue_358L', Float64), ('numberofinstls_229L', Float64), ('numberofinstls_320L', Float64), ('numberofoutstandinstls_520L', Float64), ('numberofoutstandinstls_59L', Float64), ('numberofoverdueinstlmax_1039L', Float64), ('numberofoverdueinstlmax_1151L', Float64), ('numberofoverdueinstlmaxdat_148D', String), ('numberofoverdueinstlmaxdat_641D', String), ('numberofoverdueinstls_725L', Float64), ('numberofoverdueinstls_834L', Float64), ('outstandingamount_354A', Float64), ('outstandingamount_362A', Float64), ('overdueamount_31A', Float64), ('overdueamount_659A', Float64), ('overdueamountmax2_14A', Float64), ('overdueamountmax2_398A', Float64), ('overdueamountmax2date_1002D', String), ('overdueamountmax2date_1142D', String), ('overdueamountmax_155A', Float64), ('overdueamountmax_35A', Float64), ('overdueamountmaxdatemonth_284T', Float64), ('overdueamountmaxdatemonth_365T', Float64), ('overdueamountmaxdateyear_2T', Float64), ('overdueamountmaxdateyear_994T', Float64), ('periodicityofpmts_1102L', Float64), ('periodicityofpmts_837L', Float64), ('prolongationcount_1120L', Float64), ('prolongationcount_599L', String), ('purposeofcred_426M', String), ('purposeofcred_874M', String), ('refreshdate_3813885D', String), ('residualamount_488A', Float64), ('residualamount_856A', Float64), ('subjectrole_182M', String), ('subjectrole_93M', String), ('totalamount_6A', Float64), ('totalamount_996A', Float64), ('totaldebtoverduevalue_178A', Float64), ('totaldebtoverduevalue_718A', Float64), ('totaloutstanddebtvalue_39A', Float64), ('totaloutstanddebtvalue_668A', Float64)])\n",
      "train_person_1.csv\n",
      "OrderedDict([('case_id', Int64), ('birth_259D', String), ('birthdate_87D', String), ('childnum_185L', Float64), ('contaddr_district_15M', String), ('contaddr_matchlist_1032L', Boolean), ('contaddr_smempladdr_334L', Boolean), ('contaddr_zipcode_807M', String), ('education_927M', String), ('empl_employedfrom_271D', String), ('empl_employedtotal_800L', String), ('empl_industry_691L', String), ('empladdr_district_926M', String), ('empladdr_zipcode_114M', String), ('familystate_447L', String), ('gender_992L', String), ('housetype_905L', String), ('housingtype_772L', String), ('incometype_1044T', String), ('isreference_387L', Boolean), ('language1_981M', String), ('mainoccupationinc_384A', Float64), ('maritalst_703L', String), ('num_group1', Int64), ('personindex_1023L', Float64), ('persontype_1072L', Float64), ('persontype_792L', Float64), ('registaddr_district_1083M', String), ('registaddr_zipcode_184M', String), ('relationshiptoclient_415T', String), ('relationshiptoclient_642T', String), ('remitter_829L', Boolean), ('role_1084L', String), ('role_993L', String), ('safeguarantyflag_411L', Boolean), ('sex_738L', String), ('type_25L', String)])\n",
      "train_credit_bureau_a_1_1.csv\n",
      "OrderedDict([('case_id', Int64), ('annualeffectiverate_199L', Float64), ('annualeffectiverate_63L', Float64), ('classificationofcontr_13M', String), ('classificationofcontr_400M', String), ('contractst_545M', String), ('contractst_964M', String), ('contractsum_5085717L', String), ('credlmt_230A', Float64), ('credlmt_935A', Float64), ('dateofcredend_289D', String), ('dateofcredend_353D', String), ('dateofcredstart_181D', String), ('dateofcredstart_739D', String), ('dateofrealrepmt_138D', String), ('debtoutstand_525A', Float64), ('debtoverdue_47A', Float64), ('description_351M', String), ('dpdmax_139P', Float64), ('dpdmax_757P', Float64), ('dpdmaxdatemonth_442T', Float64), ('dpdmaxdatemonth_89T', Float64), ('dpdmaxdateyear_596T', Float64), ('dpdmaxdateyear_896T', Float64), ('financialinstitution_382M', String), ('financialinstitution_591M', String), ('instlamount_768A', Float64), ('instlamount_852A', Float64), ('interestrate_508L', String), ('lastupdate_1112D', String), ('lastupdate_388D', String), ('monthlyinstlamount_332A', Float64), ('monthlyinstlamount_674A', Float64), ('nominalrate_281L', Float64), ('nominalrate_498L', Float64), ('num_group1', Int64), ('numberofcontrsvalue_258L', Float64), ('numberofcontrsvalue_358L', Float64), ('numberofinstls_229L', Float64), ('numberofinstls_320L', Float64), ('numberofoutstandinstls_520L', Float64), ('numberofoutstandinstls_59L', Float64), ('numberofoverdueinstlmax_1039L', Float64), ('numberofoverdueinstlmax_1151L', Float64), ('numberofoverdueinstlmaxdat_148D', String), ('numberofoverdueinstlmaxdat_641D', String), ('numberofoverdueinstls_725L', Float64), ('numberofoverdueinstls_834L', Float64), ('outstandingamount_354A', Float64), ('outstandingamount_362A', Float64), ('overdueamount_31A', Float64), ('overdueamount_659A', Float64), ('overdueamountmax2_14A', Float64), ('overdueamountmax2_398A', Float64), ('overdueamountmax2date_1002D', String), ('overdueamountmax2date_1142D', String), ('overdueamountmax_155A', Float64), ('overdueamountmax_35A', Float64), ('overdueamountmaxdatemonth_284T', Float64), ('overdueamountmaxdatemonth_365T', Float64), ('overdueamountmaxdateyear_2T', Float64), ('overdueamountmaxdateyear_994T', Float64), ('periodicityofpmts_1102L', Float64), ('periodicityofpmts_837L', Float64), ('prolongationcount_1120L', Float64), ('prolongationcount_599L', Float64), ('purposeofcred_426M', String), ('purposeofcred_874M', String), ('refreshdate_3813885D', String), ('residualamount_488A', Float64), ('residualamount_856A', Float64), ('subjectrole_182M', String), ('subjectrole_93M', String), ('totalamount_6A', Float64), ('totalamount_996A', Float64), ('totaldebtoverduevalue_178A', Float64), ('totaldebtoverduevalue_718A', Float64), ('totaloutstanddebtvalue_39A', Float64), ('totaloutstanddebtvalue_668A', Float64)])\n",
      "train_tax_registry_c_1.csv\n",
      "OrderedDict([('case_id', Int64), ('employername_160M', String), ('num_group1', Int64), ('pmtamount_36A', Float64), ('processingdate_168D', String)])\n",
      "train_credit_bureau_a_2_4.csv\n",
      "OrderedDict([('case_id', Int64), ('collater_typofvalofguarant_298M', String), ('collater_typofvalofguarant_407M', String), ('collater_valueofguarantee_1124L', Float64), ('collater_valueofguarantee_876L', Float64), ('collaterals_typeofguarante_359M', String), ('collaterals_typeofguarante_669M', String), ('num_group1', Int64), ('num_group2', Int64), ('pmts_dpd_1073P', Float64), ('pmts_dpd_303P', Float64), ('pmts_month_158T', Float64), ('pmts_month_706T', Float64), ('pmts_overdue_1140A', Float64), ('pmts_overdue_1152A', Float64), ('pmts_year_1139T', Float64), ('pmts_year_507T', Float64), ('subjectroles_name_541M', String), ('subjectroles_name_838M', String)])\n",
      "train_credit_bureau_a_2_9.csv\n",
      "OrderedDict([('case_id', Int64), ('collater_typofvalofguarant_298M', String), ('collater_typofvalofguarant_407M', String), ('collater_valueofguarantee_1124L', Float64), ('collater_valueofguarantee_876L', Float64), ('collaterals_typeofguarante_359M', String), ('collaterals_typeofguarante_669M', String), ('num_group1', Int64), ('num_group2', Int64), ('pmts_dpd_1073P', Float64), ('pmts_dpd_303P', Float64), ('pmts_month_158T', Float64), ('pmts_month_706T', Float64), ('pmts_overdue_1140A', Float64), ('pmts_overdue_1152A', Float64), ('pmts_year_1139T', Float64), ('pmts_year_507T', Float64), ('subjectroles_name_541M', String), ('subjectroles_name_838M', String)])\n",
      "train_credit_bureau_a_2_3.csv\n",
      "OrderedDict([('case_id', Int64), ('collater_typofvalofguarant_298M', String), ('collater_typofvalofguarant_407M', String), ('collater_valueofguarantee_1124L', Float64), ('collater_valueofguarantee_876L', Float64), ('collaterals_typeofguarante_359M', String), ('collaterals_typeofguarante_669M', String), ('num_group1', Int64), ('num_group2', Int64), ('pmts_dpd_1073P', Float64), ('pmts_dpd_303P', Float64), ('pmts_month_158T', Float64), ('pmts_month_706T', Float64), ('pmts_overdue_1140A', Float64), ('pmts_overdue_1152A', Float64), ('pmts_year_1139T', Float64), ('pmts_year_507T', Float64), ('subjectroles_name_541M', String), ('subjectroles_name_838M', String)])\n",
      "train_credit_bureau_a_2_7.csv\n",
      "OrderedDict([('case_id', Int64), ('collater_typofvalofguarant_298M', String), ('collater_typofvalofguarant_407M', String), ('collater_valueofguarantee_1124L', Float64), ('collater_valueofguarantee_876L', Float64), ('collaterals_typeofguarante_359M', String), ('collaterals_typeofguarante_669M', String), ('num_group1', Int64), ('num_group2', Int64), ('pmts_dpd_1073P', Float64), ('pmts_dpd_303P', Float64), ('pmts_month_158T', Float64), ('pmts_month_706T', Float64), ('pmts_overdue_1140A', Float64), ('pmts_overdue_1152A', Float64), ('pmts_year_1139T', Float64), ('pmts_year_507T', Float64), ('subjectroles_name_541M', String), ('subjectroles_name_838M', String)])\n",
      "train_credit_bureau_b_2.csv\n",
      "OrderedDict([('case_id', Int64), ('num_group1', Int64), ('num_group2', Int64), ('pmts_date_1107D', String), ('pmts_dpdvalue_108P', Float64), ('pmts_pmtsoverdue_635A', Float64)])\n",
      "train_credit_bureau_a_2_2.csv\n",
      "OrderedDict([('case_id', Int64), ('collater_typofvalofguarant_298M', String), ('collater_typofvalofguarant_407M', String), ('collater_valueofguarantee_1124L', Float64), ('collater_valueofguarantee_876L', String), ('collaterals_typeofguarante_359M', String), ('collaterals_typeofguarante_669M', String), ('num_group1', Int64), ('num_group2', Int64), ('pmts_dpd_1073P', Float64), ('pmts_dpd_303P', String), ('pmts_month_158T', Float64), ('pmts_month_706T', String), ('pmts_overdue_1140A', Float64), ('pmts_overdue_1152A', String), ('pmts_year_1139T', Float64), ('pmts_year_507T', String), ('subjectroles_name_541M', String), ('subjectroles_name_838M', String)])\n",
      "train_static_0_1.csv\n",
      "OrderedDict([('case_id', Int64), ('actualdpdtolerance_344P', Float64), ('amtinstpaidbefduel24m_4187115A', Float64), ('annuity_780A', Float64), ('annuitynextmonth_57A', Float64), ('applicationcnt_361L', Float64), ('applications30d_658L', Float64), ('applicationscnt_1086L', Float64), ('applicationscnt_464L', Float64), ('applicationscnt_629L', Float64), ('applicationscnt_867L', Float64), ('avgdbddpdlast24m_3658932P', Float64), ('avgdbddpdlast3m_4187120P', Float64), ('avgdbdtollast24m_4525197P', Float64), ('avgdpdtolclosure24_3658938P', Float64), ('avginstallast24m_3658937A', Float64), ('avglnamtstart24m_4525187A', Float64), ('avgmaxdpdlast9m_3716943P', Float64), ('avgoutstandbalancel6m_4187114A', Float64), ('avgpmtlast12m_4525200A', Float64), ('bankacctype_710L', String), ('cardtype_51L', String), ('clientscnt12m_3712952L', Float64), ('clientscnt3m_3712950L', Float64), ('clientscnt6m_3712949L', Float64), ('clientscnt_100L', Float64), ('clientscnt_1022L', Float64), ('clientscnt_1071L', Float64), ('clientscnt_1130L', Float64), ('clientscnt_136L', String), ('clientscnt_157L', Float64), ('clientscnt_257L', Float64), ('clientscnt_304L', Float64), ('clientscnt_360L', Float64), ('clientscnt_493L', Float64), ('clientscnt_533L', Float64), ('clientscnt_887L', Float64), ('clientscnt_946L', Float64), ('cntincpaycont9m_3716944L', Float64), ('cntpmts24_3658933L', Float64), ('commnoinclast6m_3546845L', Float64), ('credamount_770A', Float64), ('credtype_322L', String), ('currdebt_22A', Float64), ('currdebtcredtyperange_828A', Float64), ('datefirstoffer_1144D', String), ('datelastinstal40dpd_247D', String), ('datelastunpaid_3546854D', String), ('daysoverduetolerancedd_3976961L', Float64), ('deferredmnthsnum_166L', Float64), ('disbursedcredamount_1113A', Float64), ('disbursementtype_67L', String), ('downpmt_116A', Float64), ('dtlastpmtallstes_4499206D', String), ('eir_270L', Float64), ('equalitydataagreement_891L', Boolean), ('equalityempfrom_62L', Boolean), ('firstclxcampaign_1125D', String), ('firstdatedue_489D', String), ('homephncnt_628L', Float64), ('inittransactionamount_650A', Float64), ('inittransactioncode_186L', String), ('interestrate_311L', Float64), ('interestrategrace_34L', Float64), ('isbidproduct_1095L', Boolean), ('isbidproductrequest_292L', String), ('isdebitcard_729L', Boolean), ('lastactivateddate_801D', String), ('lastapplicationdate_877D', String), ('lastapprcommoditycat_1041M', String), ('lastapprcommoditytypec_5251766M', String), ('lastapprcredamount_781A', Float64), ('lastapprdate_640D', String), ('lastcancelreason_561M', String), ('lastdelinqdate_224D', String), ('lastdependentsnum_448L', String), ('lastotherinc_902A', String), ('lastotherlnsexpense_631A', String), ('lastrejectcommoditycat_161M', String), ('lastrejectcommodtypec_5251769M', String), ('lastrejectcredamount_222A', Float64), ('lastrejectdate_50D', String), ('lastrejectreason_759M', String), ('lastrejectreasonclient_4145040M', String), ('lastrepayingdate_696D', String), ('lastst_736L', String), ('maininc_215A', Float64), ('mastercontrelectronic_519L', Float64), ('mastercontrexist_109L', Float64), ('maxannuity_159A', Float64), ('maxannuity_4075009A', String), ('maxdbddpdlast1m_3658939P', Float64), ('maxdbddpdtollast12m_3658940P', Float64), ('maxdbddpdtollast6m_4187119P', Float64), ('maxdebt4_972A', Float64), ('maxdpdfrom6mto36m_3546853P', Float64), ('maxdpdinstldate_3546855D', String), ('maxdpdinstlnum_3546846P', Float64), ('maxdpdlast12m_727P', Float64), ('maxdpdlast24m_143P', Float64), ('maxdpdlast3m_392P', Float64), ('maxdpdlast6m_474P', Float64), ('maxdpdlast9m_1059P', Float64), ('maxdpdtolerance_374P', Float64), ('maxinstallast24m_3658928A', Float64), ('maxlnamtstart6m_4525199A', Float64), ('maxoutstandbalancel12m_4187113A', Float64), ('maxpmtlast3m_4525190A', Float64), ('mindbddpdlast24m_3658935P', Float64), ('mindbdtollast24m_4525191P', Float64), ('mobilephncnt_593L', Float64), ('monthsannuity_845L', Float64), ('numactivecreds_622L', Float64), ('numactivecredschannel_414L', Float64), ('numactiverelcontr_750L', Float64), ('numcontrs3months_479L', Float64), ('numincomingpmts_3546848L', Float64), ('numinstlallpaidearly3d_817L', Float64), ('numinstls_657L', Float64), ('numinstlsallpaid_934L', Float64), ('numinstlswithdpd10_728L', Float64), ('numinstlswithdpd5_4187116L', Float64), ('numinstlswithoutdpd_562L', Float64), ('numinstmatpaidtearly2d_4499204L', Float64), ('numinstpaid_4499208L', Float64), ('numinstpaidearly3d_3546850L', Float64), ('numinstpaidearly3dest_4493216L', Float64), ('numinstpaidearly5d_1087L', Float64), ('numinstpaidearly5dest_4493211L', Float64), ('numinstpaidearly5dobd_4499205L', Float64), ('numinstpaidearly_338L', Float64), ('numinstpaidearlyest_4493214L', Float64), ('numinstpaidlastcontr_4325080L', Float64), ('numinstpaidlate1d_3546852L', Float64), ('numinstregularpaid_973L', Float64), ('numinstregularpaidest_4493210L', Float64), ('numinsttopaygr_769L', Float64), ('numinsttopaygrest_4493213L', Float64), ('numinstunpaidmax_3546851L', Float64), ('numinstunpaidmaxest_4493212L', Float64), ('numnotactivated_1143L', Float64), ('numpmtchanneldd_318L', Float64), ('numrejects9m_859L', Float64), ('opencred_647L', Boolean), ('paytype1st_925L', String), ('paytype_783L', String), ('payvacationpostpone_4187118D', String), ('pctinstlsallpaidearl3d_427L', Float64), ('pctinstlsallpaidlat10d_839L', Float64), ('pctinstlsallpaidlate1d_3546856L', Float64), ('pctinstlsallpaidlate4d_3546849L', Float64), ('pctinstlsallpaidlate6d_3546844L', Float64), ('pmtnum_254L', Float64), ('posfpd10lastmonth_333P', Float64), ('posfpd30lastmonth_3976960P', Float64), ('posfstqpd30lastmonth_3976962P', Float64), ('previouscontdistrict_112M', String), ('price_1097A', Float64), ('sellerplacecnt_915L', Float64), ('sellerplacescnt_216L', Float64), ('sumoutstandtotal_3546847A', Float64), ('sumoutstandtotalest_4493215A', Float64), ('totaldebt_9A', Float64), ('totalsettled_863A', Float64), ('totinstallast1m_4525188A', Float64), ('twobodfilling_608L', String), ('typesuite_864L', String), ('validfrom_1069D', String)])\n",
      "train_deposit_1.csv\n",
      "OrderedDict([('case_id', Int64), ('amount_416A', Float64), ('contractenddate_991D', String), ('num_group1', Int64), ('openingdate_313D', String)])\n",
      "train_credit_bureau_a_2_10.csv\n",
      "OrderedDict([('case_id', Int64), ('collater_typofvalofguarant_298M', String), ('collater_typofvalofguarant_407M', String), ('collater_valueofguarantee_1124L', String), ('collater_valueofguarantee_876L', Float64), ('collaterals_typeofguarante_359M', String), ('collaterals_typeofguarante_669M', String), ('num_group1', Int64), ('num_group2', Int64), ('pmts_dpd_1073P', String), ('pmts_dpd_303P', Float64), ('pmts_month_158T', String), ('pmts_month_706T', Float64), ('pmts_overdue_1140A', String), ('pmts_overdue_1152A', Float64), ('pmts_year_1139T', String), ('pmts_year_507T', Float64), ('subjectroles_name_541M', String), ('subjectroles_name_838M', String)])\n",
      "train_tax_registry_b_1.csv\n",
      "OrderedDict([('case_id', Int64), ('amount_4917619A', Float64), ('deductiondate_4917603D', String), ('name_4917606M', String), ('num_group1', Int64)])\n",
      "train_applprev_1_1.csv\n",
      "OrderedDict([('case_id', Int64), ('actualdpd_943P', Float64), ('annuity_853A', Float64), ('approvaldate_319D', String), ('byoccupationinc_3656910L', Float64), ('cancelreason_3545846M', String), ('childnum_21L', Float64), ('creationdate_885D', String), ('credacc_actualbalance_314A', Float64), ('credacc_credlmt_575A', Float64), ('credacc_maxhisbal_375A', Float64), ('credacc_minhisbal_90A', Float64), ('credacc_status_367L', String), ('credacc_transactions_402L', Float64), ('credamount_590A', Float64), ('credtype_587L', String), ('currdebt_94A', Float64), ('dateactivated_425D', String), ('district_544M', String), ('downpmt_134A', Float64), ('dtlastpmt_581D', String), ('dtlastpmtallstes_3545839D', String), ('education_1138M', String), ('employedfrom_700D', String), ('familystate_726L', String), ('firstnonzeroinstldate_307D', String), ('inittransactioncode_279L', String), ('isbidproduct_390L', Boolean), ('isdebitcard_527L', Boolean), ('mainoccupationinc_437A', Float64), ('maxdpdtolerance_577P', Float64), ('num_group1', Int64), ('outstandingdebt_522A', Float64), ('pmtnum_8L', Float64), ('postype_4733339M', String), ('profession_152M', String), ('rejectreason_755M', String), ('rejectreasonclient_4145042M', String), ('revolvingaccount_394A', Float64), ('status_219L', String), ('tenor_203L', Float64)])\n",
      "train_credit_bureau_a_2_1.csv\n",
      "OrderedDict([('case_id', Int64), ('collater_typofvalofguarant_298M', String), ('collater_typofvalofguarant_407M', String), ('collater_valueofguarantee_1124L', Float64), ('collater_valueofguarantee_876L', String), ('collaterals_typeofguarante_359M', String), ('collaterals_typeofguarante_669M', String), ('num_group1', Int64), ('num_group2', Int64), ('pmts_dpd_1073P', Float64), ('pmts_dpd_303P', String), ('pmts_month_158T', Float64), ('pmts_month_706T', String), ('pmts_overdue_1140A', Float64), ('pmts_overdue_1152A', String), ('pmts_year_1139T', Float64), ('pmts_year_507T', String), ('subjectroles_name_541M', String), ('subjectroles_name_838M', String)])\n",
      "train_credit_bureau_a_2_8.csv\n",
      "OrderedDict([('case_id', Int64), ('collater_typofvalofguarant_298M', String), ('collater_typofvalofguarant_407M', String), ('collater_valueofguarantee_1124L', Float64), ('collater_valueofguarantee_876L', Float64), ('collaterals_typeofguarante_359M', String), ('collaterals_typeofguarante_669M', String), ('num_group1', Int64), ('num_group2', Int64), ('pmts_dpd_1073P', Float64), ('pmts_dpd_303P', Float64), ('pmts_month_158T', Float64), ('pmts_month_706T', Float64), ('pmts_overdue_1140A', Float64), ('pmts_overdue_1152A', Float64), ('pmts_year_1139T', Float64), ('pmts_year_507T', Float64), ('subjectroles_name_541M', String), ('subjectroles_name_838M', String)])\n",
      "train_credit_bureau_a_2_5.csv\n",
      "OrderedDict([('case_id', Int64), ('collater_typofvalofguarant_298M', String), ('collater_typofvalofguarant_407M', String), ('collater_valueofguarantee_1124L', Float64), ('collater_valueofguarantee_876L', Float64), ('collaterals_typeofguarante_359M', String), ('collaterals_typeofguarante_669M', String), ('num_group1', Int64), ('num_group2', Int64), ('pmts_dpd_1073P', Float64), ('pmts_dpd_303P', Float64), ('pmts_month_158T', Float64), ('pmts_month_706T', Float64), ('pmts_overdue_1140A', Float64), ('pmts_overdue_1152A', Float64), ('pmts_year_1139T', Float64), ('pmts_year_507T', Float64), ('subjectroles_name_541M', String), ('subjectroles_name_838M', String)])\n",
      "train_credit_bureau_b_1.csv\n",
      "OrderedDict([('case_id', Int64), ('amount_1115A', Float64), ('classificationofcontr_1114M', String), ('contractdate_551D', String), ('contractmaturitydate_151D', String), ('contractst_516M', String), ('contracttype_653M', String), ('credlmt_1052A', Float64), ('credlmt_228A', Float64), ('credlmt_3940954A', Float64), ('credor_3940957M', String), ('credquantity_1099L', Float64), ('credquantity_984L', Float64), ('debtpastduevalue_732A', Float64), ('debtvalue_227A', Float64), ('dpd_550P', Float64), ('dpd_733P', Float64), ('dpdmax_851P', Float64), ('dpdmaxdatemonth_804T', Float64), ('dpdmaxdateyear_742T', Float64), ('installmentamount_644A', Float64), ('installmentamount_833A', Float64), ('instlamount_892A', Float64), ('interesteffectiverate_369L', Float64), ('interestrateyearly_538L', Float64), ('lastupdate_260D', String), ('maxdebtpduevalodued_3940955A', Float64), ('num_group1', Int64), ('numberofinstls_810L', Float64), ('overdueamountmax_950A', Float64), ('overdueamountmaxdatemonth_494T', Float64), ('overdueamountmaxdateyear_432T', Float64), ('periodicityofpmts_997L', String), ('periodicityofpmts_997M', String), ('pmtdaysoverdue_1135P', Float64), ('pmtmethod_731M', String), ('pmtnumpending_403L', Float64), ('purposeofcred_722M', String), ('residualamount_1093A', Float64), ('residualamount_127A', Float64), ('residualamount_3940956A', Float64), ('subjectrole_326M', String), ('subjectrole_43M', String), ('totalamount_503A', Float64), ('totalamount_881A', Float64)])\n",
      "train_credit_bureau_a_2_0.csv\n",
      "OrderedDict([('case_id', Int64), ('collater_typofvalofguarant_298M', String), ('collater_typofvalofguarant_407M', String), ('collater_valueofguarantee_1124L', Float64), ('collater_valueofguarantee_876L', String), ('collaterals_typeofguarante_359M', String), ('collaterals_typeofguarante_669M', String), ('num_group1', Int64), ('num_group2', Int64), ('pmts_dpd_1073P', Float64), ('pmts_dpd_303P', String), ('pmts_month_158T', Float64), ('pmts_month_706T', String), ('pmts_overdue_1140A', Float64), ('pmts_overdue_1152A', String), ('pmts_year_1139T', Float64), ('pmts_year_507T', String), ('subjectroles_name_541M', String), ('subjectroles_name_838M', String)])\n",
      "train_other_1.csv\n",
      "OrderedDict([('case_id', Int64), ('amtdebitincoming_4809443A', Float64), ('amtdebitoutgoing_4809440A', Float64), ('amtdepositbalance_4809441A', Float64), ('amtdepositincoming_4809444A', Float64), ('amtdepositoutgoing_4809442A', Float64), ('num_group1', Int64)])\n",
      "train_debitcard_1.csv\n",
      "OrderedDict([('case_id', Int64), ('last180dayaveragebalance_704A', String), ('last180dayturnover_1134A', String), ('last30dayturnover_651A', String), ('num_group1', Int64), ('openingdate_857D', String)])\n"
     ]
    }
   ],
   "source": [
    "for file in d:\n",
    "    temp_file = pl.read_csv(TRAIN_DIR/file)\n",
    "#     print(\"\\n\",\"*\"*10)\n",
    "    print(file)\n",
    "    print(temp_file.schema)"
   ]
  },
  {
   "cell_type": "code",
   "execution_count": 8,
   "id": "d5f259a9",
   "metadata": {
    "execution": {
     "iopub.execute_input": "2024-02-09T07:17:09.020987Z",
     "iopub.status.busy": "2024-02-09T07:17:09.020569Z",
     "iopub.status.idle": "2024-02-09T07:17:09.028721Z",
     "shell.execute_reply": "2024-02-09T07:17:09.027502Z"
    },
    "papermill": {
     "duration": 0.027083,
     "end_time": "2024-02-09T07:17:09.031282",
     "exception": false,
     "start_time": "2024-02-09T07:17:09.004199",
     "status": "completed"
    },
    "tags": []
   },
   "outputs": [],
   "source": [
    "def set_table_dtypes(df):\n",
    "    for col in df.columns:\n",
    "        if col[-1] in (\"P\", \"A\"):\n",
    "            df = df.with_columns(pl.col(col).cast(pl.Float64).alias(col))\n",
    "        if col[-1] in (\"M\"):\n",
    "            df = df.with_columns(pl.col(col).cast(pl.String).alias(col))\n",
    "\n",
    "    return df"
   ]
  },
  {
   "cell_type": "code",
   "execution_count": 9,
   "id": "fc110392",
   "metadata": {
    "execution": {
     "iopub.execute_input": "2024-02-09T07:17:09.053961Z",
     "iopub.status.busy": "2024-02-09T07:17:09.053353Z",
     "iopub.status.idle": "2024-02-09T07:17:09.059281Z",
     "shell.execute_reply": "2024-02-09T07:17:09.058413Z"
    },
    "papermill": {
     "duration": 0.020007,
     "end_time": "2024-02-09T07:17:09.061608",
     "exception": false,
     "start_time": "2024-02-09T07:17:09.041601",
     "status": "completed"
    },
    "tags": []
   },
   "outputs": [],
   "source": [
    "def handle_dates(df):\n",
    "    for col in df.columns:\n",
    "        if col[-1] in (\"D\"):\n",
    "            df = df.with_columns(pl.col(col).cast(pl.Date).alias(col))\n",
    "            df = df.with_columns(pl.col(col) - pl.col(\"date_decision\"))\n",
    "            df = df.with_columns(pl.col(col).dt.total_days())\n",
    "            \n",
    "    return df"
   ]
  },
  {
   "cell_type": "code",
   "execution_count": 10,
   "id": "64bd456d",
   "metadata": {
    "execution": {
     "iopub.execute_input": "2024-02-09T07:17:09.084038Z",
     "iopub.status.busy": "2024-02-09T07:17:09.083442Z",
     "iopub.status.idle": "2024-02-09T07:17:09.091033Z",
     "shell.execute_reply": "2024-02-09T07:17:09.090197Z"
    },
    "papermill": {
     "duration": 0.021867,
     "end_time": "2024-02-09T07:17:09.093631",
     "exception": false,
     "start_time": "2024-02-09T07:17:09.071764",
     "status": "completed"
    },
    "tags": []
   },
   "outputs": [],
   "source": [
    "def filter_cols(df):\n",
    "    \n",
    "    # Drop if null count of column higher than 80%\n",
    "    \n",
    "    for col in df.columns:\n",
    "        if col in [\"case_id\", \"WEEK_NUM\"]:\n",
    "            continue\n",
    "            \n",
    "        isnull = df[col].is_null().mean()\n",
    "        \n",
    "        if isnull > 0.8:\n",
    "            df = df.drop(col)\n",
    "            \n",
    "    # Drop if number of unique values of column is not between 2-100\n",
    "            \n",
    "    for col in df.columns[1:]:\n",
    "        if col in [\"case_id\", \"WEEK_NUM\"]:\n",
    "            continue\n",
    "        if df[col].dtype != pl.String:\n",
    "            continue\n",
    "            \n",
    "        freq = df[col].n_unique()\n",
    "        \n",
    "        if (freq == 1) | (freq > 100):\n",
    "            df = df.drop(col)\n",
    "\n",
    "    return df"
   ]
  },
  {
   "cell_type": "code",
   "execution_count": 11,
   "id": "061d6e1d",
   "metadata": {
    "execution": {
     "iopub.execute_input": "2024-02-09T07:17:09.116268Z",
     "iopub.status.busy": "2024-02-09T07:17:09.115534Z",
     "iopub.status.idle": "2024-02-09T07:17:09.120284Z",
     "shell.execute_reply": "2024-02-09T07:17:09.119435Z"
    },
    "papermill": {
     "duration": 0.018704,
     "end_time": "2024-02-09T07:17:09.122573",
     "exception": false,
     "start_time": "2024-02-09T07:17:09.103869",
     "status": "completed"
    },
    "tags": []
   },
   "outputs": [],
   "source": [
    "def read_file(path):\n",
    "    df = pl.read_csv(path)\n",
    "    df = df.pipe(set_table_dtypes)\n",
    "    \n",
    "    return df"
   ]
  },
  {
   "cell_type": "code",
   "execution_count": 12,
   "id": "ddfaff10",
   "metadata": {
    "execution": {
     "iopub.execute_input": "2024-02-09T07:17:09.145036Z",
     "iopub.status.busy": "2024-02-09T07:17:09.144440Z",
     "iopub.status.idle": "2024-02-09T07:17:09.154358Z",
     "shell.execute_reply": "2024-02-09T07:17:09.153376Z"
    },
    "papermill": {
     "duration": 0.024381,
     "end_time": "2024-02-09T07:17:09.157037",
     "exception": false,
     "start_time": "2024-02-09T07:17:09.132656",
     "status": "completed"
    },
    "tags": []
   },
   "outputs": [],
   "source": [
    "\n",
    "def feature_eng(df_base, df_person_1, df_static, df_static_cb, df_credit_bureau_b_2):\n",
    "    df_base = (\n",
    "        df_base\n",
    "        .with_columns(\n",
    "            date_decision = pl.col(\"date_decision\").cast(pl.Date),\n",
    "            WEEK_NUM = pl.col(\"WEEK_NUM\").cast(pl.Int32),\n",
    "        )\n",
    "        .with_columns(\n",
    "            month_decision = pl.col(\"date_decision\").dt.month(),\n",
    "            weekday_decision = pl.col(\"date_decision\").dt.weekday(),\n",
    "        )\n",
    "    )\n",
    "    \n",
    "    df_person_1 = (\n",
    "        df_person_1\n",
    "        .group_by(\"case_id\")\n",
    "        .agg(\n",
    "            [pl.max(col) for col in df_person_1.columns if col != \"case_id\"],\n",
    "        )\n",
    "    )\n",
    "    \n",
    "    df_credit_bureau_b_2 = (\n",
    "        df_credit_bureau_b_2\n",
    "        .group_by(\"case_id\")\n",
    "        .agg(\n",
    "            [pl.max(col) for col in df_credit_bureau_b_2.columns if col != \"case_id\"],\n",
    "        )\n",
    "    )\n",
    "\n",
    "    df_data = (\n",
    "        df_base\n",
    "        .join(df_person_1, how=\"left\", on=\"case_id\", suffix=\"_p1\")\n",
    "        .join(df_static, how=\"left\", on=\"case_id\", suffix=\"_s\")\n",
    "        .join(df_static_cb, how=\"left\", on=\"case_id\", suffix=\"_scb\")\n",
    "        .join(df_credit_bureau_b_2, how=\"left\", on=\"case_id\", suffix=\"cbb2\")\n",
    "    )\n",
    "    \n",
    "    return df_data"
   ]
  },
  {
   "cell_type": "code",
   "execution_count": 13,
   "id": "8ca277ed",
   "metadata": {
    "execution": {
     "iopub.execute_input": "2024-02-09T07:17:09.179158Z",
     "iopub.status.busy": "2024-02-09T07:17:09.178765Z",
     "iopub.status.idle": "2024-02-09T07:17:09.184644Z",
     "shell.execute_reply": "2024-02-09T07:17:09.183530Z"
    },
    "papermill": {
     "duration": 0.019658,
     "end_time": "2024-02-09T07:17:09.186891",
     "exception": false,
     "start_time": "2024-02-09T07:17:09.167233",
     "status": "completed"
    },
    "tags": []
   },
   "outputs": [],
   "source": [
    "def to_pandas(df_data, cat_cols=None):\n",
    "    df_data = df_data.to_pandas()\n",
    "    \n",
    "    if cat_cols is None:\n",
    "        cat_cols = list(df_data.select_dtypes(\"object\").columns)\n",
    "    \n",
    "    df_data[cat_cols] = df_data[cat_cols].astype(\"category\")\n",
    "    \n",
    "    return df_data, cat_cols"
   ]
  },
  {
   "cell_type": "code",
   "execution_count": 14,
   "id": "3ad3a7a0",
   "metadata": {
    "execution": {
     "iopub.execute_input": "2024-02-09T07:17:09.209182Z",
     "iopub.status.busy": "2024-02-09T07:17:09.208459Z",
     "iopub.status.idle": "2024-02-09T07:17:09.213124Z",
     "shell.execute_reply": "2024-02-09T07:17:09.212114Z"
    },
    "papermill": {
     "duration": 0.018513,
     "end_time": "2024-02-09T07:17:09.215610",
     "exception": false,
     "start_time": "2024-02-09T07:17:09.197097",
     "status": "completed"
    },
    "tags": []
   },
   "outputs": [],
   "source": [
    "# d1 = pl.read_csv(TRAIN_DIR/'train_person_1.csv')\n",
    "# d2 = pl.read_csv(TRAIN_DIR/'train_person_2.csv')\n",
    "# count = 0\n",
    "# for i in d1.columns:\n",
    "#     for j in d2.columns:\n",
    "#         if i == j:\n",
    "#             count=+1\n",
    "#             print(i,j)"
   ]
  },
  {
   "cell_type": "code",
   "execution_count": 15,
   "id": "bc9542ce",
   "metadata": {
    "execution": {
     "iopub.execute_input": "2024-02-09T07:17:09.236952Z",
     "iopub.status.busy": "2024-02-09T07:17:09.236572Z",
     "iopub.status.idle": "2024-02-09T07:17:09.241624Z",
     "shell.execute_reply": "2024-02-09T07:17:09.240587Z"
    },
    "papermill": {
     "duration": 0.018396,
     "end_time": "2024-02-09T07:17:09.243966",
     "exception": false,
     "start_time": "2024-02-09T07:17:09.225570",
     "status": "completed"
    },
    "tags": []
   },
   "outputs": [],
   "source": [
    "# df_base              = read_file(TRAIN_DIR / \"train_base.csv\")\n",
    "# df_static_cb         = read_file(TRAIN_DIR / \"train_static_cb_0.cvs\")\n",
    "# df_person_1          = read_file(TRAIN_DIR / \"train_person_1.csv\")\n",
    "# df_credit_bureau_b_2 = read_file(TRAIN_DIR / \"train_credit_bureau_b_2.cvs\")\n",
    "# df_person_1          = read_file(TRAIN_DIR / \"train_person_1.csv\")\n",
    "# df_credit_bureau_b_1 = pl.concat([\n",
    "#     read_file(TRAIN / \"train_credit_bureau_a_1_0.csv\"),\n",
    "#     read_file(TRAIN / \"train_credit_bureau_a_1_0.csv\"),\n",
    "#     read_file(TRAIN / \"train_credit_bureau_a_1_0.csv\"),\n",
    "# ],how=\"vertical_relaxed\")\n",
    "\n",
    "# df_applprev = pl.concat([\n",
    "#     read_file(TRAIN / \"train_applprev_1_0.csv\"),\n",
    "#     read_file(TRAIN / \"train_applprev_1_1.csv\")\n",
    "# ],how=\"vertical_relaxed\")\n",
    "# df_static = pl.concat([\n",
    "#     read_file(TRAIN_DIR / \"train_static_0_0.parquet\"),\n",
    "#     read_file(TRAIN_DIR / \"train_static_0_1.parquet\"),\n",
    "# ], how=\"vertical_relaxed\")"
   ]
  },
  {
   "cell_type": "code",
   "execution_count": 16,
   "id": "b701d7b3",
   "metadata": {
    "execution": {
     "iopub.execute_input": "2024-02-09T07:17:09.266044Z",
     "iopub.status.busy": "2024-02-09T07:17:09.265360Z",
     "iopub.status.idle": "2024-02-09T07:17:09.270531Z",
     "shell.execute_reply": "2024-02-09T07:17:09.269458Z"
    },
    "papermill": {
     "duration": 0.018974,
     "end_time": "2024-02-09T07:17:09.272824",
     "exception": false,
     "start_time": "2024-02-09T07:17:09.253850",
     "status": "completed"
    },
    "tags": []
   },
   "outputs": [],
   "source": [
    "# def check_id(file_list):\n",
    "#     count = 0\n",
    "#     l = []\n",
    "#     t = len(file_list)\n",
    "#     print(t)\n",
    "#     for file_name in file_list:\n",
    "#         file = pl.read_csv(TRAIN_DIR/file_name)\n",
    "#         if file.columns[0] == 'case_id':\n",
    "#             l.append(file_name)\n",
    "#             count+=1\n",
    "    \n",
    "#     print(f\"CSV's {l} have case_id and total number is {count}\")\n",
    "#     print(file.columns[0])\n",
    "        \n",
    "# check_id(d)\n",
    "            "
   ]
  },
  {
   "cell_type": "code",
   "execution_count": 17,
   "id": "be0cfae3",
   "metadata": {
    "execution": {
     "iopub.execute_input": "2024-02-09T07:17:09.295889Z",
     "iopub.status.busy": "2024-02-09T07:17:09.294802Z",
     "iopub.status.idle": "2024-02-09T07:17:09.324723Z",
     "shell.execute_reply": "2024-02-09T07:17:09.323692Z"
    },
    "papermill": {
     "duration": 0.044653,
     "end_time": "2024-02-09T07:17:09.327502",
     "exception": false,
     "start_time": "2024-02-09T07:17:09.282849",
     "status": "completed"
    },
    "tags": []
   },
   "outputs": [
    {
     "data": {
      "text/html": [
       "<div><style>\n",
       ".dataframe > thead > tr,\n",
       ".dataframe > tbody > tr {\n",
       "  text-align: right;\n",
       "  white-space: pre-wrap;\n",
       "}\n",
       "</style>\n",
       "<small>shape: (10, 5)</small><table border=\"1\" class=\"dataframe\"><thead><tr><th>case_id</th><th>date_decision</th><th>MONTH</th><th>WEEK_NUM</th><th>target</th></tr><tr><td>i64</td><td>str</td><td>i64</td><td>i64</td><td>i64</td></tr></thead><tbody><tr><td>0</td><td>&quot;2019-01-03&quot;</td><td>201901</td><td>0</td><td>0</td></tr><tr><td>1</td><td>&quot;2019-01-03&quot;</td><td>201901</td><td>0</td><td>0</td></tr><tr><td>2</td><td>&quot;2019-01-04&quot;</td><td>201901</td><td>0</td><td>0</td></tr><tr><td>3</td><td>&quot;2019-01-03&quot;</td><td>201901</td><td>0</td><td>0</td></tr><tr><td>4</td><td>&quot;2019-01-04&quot;</td><td>201901</td><td>0</td><td>1</td></tr><tr><td>5</td><td>&quot;2019-01-02&quot;</td><td>201901</td><td>0</td><td>0</td></tr><tr><td>6</td><td>&quot;2019-01-03&quot;</td><td>201901</td><td>0</td><td>0</td></tr><tr><td>7</td><td>&quot;2019-01-03&quot;</td><td>201901</td><td>0</td><td>0</td></tr><tr><td>8</td><td>&quot;2019-01-03&quot;</td><td>201901</td><td>0</td><td>0</td></tr><tr><td>9</td><td>&quot;2019-01-03&quot;</td><td>201901</td><td>0</td><td>0</td></tr></tbody></table></div>"
      ],
      "text/plain": [
       "shape: (10, 5)\n",
       "┌─────────┬───────────────┬────────┬──────────┬────────┐\n",
       "│ case_id ┆ date_decision ┆ MONTH  ┆ WEEK_NUM ┆ target │\n",
       "│ ---     ┆ ---           ┆ ---    ┆ ---      ┆ ---    │\n",
       "│ i64     ┆ str           ┆ i64    ┆ i64      ┆ i64    │\n",
       "╞═════════╪═══════════════╪════════╪══════════╪════════╡\n",
       "│ 0       ┆ 2019-01-03    ┆ 201901 ┆ 0        ┆ 0      │\n",
       "│ 1       ┆ 2019-01-03    ┆ 201901 ┆ 0        ┆ 0      │\n",
       "│ 2       ┆ 2019-01-04    ┆ 201901 ┆ 0        ┆ 0      │\n",
       "│ 3       ┆ 2019-01-03    ┆ 201901 ┆ 0        ┆ 0      │\n",
       "│ 4       ┆ 2019-01-04    ┆ 201901 ┆ 0        ┆ 1      │\n",
       "│ 5       ┆ 2019-01-02    ┆ 201901 ┆ 0        ┆ 0      │\n",
       "│ 6       ┆ 2019-01-03    ┆ 201901 ┆ 0        ┆ 0      │\n",
       "│ 7       ┆ 2019-01-03    ┆ 201901 ┆ 0        ┆ 0      │\n",
       "│ 8       ┆ 2019-01-03    ┆ 201901 ┆ 0        ┆ 0      │\n",
       "│ 9       ┆ 2019-01-03    ┆ 201901 ┆ 0        ┆ 0      │\n",
       "└─────────┴───────────────┴────────┴──────────┴────────┘"
      ]
     },
     "execution_count": 17,
     "metadata": {},
     "output_type": "execute_result"
    }
   ],
   "source": [
    "main_file.head(10)"
   ]
  },
  {
   "cell_type": "code",
   "execution_count": 18,
   "id": "2713f139",
   "metadata": {
    "execution": {
     "iopub.execute_input": "2024-02-09T07:17:09.350272Z",
     "iopub.status.busy": "2024-02-09T07:17:09.349844Z",
     "iopub.status.idle": "2024-02-09T07:17:09.357988Z",
     "shell.execute_reply": "2024-02-09T07:17:09.356851Z"
    },
    "papermill": {
     "duration": 0.02235,
     "end_time": "2024-02-09T07:17:09.360389",
     "exception": false,
     "start_time": "2024-02-09T07:17:09.338039",
     "status": "completed"
    },
    "tags": []
   },
   "outputs": [
    {
     "data": {
      "text/plain": [
       "OrderedDict([('case_id', Int64),\n",
       "             ('date_decision', String),\n",
       "             ('MONTH', Int64),\n",
       "             ('WEEK_NUM', Int64),\n",
       "             ('target', Int64)])"
      ]
     },
     "execution_count": 18,
     "metadata": {},
     "output_type": "execute_result"
    }
   ],
   "source": [
    "main_file.schema"
   ]
  },
  {
   "cell_type": "code",
   "execution_count": 19,
   "id": "f9c5a8e6",
   "metadata": {
    "execution": {
     "iopub.execute_input": "2024-02-09T07:17:09.383479Z",
     "iopub.status.busy": "2024-02-09T07:17:09.383048Z",
     "iopub.status.idle": "2024-02-09T07:17:09.388965Z",
     "shell.execute_reply": "2024-02-09T07:17:09.387843Z"
    },
    "papermill": {
     "duration": 0.020533,
     "end_time": "2024-02-09T07:17:09.391710",
     "exception": false,
     "start_time": "2024-02-09T07:17:09.371177",
     "status": "completed"
    },
    "tags": []
   },
   "outputs": [
    {
     "name": "stdout",
     "output_type": "stream",
     "text": [
      "Int64\n",
      "String\n",
      "Int64\n",
      "Int64\n",
      "Int64\n"
     ]
    }
   ],
   "source": [
    "for col in main_file.columns:\n",
    "    print(main_file[col].dtype)"
   ]
  },
  {
   "cell_type": "code",
   "execution_count": null,
   "id": "3501fb77",
   "metadata": {
    "papermill": {
     "duration": 0.010155,
     "end_time": "2024-02-09T07:17:09.412415",
     "exception": false,
     "start_time": "2024-02-09T07:17:09.402260",
     "status": "completed"
    },
    "tags": []
   },
   "outputs": [],
   "source": []
  }
 ],
 "metadata": {
  "kaggle": {
   "accelerator": "none",
   "dataSources": [
    {
     "databundleVersionId": 7602123,
     "sourceId": 50160,
     "sourceType": "competition"
    }
   ],
   "dockerImageVersionId": 30646,
   "isGpuEnabled": false,
   "isInternetEnabled": true,
   "language": "python",
   "sourceType": "notebook"
  },
  "kernelspec": {
   "display_name": "Python 3",
   "language": "python",
   "name": "python3"
  },
  "language_info": {
   "codemirror_mode": {
    "name": "ipython",
    "version": 3
   },
   "file_extension": ".py",
   "mimetype": "text/x-python",
   "name": "python",
   "nbconvert_exporter": "python",
   "pygments_lexer": "ipython3",
   "version": "3.10.13"
  },
  "papermill": {
   "default_parameters": {},
   "duration": 214.734969,
   "end_time": "2024-02-09T07:17:10.247468",
   "environment_variables": {},
   "exception": null,
   "input_path": "__notebook__.ipynb",
   "output_path": "__notebook__.ipynb",
   "parameters": {},
   "start_time": "2024-02-09T07:13:35.512499",
   "version": "2.5.0"
  }
 },
 "nbformat": 4,
 "nbformat_minor": 5
}
