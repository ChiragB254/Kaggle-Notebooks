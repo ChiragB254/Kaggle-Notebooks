{
 "cells": [
  {
   "cell_type": "code",
   "execution_count": 1,
   "id": "d148e4d1",
   "metadata": {
    "execution": {
     "iopub.execute_input": "2024-03-03T03:39:19.078404Z",
     "iopub.status.busy": "2024-03-03T03:39:19.077429Z",
     "iopub.status.idle": "2024-03-03T03:39:21.625562Z",
     "shell.execute_reply": "2024-03-03T03:39:21.624622Z"
    },
    "papermill": {
     "duration": 2.560921,
     "end_time": "2024-03-03T03:39:21.627685",
     "exception": false,
     "start_time": "2024-03-03T03:39:19.066764",
     "status": "completed"
    },
    "tags": []
   },
   "outputs": [],
   "source": [
    "import os\n",
    "import gc\n",
    "import pandas as pd\n",
    "import polars as pl\n",
    "import numpy as np\n",
    "import matplotlib.pyplot as plt\n",
    "import seaborn as sns\n",
    "import joblib\n",
    "from pathlib import Path\n",
    "from glob import glob\n",
    "from datetime import datetime\n",
    "from sklearn.preprocessing import OneHotEncoder, OrdinalEncoder, LabelEncoder\n",
    "from sklearn.model_selection import StratifiedGroupKFold\n",
    "from sklearn.metrics import roc_auc_score\n",
    "from sklearn.model_selection import TimeSeriesSplit, GroupKFold, StratifiedGroupKFold\n",
    "from sklearn.base import BaseEstimator, RegressorMixin\n",
    "\n",
    "import warnings\n",
    "warnings.simplefilter(action='ignore', category=FutureWarning)"
   ]
  },
  {
   "cell_type": "code",
   "execution_count": 2,
   "id": "b08d01fc",
   "metadata": {
    "execution": {
     "iopub.execute_input": "2024-03-03T03:39:21.645879Z",
     "iopub.status.busy": "2024-03-03T03:39:21.645435Z",
     "iopub.status.idle": "2024-03-03T03:39:21.651912Z",
     "shell.execute_reply": "2024-03-03T03:39:21.650762Z"
    },
    "papermill": {
     "duration": 0.01841,
     "end_time": "2024-03-03T03:39:21.654345",
     "exception": false,
     "start_time": "2024-03-03T03:39:21.635935",
     "status": "completed"
    },
    "tags": []
   },
   "outputs": [],
   "source": [
    "class VotingModel(BaseEstimator, RegressorMixin):\n",
    "    def __init__(self, estimators):\n",
    "        super().__init__()\n",
    "        self.estimators = estimators\n",
    "        \n",
    "    def fit(self, X, y=None):\n",
    "        return self\n",
    "    \n",
    "    def predict(self, X):\n",
    "        y_preds = [estimator.predict(X) for estimator in self.estimators]\n",
    "        return np.mean(y_preds, axis=0)\n",
    "    \n",
    "    def predict_proba(self, X):\n",
    "        y_preds = [estimator.predict_proba(X) for estimator in self.estimators]\n",
    "        return np.mean(y_preds, axis=0)"
   ]
  },
  {
   "cell_type": "code",
   "execution_count": 3,
   "id": "15f9e53b",
   "metadata": {
    "execution": {
     "iopub.execute_input": "2024-03-03T03:39:21.672801Z",
     "iopub.status.busy": "2024-03-03T03:39:21.672469Z",
     "iopub.status.idle": "2024-03-03T03:39:21.676908Z",
     "shell.execute_reply": "2024-03-03T03:39:21.676120Z"
    },
    "papermill": {
     "duration": 0.015392,
     "end_time": "2024-03-03T03:39:21.678634",
     "exception": false,
     "start_time": "2024-03-03T03:39:21.663242",
     "status": "completed"
    },
    "tags": []
   },
   "outputs": [],
   "source": [
    "ROOT = Path(\"/kaggle/input/home-credit-credit-risk-model-stability\")\n",
    "TRAIN_DIR = ROOT / \"parquet_files\" / \"train\"\n",
    "TEST_DIR = ROOT / \"parquet_files\" / \"test\"\n",
    "\n",
    "\n",
    "MODEL_PATH = \"/kaggle/working/homecredit-dataset/best_model.pth\"\n",
    "LOAD_MODEL = False"
   ]
  },
  {
   "cell_type": "markdown",
   "id": "5a0df12d",
   "metadata": {
    "papermill": {
     "duration": 0.008385,
     "end_time": "2024-03-03T03:39:21.695127",
     "exception": false,
     "start_time": "2024-03-03T03:39:21.686742",
     "status": "completed"
    },
    "tags": []
   },
   "source": [
    "# Pipline"
   ]
  },
  {
   "cell_type": "code",
   "execution_count": 4,
   "id": "e4946fa8",
   "metadata": {
    "execution": {
     "iopub.execute_input": "2024-03-03T03:39:21.712632Z",
     "iopub.status.busy": "2024-03-03T03:39:21.711800Z",
     "iopub.status.idle": "2024-03-03T03:39:21.723534Z",
     "shell.execute_reply": "2024-03-03T03:39:21.722663Z"
    },
    "papermill": {
     "duration": 0.023385,
     "end_time": "2024-03-03T03:39:21.726245",
     "exception": false,
     "start_time": "2024-03-03T03:39:21.702860",
     "status": "completed"
    },
    "tags": []
   },
   "outputs": [],
   "source": [
    "class Pipeline:\n",
    "    @staticmethod\n",
    "    def set_data_type(data_frame):\n",
    "        for col in data_frame.columns:\n",
    "            if col in [\"case_id\", \"WEEK_NUM\", \"num_group1\", \"num_group2\"]:\n",
    "                data_frame = data_frame.with_columns(pl.col(col).cast(pl.Int64))\n",
    "            elif col in [\"date_decision\"]:\n",
    "                data_frame = data_frame.with_columns(pl.col(col).cast(pl.Date))\n",
    "            elif col[-1] in (\"P\",\"A\"):\n",
    "                data_frame = data_frame.with_columns(pl.col(col).cast(pl.Float64))\n",
    "            elif col[-1] in (\"D\"):\n",
    "                data_frame = data_frame.with_columns(pl.col(col).cast(pl.Date))\n",
    "            elif col[-1] in (\"M\"):\n",
    "                data_frame = data_frame.with_columns(pl.col(col).cast(pl.String))\n",
    "        \n",
    "        return data_frame\n",
    "    \n",
    "    @staticmethod\n",
    "    def handle_dates(data_frame):\n",
    "        for col in data_frame.columns:\n",
    "            if col[-1] in (\"D\"):\n",
    "                data_frame = data_frame.with_columns(pl.col(col)-pl.col(\"date_decision\"))\n",
    "                data_frame = data_frame.with_columns(pl.col(col).dt.total_days())\n",
    "                \n",
    "        data_frame = data_frame.drop(\"date_decision\", \"MONTH\")\n",
    "        \n",
    "        return data_frame\n",
    "    \n",
    "    @staticmethod\n",
    "    def filter_cols(data_frame):\n",
    "        for col in data_frame.columns:\n",
    "            if col not in [\"target\", \"case_id\", \"WEEK_NUM\"]:\n",
    "                isnull = data_frame[col].is_null().mean()\n",
    "                \n",
    "                if isnull > 0.95:\n",
    "                    data_frame = data_frame.drop(col)\n",
    "            \n",
    "        for col in data_frame.columns:\n",
    "            if (col not in [\"target\", \"case_id\", \"WEEK_NUM\"]) & (data_frame[col].dtype == pl.String):\n",
    "                frq = data_frame[col].n_unique()\n",
    "                if (frq == 1) | (frq > 200):\n",
    "                    data_frame = data_frame.drop(col)\n",
    "            \n",
    "        return data_frame\n",
    "            \n",
    "                "
   ]
  },
  {
   "cell_type": "markdown",
   "id": "f1bbc0c7",
   "metadata": {
    "papermill": {
     "duration": 0.007803,
     "end_time": "2024-03-03T03:39:21.742310",
     "exception": false,
     "start_time": "2024-03-03T03:39:21.734507",
     "status": "completed"
    },
    "tags": []
   },
   "source": [
    "# Automatic Aggregation"
   ]
  },
  {
   "cell_type": "code",
   "execution_count": 5,
   "id": "7c99644a",
   "metadata": {
    "execution": {
     "iopub.execute_input": "2024-03-03T03:39:21.760233Z",
     "iopub.status.busy": "2024-03-03T03:39:21.759884Z",
     "iopub.status.idle": "2024-03-03T03:39:21.773144Z",
     "shell.execute_reply": "2024-03-03T03:39:21.772217Z"
    },
    "papermill": {
     "duration": 0.024956,
     "end_time": "2024-03-03T03:39:21.775318",
     "exception": false,
     "start_time": "2024-03-03T03:39:21.750362",
     "status": "completed"
    },
    "tags": []
   },
   "outputs": [],
   "source": [
    "class Aggregator:\n",
    "    @staticmethod\n",
    "    def num_expr(data_frame):\n",
    "        cols = [col for col in data_frame.columns if col[-1] in ['A','P']]\n",
    "        expr_mim = [pl.min(col).alias(f\"min_{col}\") for col in cols]\n",
    "        expr_max = [pl.max(col).alias(f\"max_{col}\") for col in cols]\n",
    "        \n",
    "        return expr_mim, expr_max\n",
    "    \n",
    "    @staticmethod\n",
    "    def date_expr(data_frame):\n",
    "        \n",
    "        cols = [col for col in data_frame.columns if col[-1] in (\"D\",)]\n",
    "        expr_max = [pl.max(col).alias(f\"max_{col}\") for col in cols]\n",
    "        expr_min = [pl.min(col).alias(f\"min_{col}\") for col in cols]\n",
    "\n",
    "        return expr_max, expr_min\n",
    "    \n",
    "    @staticmethod\n",
    "    def str_expr(data_frame):\n",
    "        \n",
    "        cols = [col for col in data_frame.columns if col[-1] in (\"M\",)]\n",
    "        expr_max = [pl.max(col).alias(f\"max_{col}\") for col in cols]\n",
    "        expr_min = [pl.min(col).alias(f\"min_{col}\") for col in cols]\n",
    "\n",
    "        return expr_max, expr_min\n",
    "    \n",
    "    @staticmethod\n",
    "    def other_expr(data_frame):\n",
    "        \n",
    "        cols = [col for col in data_frame.columns if col[-1] in (\"T\", \"L\")]\n",
    "        expr_max = [pl.max(col).alias(f\"max_{col}\") for col in cols]\n",
    "        expr_min = [pl.min(col).alias(f\"min_{col}\") for col in cols]\n",
    "\n",
    "        return expr_max, expr_min\n",
    "    \n",
    "    @staticmethod\n",
    "    def count_expr(data_frame): \n",
    "        \n",
    "        cols = [col for col in data_frame.columns if \"num_group\" in col]\n",
    "        expr_max = [pl.max(col).alias(f\"max_{col}\") for col in cols]\n",
    "        expr_min = [pl.min(col).alias(f\"min_{col}\") for col in cols]\n",
    "\n",
    "        return expr_max, expr_min\n",
    "    \n",
    "    @staticmethod\n",
    "    def get_exprs(df):\n",
    "        maxexprs = Aggregator.num_expr(df)[0] + \\\n",
    "                Aggregator.date_expr(df)[0] + \\\n",
    "                Aggregator.str_expr(df)[0] + \\\n",
    "                Aggregator.other_expr(df)[0] + \\\n",
    "                Aggregator.count_expr(df)[0]\n",
    "        \n",
    "        minexprs = Aggregator.num_expr(df)[1] + \\\n",
    "                Aggregator.date_expr(df)[1] + \\\n",
    "                Aggregator.str_expr(df)[1] + \\\n",
    "                Aggregator.other_expr(df)[1] + \\\n",
    "                Aggregator.count_expr(df)[1]\n",
    "        \n",
    "        return maxexprs, minexprs"
   ]
  },
  {
   "cell_type": "markdown",
   "id": "cab95c2e",
   "metadata": {
    "papermill": {
     "duration": 0.007656,
     "end_time": "2024-03-03T03:39:21.791107",
     "exception": false,
     "start_time": "2024-03-03T03:39:21.783451",
     "status": "completed"
    },
    "tags": []
   },
   "source": [
    "# File I/O"
   ]
  },
  {
   "cell_type": "code",
   "execution_count": 6,
   "id": "c70fbb5b",
   "metadata": {
    "execution": {
     "iopub.execute_input": "2024-03-03T03:39:21.808541Z",
     "iopub.status.busy": "2024-03-03T03:39:21.807853Z",
     "iopub.status.idle": "2024-03-03T03:39:21.816535Z",
     "shell.execute_reply": "2024-03-03T03:39:21.815330Z"
    },
    "papermill": {
     "duration": 0.01985,
     "end_time": "2024-03-03T03:39:21.818737",
     "exception": false,
     "start_time": "2024-03-03T03:39:21.798887",
     "status": "completed"
    },
    "tags": []
   },
   "outputs": [],
   "source": [
    "def read_file(path, depth=None): \n",
    "    data_frame = pl.read_parquet(path)\n",
    "    data_frame = data_frame.pipe(Pipeline.set_data_type)\n",
    "    \n",
    "    if depth in [1, 2]:\n",
    "        maxexprs, minexprs = Aggregator.get_exprs(data_frame)\n",
    "        data_frame = data_frame.group_by(\"case_id\").agg(*maxexprs, *minexprs)\n",
    "    \n",
    "    return data_frame\n",
    "\n",
    "def read_files(regex_path, depth=None):\n",
    "    chunks = []\n",
    "    for path in glob(str(regex_path)):\n",
    "        chunks.append(pl.read_parquet(path).pipe(Pipeline.set_data_type))\n",
    "        \n",
    "    data_frame = pl.concat(chunks, how=\"vertical_relaxed\")\n",
    "    if depth in [1, 2]:\n",
    "        maxexprs, minexprs = Aggregator.get_exprs(data_frame)\n",
    "        data_frame = data_frame.group_by(\"case_id\").agg(*maxexprs, *minexprs)\n",
    "    \n",
    "    return data_frame"
   ]
  },
  {
   "cell_type": "markdown",
   "id": "6909a6c9",
   "metadata": {
    "papermill": {
     "duration": 0.007528,
     "end_time": "2024-03-03T03:39:21.834343",
     "exception": false,
     "start_time": "2024-03-03T03:39:21.826815",
     "status": "completed"
    },
    "tags": []
   },
   "source": [
    "## Feature Engineering"
   ]
  },
  {
   "cell_type": "code",
   "execution_count": 7,
   "id": "7122864a",
   "metadata": {
    "execution": {
     "iopub.execute_input": "2024-03-03T03:39:21.851650Z",
     "iopub.status.busy": "2024-03-03T03:39:21.851090Z",
     "iopub.status.idle": "2024-03-03T03:39:21.855996Z",
     "shell.execute_reply": "2024-03-03T03:39:21.855418Z"
    },
    "papermill": {
     "duration": 0.015488,
     "end_time": "2024-03-03T03:39:21.857578",
     "exception": false,
     "start_time": "2024-03-03T03:39:21.842090",
     "status": "completed"
    },
    "tags": []
   },
   "outputs": [],
   "source": [
    "def feature_eng(data_frame_base, depth_0 ,depth_1, depth_2):\n",
    "    data_frame_base = (\n",
    "        data_frame_base\n",
    "        .with_columns(\n",
    "            month_decision = pl.col(\"date_decision\").dt.month(),\n",
    "            weekday_decision = pl.col(\"date_decision\").dt.weekday(),\n",
    "        )\n",
    "    )\n",
    "    \n",
    "    for i, data_frame in enumerate(depth_0 + depth_1 + depth_2):\n",
    "        data_frame_base = data_frame_base.join(data_frame, how=\"left\", on=\"case_id\", suffix=f\"_{i}\")\n",
    "        \n",
    "    data_frame_base = data_frame_base.pipe(Pipeline.handle_dates)\n",
    "    \n",
    "    return data_frame_base"
   ]
  },
  {
   "cell_type": "code",
   "execution_count": 8,
   "id": "c300b2b5",
   "metadata": {
    "execution": {
     "iopub.execute_input": "2024-03-03T03:39:21.874852Z",
     "iopub.status.busy": "2024-03-03T03:39:21.874390Z",
     "iopub.status.idle": "2024-03-03T03:39:21.878641Z",
     "shell.execute_reply": "2024-03-03T03:39:21.877694Z"
    },
    "papermill": {
     "duration": 0.014679,
     "end_time": "2024-03-03T03:39:21.880225",
     "exception": false,
     "start_time": "2024-03-03T03:39:21.865546",
     "status": "completed"
    },
    "tags": []
   },
   "outputs": [],
   "source": [
    "def to_pandas(df_data, cat_cols=None):\n",
    "    df_data = df_data.to_pandas()\n",
    "    \n",
    "    if cat_cols is None:\n",
    "        cat_cols = list(df_data.select_dtypes(\"object\").columns)\n",
    "    \n",
    "    df_data[cat_cols] = df_data[cat_cols].astype(\"category\")\n",
    "    \n",
    "    return df_data, cat_cols"
   ]
  },
  {
   "cell_type": "code",
   "execution_count": 9,
   "id": "3db6d7fa",
   "metadata": {
    "execution": {
     "iopub.execute_input": "2024-03-03T03:39:21.897302Z",
     "iopub.status.busy": "2024-03-03T03:39:21.896563Z",
     "iopub.status.idle": "2024-03-03T03:39:48.244552Z",
     "shell.execute_reply": "2024-03-03T03:39:48.243547Z"
    },
    "papermill": {
     "duration": 26.358623,
     "end_time": "2024-03-03T03:39:48.246622",
     "exception": false,
     "start_time": "2024-03-03T03:39:21.887999",
     "status": "completed"
    },
    "tags": []
   },
   "outputs": [],
   "source": [
    "data_store = {\n",
    "    \"data_frame_base\": read_file(TRAIN_DIR / \"train_base.parquet\"),\n",
    "    \"depth_0\": [\n",
    "        read_file(TRAIN_DIR / \"train_static_cb_0.parquet\"),\n",
    "        read_files(TRAIN_DIR / \"train_static_0_*.parquet\"),\n",
    "    ],\n",
    "    \"depth_1\": [\n",
    "        read_files(TRAIN_DIR / \"train_applprev_1_*.parquet\", 1),\n",
    "        read_file(TRAIN_DIR / \"train_tax_registry_a_1.parquet\", 1),\n",
    "        read_file(TRAIN_DIR / \"train_tax_registry_b_1.parquet\", 1),\n",
    "        read_file(TRAIN_DIR / \"train_tax_registry_c_1.parquet\", 1),\n",
    "        read_file(TRAIN_DIR / \"train_credit_bureau_b_1.parquet\", 1),\n",
    "        read_file(TRAIN_DIR / \"train_other_1.parquet\", 1),\n",
    "        read_file(TRAIN_DIR / \"train_person_1.parquet\", 1),\n",
    "        read_file(TRAIN_DIR / \"train_deposit_1.parquet\", 1),\n",
    "        read_file(TRAIN_DIR / \"train_debitcard_1.parquet\", 1),\n",
    "    ],\n",
    "    \"depth_2\": [\n",
    "        read_file(TRAIN_DIR / \"train_credit_bureau_b_2.parquet\", 2),\n",
    "    ]\n",
    "}"
   ]
  },
  {
   "cell_type": "code",
   "execution_count": 10,
   "id": "5ff983bd",
   "metadata": {
    "execution": {
     "iopub.execute_input": "2024-03-03T03:39:48.264210Z",
     "iopub.status.busy": "2024-03-03T03:39:48.263870Z",
     "iopub.status.idle": "2024-03-03T03:39:56.172976Z",
     "shell.execute_reply": "2024-03-03T03:39:56.171817Z"
    },
    "papermill": {
     "duration": 7.920554,
     "end_time": "2024-03-03T03:39:56.175323",
     "exception": false,
     "start_time": "2024-03-03T03:39:48.254769",
     "status": "completed"
    },
    "tags": []
   },
   "outputs": [
    {
     "name": "stdout",
     "output_type": "stream",
     "text": [
      "train data shape:\t (1526659, 528)\n"
     ]
    }
   ],
   "source": [
    "df_train = feature_eng(**data_store)\n",
    "\n",
    "print(\"train data shape:\\t\", df_train.shape)"
   ]
  },
  {
   "cell_type": "code",
   "execution_count": 11,
   "id": "f8f5f49b",
   "metadata": {
    "execution": {
     "iopub.execute_input": "2024-03-03T03:39:56.192986Z",
     "iopub.status.busy": "2024-03-03T03:39:56.192654Z",
     "iopub.status.idle": "2024-03-03T03:39:56.623880Z",
     "shell.execute_reply": "2024-03-03T03:39:56.622650Z"
    },
    "papermill": {
     "duration": 0.442865,
     "end_time": "2024-03-03T03:39:56.626463",
     "exception": false,
     "start_time": "2024-03-03T03:39:56.183598",
     "status": "completed"
    },
    "tags": []
   },
   "outputs": [],
   "source": [
    "data_store = {\n",
    "    \"data_frame_base\": read_file(TEST_DIR / \"test_base.parquet\"),\n",
    "    \"depth_0\": [\n",
    "        read_file(TEST_DIR / \"test_static_cb_0.parquet\"),\n",
    "        read_files(TEST_DIR / \"test_static_0_*.parquet\"),\n",
    "    ],\n",
    "    \"depth_1\": [\n",
    "        read_files(TEST_DIR / \"test_applprev_1_*.parquet\", 1),\n",
    "        read_file(TEST_DIR / \"test_tax_registry_a_1.parquet\", 1),\n",
    "        read_file(TEST_DIR / \"test_tax_registry_b_1.parquet\", 1),\n",
    "        read_file(TEST_DIR / \"test_tax_registry_c_1.parquet\", 1),\n",
    "        read_file(TEST_DIR / \"test_credit_bureau_b_1.parquet\", 1),\n",
    "        read_file(TEST_DIR / \"test_other_1.parquet\", 1),\n",
    "        read_file(TEST_DIR / \"test_person_1.parquet\", 1),\n",
    "        read_file(TEST_DIR / \"test_deposit_1.parquet\", 1),\n",
    "        read_file(TEST_DIR / \"test_debitcard_1.parquet\", 1),\n",
    "    ],\n",
    "    \"depth_2\": [\n",
    "        read_file(TEST_DIR / \"test_credit_bureau_b_2.parquet\", 2),\n",
    "    ]\n",
    "}"
   ]
  },
  {
   "cell_type": "code",
   "execution_count": 12,
   "id": "1bbbc95d",
   "metadata": {
    "execution": {
     "iopub.execute_input": "2024-03-03T03:39:56.644562Z",
     "iopub.status.busy": "2024-03-03T03:39:56.644217Z",
     "iopub.status.idle": "2024-03-03T03:39:56.686424Z",
     "shell.execute_reply": "2024-03-03T03:39:56.685301Z"
    },
    "papermill": {
     "duration": 0.053134,
     "end_time": "2024-03-03T03:39:56.688408",
     "exception": false,
     "start_time": "2024-03-03T03:39:56.635274",
     "status": "completed"
    },
    "tags": []
   },
   "outputs": [
    {
     "name": "stdout",
     "output_type": "stream",
     "text": [
      "test data shape:\t (10, 527)\n"
     ]
    }
   ],
   "source": [
    "df_test = feature_eng(**data_store)\n",
    "\n",
    "print(\"test data shape:\\t\", df_test.shape)"
   ]
  },
  {
   "cell_type": "code",
   "execution_count": 13,
   "id": "ff586a1d",
   "metadata": {
    "execution": {
     "iopub.execute_input": "2024-03-03T03:39:56.707723Z",
     "iopub.status.busy": "2024-03-03T03:39:56.707393Z",
     "iopub.status.idle": "2024-03-03T03:40:07.297682Z",
     "shell.execute_reply": "2024-03-03T03:40:07.296852Z"
    },
    "papermill": {
     "duration": 10.602309,
     "end_time": "2024-03-03T03:40:07.299647",
     "exception": false,
     "start_time": "2024-03-03T03:39:56.697338",
     "status": "completed"
    },
    "tags": []
   },
   "outputs": [
    {
     "data": {
      "text/html": [
       "<div><style>\n",
       ".dataframe > thead > tr,\n",
       ".dataframe > tbody > tr {\n",
       "  text-align: right;\n",
       "  white-space: pre-wrap;\n",
       "}\n",
       "</style>\n",
       "<small>shape: (9, 529)</small><table border=\"1\" class=\"dataframe\"><thead><tr><th>describe</th><th>case_id</th><th>WEEK_NUM</th><th>target</th><th>month_decision</th><th>weekday_decision</th><th>assignmentdate_238D</th><th>assignmentdate_4527235D</th><th>assignmentdate_4955616D</th><th>birthdate_574D</th><th>contractssum_5085716L</th><th>dateofbirth_337D</th><th>dateofbirth_342D</th><th>days120_123L</th><th>days180_256L</th><th>days30_165L</th><th>days360_512L</th><th>days90_310L</th><th>description_5085714M</th><th>education_1103M</th><th>education_88M</th><th>firstquarter_103L</th><th>for3years_128L</th><th>for3years_504L</th><th>for3years_584L</th><th>formonth_118L</th><th>formonth_206L</th><th>formonth_535L</th><th>forquarter_1017L</th><th>forquarter_462L</th><th>forquarter_634L</th><th>fortoday_1092L</th><th>forweek_1077L</th><th>forweek_528L</th><th>forweek_601L</th><th>foryear_618L</th><th>foryear_818L</th><th>&hellip;</th><th>min_relationshiptoclient_415T</th><th>min_relationshiptoclient_642T</th><th>min_remitter_829L</th><th>min_role_1084L</th><th>min_role_993L</th><th>min_safeguarantyflag_411L</th><th>min_sex_738L</th><th>min_type_25L</th><th>min_num_group1_8</th><th>min_amount_416A</th><th>max_contractenddate_991D</th><th>max_openingdate_313D</th><th>max_num_group1_9</th><th>max_amount_416A</th><th>min_contractenddate_991D</th><th>min_openingdate_313D</th><th>min_num_group1_9</th><th>min_last180dayaveragebalance_704A</th><th>min_last180dayturnover_1134A</th><th>min_last30dayturnover_651A</th><th>max_openingdate_857D</th><th>max_num_group1_10</th><th>max_last180dayaveragebalance_704A</th><th>max_last180dayturnover_1134A</th><th>max_last30dayturnover_651A</th><th>min_openingdate_857D</th><th>min_num_group1_10</th><th>min_pmts_dpdvalue_108P</th><th>min_pmts_pmtsoverdue_635A</th><th>max_pmts_date_1107D</th><th>max_num_group1_11</th><th>max_num_group2</th><th>max_pmts_dpdvalue_108P</th><th>max_pmts_pmtsoverdue_635A</th><th>min_pmts_date_1107D</th><th>min_num_group1_11</th><th>min_num_group2</th></tr><tr><td>str</td><td>f64</td><td>f64</td><td>f64</td><td>f64</td><td>f64</td><td>f64</td><td>f64</td><td>f64</td><td>f64</td><td>f64</td><td>f64</td><td>f64</td><td>f64</td><td>f64</td><td>f64</td><td>f64</td><td>f64</td><td>str</td><td>str</td><td>str</td><td>f64</td><td>f64</td><td>f64</td><td>f64</td><td>f64</td><td>f64</td><td>f64</td><td>f64</td><td>f64</td><td>f64</td><td>f64</td><td>f64</td><td>f64</td><td>f64</td><td>f64</td><td>f64</td><td>&hellip;</td><td>str</td><td>str</td><td>str</td><td>str</td><td>str</td><td>str</td><td>str</td><td>str</td><td>f64</td><td>f64</td><td>f64</td><td>f64</td><td>f64</td><td>f64</td><td>f64</td><td>f64</td><td>f64</td><td>f64</td><td>f64</td><td>f64</td><td>f64</td><td>f64</td><td>f64</td><td>f64</td><td>f64</td><td>f64</td><td>f64</td><td>f64</td><td>f64</td><td>f64</td><td>f64</td><td>f64</td><td>f64</td><td>f64</td><td>f64</td><td>f64</td><td>f64</td></tr></thead><tbody><tr><td>&quot;count&quot;</td><td>1.526659e6</td><td>1.526659e6</td><td>1.526659e6</td><td>1.526659e6</td><td>1.526659e6</td><td>136996.0</td><td>114978.0</td><td>71633.0</td><td>607871.0</td><td>157329.0</td><td>1.385691e6</td><td>36500.0</td><td>1.385691e6</td><td>1.385691e6</td><td>1.385691e6</td><td>1.385691e6</td><td>1.385691e6</td><td>&quot;1500476&quot;</td><td>&quot;1500476&quot;</td><td>&quot;1500476&quot;</td><td>1.385691e6</td><td>36514.0</td><td>36514.0</td><td>36514.0</td><td>36514.0</td><td>36514.0</td><td>36514.0</td><td>36514.0</td><td>36514.0</td><td>36514.0</td><td>36514.0</td><td>36514.0</td><td>36514.0</td><td>36514.0</td><td>36514.0</td><td>36514.0</td><td>&hellip;</td><td>&quot;591033&quot;</td><td>&quot;591033&quot;</td><td>&quot;591033&quot;</td><td>&quot;1526659&quot;</td><td>&quot;12458&quot;</td><td>&quot;1526657&quot;</td><td>&quot;1526659&quot;</td><td>&quot;1526659&quot;</td><td>1.526659e6</td><td>105111.0</td><td>59619.0</td><td>105111.0</td><td>105111.0</td><td>105111.0</td><td>59619.0</td><td>105111.0</td><td>105111.0</td><td>11289.0</td><td>10272.0</td><td>10272.0</td><td>105087.0</td><td>111772.0</td><td>11289.0</td><td>10272.0</td><td>10272.0</td><td>105087.0</td><td>111772.0</td><td>36415.0</td><td>36415.0</td><td>36447.0</td><td>36447.0</td><td>36447.0</td><td>36415.0</td><td>36415.0</td><td>36447.0</td><td>36447.0</td><td>36447.0</td></tr><tr><td>&quot;null_count&quot;</td><td>0.0</td><td>0.0</td><td>0.0</td><td>0.0</td><td>0.0</td><td>1.389663e6</td><td>1.411681e6</td><td>1.455026e6</td><td>918788.0</td><td>1.36933e6</td><td>140968.0</td><td>1.490159e6</td><td>140968.0</td><td>140968.0</td><td>140968.0</td><td>140968.0</td><td>140968.0</td><td>&quot;26183&quot;</td><td>&quot;26183&quot;</td><td>&quot;26183&quot;</td><td>140968.0</td><td>1.490145e6</td><td>1.490145e6</td><td>1.490145e6</td><td>1.490145e6</td><td>1.490145e6</td><td>1.490145e6</td><td>1.490145e6</td><td>1.490145e6</td><td>1.490145e6</td><td>1.490145e6</td><td>1.490145e6</td><td>1.490145e6</td><td>1.490145e6</td><td>1.490145e6</td><td>1.490145e6</td><td>&hellip;</td><td>&quot;935626&quot;</td><td>&quot;935626&quot;</td><td>&quot;935626&quot;</td><td>&quot;0&quot;</td><td>&quot;1514201&quot;</td><td>&quot;2&quot;</td><td>&quot;0&quot;</td><td>&quot;0&quot;</td><td>0.0</td><td>1.421548e6</td><td>1.46704e6</td><td>1.421548e6</td><td>1.421548e6</td><td>1.421548e6</td><td>1.46704e6</td><td>1.421548e6</td><td>1.421548e6</td><td>1.51537e6</td><td>1.516387e6</td><td>1.516387e6</td><td>1.421572e6</td><td>1.414887e6</td><td>1.51537e6</td><td>1.516387e6</td><td>1.516387e6</td><td>1.421572e6</td><td>1.414887e6</td><td>1.490244e6</td><td>1.490244e6</td><td>1.490212e6</td><td>1.490212e6</td><td>1.490212e6</td><td>1.490244e6</td><td>1.490244e6</td><td>1.490212e6</td><td>1.490212e6</td><td>1.490212e6</td></tr><tr><td>&quot;mean&quot;</td><td>1.2861e6</td><td>40.769036</td><td>0.031437</td><td>6.425584</td><td>3.984014</td><td>-2368.489496</td><td>13.945155</td><td>-2837.152974</td><td>-16065.771127</td><td>641604.417651</td><td>-16282.376476</td><td>-15427.647562</td><td>1.607715</td><td>2.388656</td><td>0.517708</td><td>4.777066</td><td>1.21142</td><td>null</td><td>null</td><td>null</td><td>2.86059</td><td>0.000082</td><td>4.382346</td><td>0.007696</td><td>0.0</td><td>0.000356</td><td>0.236759</td><td>0.000959</td><td>0.0</td><td>0.613929</td><td>0.036945</td><td>0.000055</td><td>0.09013</td><td>0.0</td><td>0.000055</td><td>0.002081</td><td>&hellip;</td><td>null</td><td>null</td><td>null</td><td>null</td><td>null</td><td>null</td><td>null</td><td>null</td><td>0.0</td><td>5961.107354</td><td>-616.17793</td><td>-1537.268421</td><td>0.380312</td><td>11053.429841</td><td>-638.582851</td><td>-1656.916907</td><td>0.0</td><td>105.089419</td><td>38249.815879</td><td>4842.416497</td><td>-1541.16728</td><td>0.407347</td><td>118.227329</td><td>40340.876365</td><td>5345.528562</td><td>-1660.075309</td><td>0.0</td><td>4514.094906</td><td>3.234041</td><td>-11.851181</td><td>1.246961</td><td>22.241419</td><td>63313.634217</td><td>36.426704</td><td>-692.897111</td><td>0.000055</td><td>0.0</td></tr><tr><td>&quot;std&quot;</td><td>718946.592285</td><td>23.797981</td><td>0.174496</td><td>3.512803</td><td>1.98848</td><td>2316.350761</td><td>0.410493</td><td>1962.589538</td><td>5108.123925</td><td>980327.297131</td><td>5054.532403</td><td>4824.322847</td><td>2.083003</td><td>2.891115</td><td>0.899238</td><td>5.168856</td><td>1.655931</td><td>null</td><td>null</td><td>null</td><td>3.610966</td><td>0.009064</td><td>5.815514</td><td>0.091071</td><td>0.0</td><td>0.018866</td><td>0.535493</td><td>0.033496</td><td>0.0</td><td>1.150001</td><td>0.189209</td><td>0.007401</td><td>0.291302</td><td>0.0</td><td>0.007401</td><td>0.049049</td><td>&hellip;</td><td>null</td><td>null</td><td>null</td><td>null</td><td>null</td><td>null</td><td>null</td><td>null</td><td>0.0</td><td>71454.327223</td><td>329.503471</td><td>451.406331</td><td>0.9579</td><td>99455.728421</td><td>347.294484</td><td>446.452488</td><td>0.0</td><td>724.018394</td><td>40149.934998</td><td>19018.025916</td><td>448.678936</td><td>0.986336</td><td>987.545689</td><td>42106.663966</td><td>19907.9379</td><td>443.9568</td><td>0.0</td><td>60645.593661</td><td>33.086764</td><td>18.043296</td><td>1.322809</td><td>12.829507</td><td>1.2672e6</td><td>1547.789956</td><td>389.777527</td><td>0.010476</td><td>0.0</td></tr><tr><td>&quot;min&quot;</td><td>0.0</td><td>0.0</td><td>0.0</td><td>1.0</td><td>1.0</td><td>-16454.0</td><td>7.0</td><td>-13040.0</td><td>-27774.0</td><td>0.0</td><td>-44073.0</td><td>-38192.0</td><td>0.0</td><td>0.0</td><td>0.0</td><td>0.0</td><td>0.0</td><td>&quot;2fc785b2&quot;</td><td>&quot;39a0853f&quot;</td><td>&quot;6b2ae0fa&quot;</td><td>0.0</td><td>0.0</td><td>0.0</td><td>0.0</td><td>0.0</td><td>0.0</td><td>0.0</td><td>0.0</td><td>0.0</td><td>0.0</td><td>0.0</td><td>0.0</td><td>0.0</td><td>0.0</td><td>0.0</td><td>0.0</td><td>&hellip;</td><td>&quot;CHILD&quot;</td><td>&quot;CHILD&quot;</td><td>&quot;False&quot;</td><td>&quot;CL&quot;</td><td>&quot;FULL&quot;</td><td>&quot;False&quot;</td><td>&quot;F&quot;</td><td>&quot;ALTERNATIVE_PH…</td><td>0.0</td><td>-40000.0</td><td>-6154.0</td><td>-6376.0</td><td>0.0</td><td>-33779.152</td><td>-6453.0</td><td>-6634.0</td><td>0.0</td><td>-308.79413</td><td>-187780.0</td><td>-477.506</td><td>-6376.0</td><td>0.0</td><td>-308.79413</td><td>-187780.0</td><td>-477.506</td><td>-6634.0</td><td>0.0</td><td>0.0</td><td>0.0</td><td>-1003.0</td><td>0.0</td><td>0.0</td><td>0.0</td><td>0.0</td><td>-1118.0</td><td>0.0</td><td>0.0</td></tr><tr><td>&quot;25%&quot;</td><td>766198.0</td><td>23.0</td><td>0.0</td><td>3.0</td><td>2.0</td><td>-3409.0</td><td>14.0</td><td>-3971.0</td><td>-20251.0</td><td>78531.95</td><td>-20417.0</td><td>-19021.0</td><td>0.0</td><td>0.0</td><td>0.0</td><td>1.0</td><td>0.0</td><td>null</td><td>null</td><td>null</td><td>0.0</td><td>0.0</td><td>0.0</td><td>0.0</td><td>0.0</td><td>0.0</td><td>0.0</td><td>0.0</td><td>0.0</td><td>0.0</td><td>0.0</td><td>0.0</td><td>0.0</td><td>0.0</td><td>0.0</td><td>0.0</td><td>&hellip;</td><td>null</td><td>null</td><td>null</td><td>null</td><td>null</td><td>null</td><td>null</td><td>null</td><td>0.0</td><td>0.0</td><td>-781.0</td><td>-1887.0</td><td>0.0</td><td>0.0</td><td>-800.0</td><td>-1991.0</td><td>0.0</td><td>0.0</td><td>8000.0</td><td>0.0</td><td>-1887.0</td><td>0.0</td><td>0.0</td><td>10000.0</td><td>0.0</td><td>-1991.0</td><td>0.0</td><td>0.0</td><td>0.0</td><td>-19.0</td><td>0.0</td><td>10.0</td><td>0.0</td><td>0.0</td><td>-1092.0</td><td>0.0</td><td>0.0</td></tr><tr><td>&quot;50%&quot;</td><td>1.357358e6</td><td>40.0</td><td>0.0</td><td>7.0</td><td>4.0</td><td>-1850.0</td><td>14.0</td><td>-2489.0</td><td>-15434.0</td><td>307282.4</td><td>-15630.0</td><td>-14731.0</td><td>1.0</td><td>2.0</td><td>0.0</td><td>3.0</td><td>1.0</td><td>null</td><td>null</td><td>null</td><td>2.0</td><td>0.0</td><td>2.0</td><td>0.0</td><td>0.0</td><td>0.0</td><td>0.0</td><td>0.0</td><td>0.0</td><td>0.0</td><td>0.0</td><td>0.0</td><td>0.0</td><td>0.0</td><td>0.0</td><td>0.0</td><td>&hellip;</td><td>null</td><td>null</td><td>null</td><td>null</td><td>null</td><td>null</td><td>null</td><td>null</td><td>0.0</td><td>213.848</td><td>-602.0</td><td>-1535.0</td><td>0.0</td><td>273.548</td><td>-620.0</td><td>-1706.0</td><td>0.0</td><td>0.0</td><td>29896.0</td><td>0.0</td><td>-1539.0</td><td>0.0</td><td>0.0</td><td>30000.0</td><td>0.0</td><td>-1708.0</td><td>0.0</td><td>0.0</td><td>0.0</td><td>-11.0</td><td>1.0</td><td>24.0</td><td>0.0</td><td>0.0</td><td>-750.0</td><td>0.0</td><td>0.0</td></tr><tr><td>&quot;75%&quot;</td><td>1.739023e6</td><td>55.0</td><td>0.0</td><td>9.0</td><td>6.0</td><td>-610.0</td><td>14.0</td><td>-1344.0</td><td>-11720.0</td><td>802114.08</td><td>-12033.0</td><td>-11478.0</td><td>2.0</td><td>3.0</td><td>1.0</td><td>7.0</td><td>2.0</td><td>null</td><td>null</td><td>null</td><td>4.0</td><td>0.0</td><td>6.0</td><td>0.0</td><td>0.0</td><td>0.0</td><td>0.0</td><td>0.0</td><td>0.0</td><td>1.0</td><td>0.0</td><td>0.0</td><td>0.0</td><td>0.0</td><td>0.0</td><td>0.0</td><td>&hellip;</td><td>null</td><td>null</td><td>null</td><td>null</td><td>null</td><td>null</td><td>null</td><td>null</td><td>0.0</td><td>401.402</td><td>-422.0</td><td>-1186.0</td><td>0.0</td><td>852.1481</td><td>-442.0</td><td>-1331.0</td><td>0.0</td><td>0.936</td><td>59994.0</td><td>0.0</td><td>-1195.0</td><td>1.0</td><td>1.6620001</td><td>60000.0</td><td>0.0</td><td>-1339.0</td><td>0.0</td><td>0.0</td><td>0.0</td><td>-3.0</td><td>2.0</td><td>35.0</td><td>21058.0</td><td>2.6000001</td><td>-315.0</td><td>0.0</td><td>0.0</td></tr><tr><td>&quot;max&quot;</td><td>2.703454e6</td><td>91.0</td><td>1.0</td><td>12.0</td><td>7.0</td><td>14.0</td><td>14.0</td><td>4.0</td><td>-7656.0</td><td>3.1297e7</td><td>-58.0</td><td>-1837.0</td><td>109.0</td><td>110.0</td><td>22.0</td><td>115.0</td><td>41.0</td><td>&quot;a55475b1&quot;</td><td>&quot;c8e1a1d0&quot;</td><td>&quot;c8e1a1d0&quot;</td><td>76.0</td><td>1.0</td><td>57.0</td><td>2.0</td><td>0.0</td><td>1.0</td><td>11.0</td><td>2.0</td><td>0.0</td><td>19.0</td><td>2.0</td><td>1.0</td><td>4.0</td><td>0.0</td><td>1.0</td><td>2.0</td><td>&hellip;</td><td>&quot;SPOUSE&quot;</td><td>&quot;SPOUSE&quot;</td><td>&quot;False&quot;</td><td>&quot;CL&quot;</td><td>&quot;FULL&quot;</td><td>&quot;True&quot;</td><td>&quot;M&quot;</td><td>&quot;PRIMARY_MOBILE…</td><td>0.0</td><td>1.2213286e7</td><td>424.0</td><td>-524.0</td><td>64.0</td><td>1.2213286e7</td><td>424.0</td><td>-524.0</td><td>0.0</td><td>32115.504</td><td>900000.0</td><td>390000.0</td><td>-524.0</td><td>65.0</td><td>67777.77</td><td>1.16182e6</td><td>390000.0</td><td>-524.0</td><td>0.0</td><td>4.11392e6</td><td>929.60004</td><td>14.0</td><td>20.0</td><td>36.0</td><td>1.85124192e8</td><td>147470.61</td><td>10.0</td><td>2.0</td><td>0.0</td></tr></tbody></table></div>"
      ],
      "text/plain": [
       "shape: (9, 529)\n",
       "┌───────────┬───────────┬───────────┬───────────┬───┬───────────┬───────────┬───────────┬──────────┐\n",
       "│ describe  ┆ case_id   ┆ WEEK_NUM  ┆ target    ┆ … ┆ max_pmts_ ┆ min_pmts_ ┆ min_num_g ┆ min_num_ │\n",
       "│ ---       ┆ ---       ┆ ---       ┆ ---       ┆   ┆ pmtsoverd ┆ date_1107 ┆ roup1_11  ┆ group2   │\n",
       "│ str       ┆ f64       ┆ f64       ┆ f64       ┆   ┆ ue_635A   ┆ D         ┆ ---       ┆ ---      │\n",
       "│           ┆           ┆           ┆           ┆   ┆ ---       ┆ ---       ┆ f64       ┆ f64      │\n",
       "│           ┆           ┆           ┆           ┆   ┆ f64       ┆ f64       ┆           ┆          │\n",
       "╞═══════════╪═══════════╪═══════════╪═══════════╪═══╪═══════════╪═══════════╪═══════════╪══════════╡\n",
       "│ count     ┆ 1.526659e ┆ 1.526659e ┆ 1.526659e ┆ … ┆ 36415.0   ┆ 36447.0   ┆ 36447.0   ┆ 36447.0  │\n",
       "│           ┆ 6         ┆ 6         ┆ 6         ┆   ┆           ┆           ┆           ┆          │\n",
       "│ null_coun ┆ 0.0       ┆ 0.0       ┆ 0.0       ┆ … ┆ 1.490244e ┆ 1.490212e ┆ 1.490212e ┆ 1.490212 │\n",
       "│ t         ┆           ┆           ┆           ┆   ┆ 6         ┆ 6         ┆ 6         ┆ e6       │\n",
       "│ mean      ┆ 1.2861e6  ┆ 40.769036 ┆ 0.031437  ┆ … ┆ 36.426704 ┆ -692.8971 ┆ 0.000055  ┆ 0.0      │\n",
       "│           ┆           ┆           ┆           ┆   ┆           ┆ 11        ┆           ┆          │\n",
       "│ std       ┆ 718946.59 ┆ 23.797981 ┆ 0.174496  ┆ … ┆ 1547.7899 ┆ 389.77752 ┆ 0.010476  ┆ 0.0      │\n",
       "│           ┆ 2285      ┆           ┆           ┆   ┆ 56        ┆ 7         ┆           ┆          │\n",
       "│ min       ┆ 0.0       ┆ 0.0       ┆ 0.0       ┆ … ┆ 0.0       ┆ -1118.0   ┆ 0.0       ┆ 0.0      │\n",
       "│ 25%       ┆ 766198.0  ┆ 23.0      ┆ 0.0       ┆ … ┆ 0.0       ┆ -1092.0   ┆ 0.0       ┆ 0.0      │\n",
       "│ 50%       ┆ 1.357358e ┆ 40.0      ┆ 0.0       ┆ … ┆ 0.0       ┆ -750.0    ┆ 0.0       ┆ 0.0      │\n",
       "│           ┆ 6         ┆           ┆           ┆   ┆           ┆           ┆           ┆          │\n",
       "│ 75%       ┆ 1.739023e ┆ 55.0      ┆ 0.0       ┆ … ┆ 2.6000001 ┆ -315.0    ┆ 0.0       ┆ 0.0      │\n",
       "│           ┆ 6         ┆           ┆           ┆   ┆           ┆           ┆           ┆          │\n",
       "│ max       ┆ 2.703454e ┆ 91.0      ┆ 1.0       ┆ … ┆ 147470.61 ┆ 10.0      ┆ 2.0       ┆ 0.0      │\n",
       "│           ┆ 6         ┆           ┆           ┆   ┆           ┆           ┆           ┆          │\n",
       "└───────────┴───────────┴───────────┴───────────┴───┴───────────┴───────────┴───────────┴──────────┘"
      ]
     },
     "execution_count": 13,
     "metadata": {},
     "output_type": "execute_result"
    }
   ],
   "source": [
    "df_train.describe()"
   ]
  },
  {
   "cell_type": "code",
   "execution_count": 14,
   "id": "1fd10ec7",
   "metadata": {
    "execution": {
     "iopub.execute_input": "2024-03-03T03:40:07.318184Z",
     "iopub.status.busy": "2024-03-03T03:40:07.317709Z",
     "iopub.status.idle": "2024-03-03T03:40:07.325031Z",
     "shell.execute_reply": "2024-03-03T03:40:07.323821Z"
    },
    "papermill": {
     "duration": 0.01913,
     "end_time": "2024-03-03T03:40:07.327333",
     "exception": false,
     "start_time": "2024-03-03T03:40:07.308203",
     "status": "completed"
    },
    "tags": []
   },
   "outputs": [
    {
     "data": {
      "text/html": [
       "<div><style>\n",
       ".dataframe > thead > tr,\n",
       ".dataframe > tbody > tr {\n",
       "  text-align: right;\n",
       "  white-space: pre-wrap;\n",
       "}\n",
       "</style>\n",
       "<small>shape: (1, 528)</small><table border=\"1\" class=\"dataframe\"><thead><tr><th>case_id</th><th>WEEK_NUM</th><th>target</th><th>month_decision</th><th>weekday_decision</th><th>assignmentdate_238D</th><th>assignmentdate_4527235D</th><th>assignmentdate_4955616D</th><th>birthdate_574D</th><th>contractssum_5085716L</th><th>dateofbirth_337D</th><th>dateofbirth_342D</th><th>days120_123L</th><th>days180_256L</th><th>days30_165L</th><th>days360_512L</th><th>days90_310L</th><th>description_5085714M</th><th>education_1103M</th><th>education_88M</th><th>firstquarter_103L</th><th>for3years_128L</th><th>for3years_504L</th><th>for3years_584L</th><th>formonth_118L</th><th>formonth_206L</th><th>formonth_535L</th><th>forquarter_1017L</th><th>forquarter_462L</th><th>forquarter_634L</th><th>fortoday_1092L</th><th>forweek_1077L</th><th>forweek_528L</th><th>forweek_601L</th><th>foryear_618L</th><th>foryear_818L</th><th>foryear_850L</th><th>&hellip;</th><th>min_relationshiptoclient_415T</th><th>min_relationshiptoclient_642T</th><th>min_remitter_829L</th><th>min_role_1084L</th><th>min_role_993L</th><th>min_safeguarantyflag_411L</th><th>min_sex_738L</th><th>min_type_25L</th><th>min_num_group1_8</th><th>min_amount_416A</th><th>max_contractenddate_991D</th><th>max_openingdate_313D</th><th>max_num_group1_9</th><th>max_amount_416A</th><th>min_contractenddate_991D</th><th>min_openingdate_313D</th><th>min_num_group1_9</th><th>min_last180dayaveragebalance_704A</th><th>min_last180dayturnover_1134A</th><th>min_last30dayturnover_651A</th><th>max_openingdate_857D</th><th>max_num_group1_10</th><th>max_last180dayaveragebalance_704A</th><th>max_last180dayturnover_1134A</th><th>max_last30dayturnover_651A</th><th>min_openingdate_857D</th><th>min_num_group1_10</th><th>min_pmts_dpdvalue_108P</th><th>min_pmts_pmtsoverdue_635A</th><th>max_pmts_date_1107D</th><th>max_num_group1_11</th><th>max_num_group2</th><th>max_pmts_dpdvalue_108P</th><th>max_pmts_pmtsoverdue_635A</th><th>min_pmts_date_1107D</th><th>min_num_group1_11</th><th>min_num_group2</th></tr><tr><td>u32</td><td>u32</td><td>u32</td><td>u32</td><td>u32</td><td>u32</td><td>u32</td><td>u32</td><td>u32</td><td>u32</td><td>u32</td><td>u32</td><td>u32</td><td>u32</td><td>u32</td><td>u32</td><td>u32</td><td>u32</td><td>u32</td><td>u32</td><td>u32</td><td>u32</td><td>u32</td><td>u32</td><td>u32</td><td>u32</td><td>u32</td><td>u32</td><td>u32</td><td>u32</td><td>u32</td><td>u32</td><td>u32</td><td>u32</td><td>u32</td><td>u32</td><td>u32</td><td>&hellip;</td><td>u32</td><td>u32</td><td>u32</td><td>u32</td><td>u32</td><td>u32</td><td>u32</td><td>u32</td><td>u32</td><td>u32</td><td>u32</td><td>u32</td><td>u32</td><td>u32</td><td>u32</td><td>u32</td><td>u32</td><td>u32</td><td>u32</td><td>u32</td><td>u32</td><td>u32</td><td>u32</td><td>u32</td><td>u32</td><td>u32</td><td>u32</td><td>u32</td><td>u32</td><td>u32</td><td>u32</td><td>u32</td><td>u32</td><td>u32</td><td>u32</td><td>u32</td><td>u32</td></tr></thead><tbody><tr><td>0</td><td>0</td><td>0</td><td>0</td><td>0</td><td>1389663</td><td>1411681</td><td>1455026</td><td>918788</td><td>1369330</td><td>140968</td><td>1490159</td><td>140968</td><td>140968</td><td>140968</td><td>140968</td><td>140968</td><td>26183</td><td>26183</td><td>26183</td><td>140968</td><td>1490145</td><td>1490145</td><td>1490145</td><td>1490145</td><td>1490145</td><td>1490145</td><td>1490145</td><td>1490145</td><td>1490145</td><td>1490145</td><td>1490145</td><td>1490145</td><td>1490145</td><td>1490145</td><td>1490145</td><td>1490145</td><td>&hellip;</td><td>935626</td><td>935626</td><td>935626</td><td>0</td><td>1514201</td><td>2</td><td>0</td><td>0</td><td>0</td><td>1421548</td><td>1467040</td><td>1421548</td><td>1421548</td><td>1421548</td><td>1467040</td><td>1421548</td><td>1421548</td><td>1515370</td><td>1516387</td><td>1516387</td><td>1421572</td><td>1414887</td><td>1515370</td><td>1516387</td><td>1516387</td><td>1421572</td><td>1414887</td><td>1490244</td><td>1490244</td><td>1490212</td><td>1490212</td><td>1490212</td><td>1490244</td><td>1490244</td><td>1490212</td><td>1490212</td><td>1490212</td></tr></tbody></table></div>"
      ],
      "text/plain": [
       "shape: (1, 528)\n",
       "┌─────────┬──────────┬────────┬────────────┬───┬────────────┬────────────┬────────────┬────────────┐\n",
       "│ case_id ┆ WEEK_NUM ┆ target ┆ month_deci ┆ … ┆ max_pmts_p ┆ min_pmts_d ┆ min_num_gr ┆ min_num_gr │\n",
       "│ ---     ┆ ---      ┆ ---    ┆ sion       ┆   ┆ mtsoverdue ┆ ate_1107D  ┆ oup1_11    ┆ oup2       │\n",
       "│ u32     ┆ u32      ┆ u32    ┆ ---        ┆   ┆ _635A      ┆ ---        ┆ ---        ┆ ---        │\n",
       "│         ┆          ┆        ┆ u32        ┆   ┆ ---        ┆ u32        ┆ u32        ┆ u32        │\n",
       "│         ┆          ┆        ┆            ┆   ┆ u32        ┆            ┆            ┆            │\n",
       "╞═════════╪══════════╪════════╪════════════╪═══╪════════════╪════════════╪════════════╪════════════╡\n",
       "│ 0       ┆ 0        ┆ 0      ┆ 0          ┆ … ┆ 1490244    ┆ 1490212    ┆ 1490212    ┆ 1490212    │\n",
       "└─────────┴──────────┴────────┴────────────┴───┴────────────┴────────────┴────────────┴────────────┘"
      ]
     },
     "execution_count": 14,
     "metadata": {},
     "output_type": "execute_result"
    }
   ],
   "source": [
    "df_train.null_count()"
   ]
  },
  {
   "cell_type": "code",
   "execution_count": 15,
   "id": "8fcab49a",
   "metadata": {
    "execution": {
     "iopub.execute_input": "2024-03-03T03:40:07.347239Z",
     "iopub.status.busy": "2024-03-03T03:40:07.346854Z",
     "iopub.status.idle": "2024-03-03T03:40:10.426810Z",
     "shell.execute_reply": "2024-03-03T03:40:10.425489Z"
    },
    "papermill": {
     "duration": 3.092775,
     "end_time": "2024-03-03T03:40:10.429114",
     "exception": false,
     "start_time": "2024-03-03T03:40:07.336339",
     "status": "completed"
    },
    "tags": []
   },
   "outputs": [
    {
     "name": "stdout",
     "output_type": "stream",
     "text": [
      "train data shape:\t (1526659, 341)\n",
      "test data shape:\t (10, 340)\n"
     ]
    }
   ],
   "source": [
    "df_train = df_train.pipe(Pipeline.filter_cols)\n",
    "df_test = df_test.select([col for col in df_train.columns if col != \"target\"])\n",
    "\n",
    "print(\"train data shape:\\t\", df_train.shape)\n",
    "print(\"test data shape:\\t\", df_test.shape)"
   ]
  },
  {
   "cell_type": "code",
   "execution_count": 16,
   "id": "e7277d7a",
   "metadata": {
    "execution": {
     "iopub.execute_input": "2024-03-03T03:40:10.447646Z",
     "iopub.status.busy": "2024-03-03T03:40:10.447326Z",
     "iopub.status.idle": "2024-03-03T03:40:22.569832Z",
     "shell.execute_reply": "2024-03-03T03:40:22.569094Z"
    },
    "papermill": {
     "duration": 12.133648,
     "end_time": "2024-03-03T03:40:22.571529",
     "exception": false,
     "start_time": "2024-03-03T03:40:10.437881",
     "status": "completed"
    },
    "tags": []
   },
   "outputs": [
    {
     "name": "stdout",
     "output_type": "stream",
     "text": [
      "Feature assignmentdate_238D has 100% null rate in the last 2 weeks\n",
      "Feature birthdate_574D has 100% null rate in the last 2 weeks\n",
      "Feature pmtaverage_3A has 100% null rate in the last 2 weeks\n",
      "Feature pmtcount_693L has 100% null rate in the last 2 weeks\n",
      "Feature pmtscount_423L has 100% null rate in the last 2 weeks\n",
      "Feature pmtssum_45A has 100% null rate in the last 2 weeks\n",
      "Feature responsedate_1012D has 100% null rate in the last 2 weeks\n",
      "Feature validfrom_1069D has 100% null rate in the last 2 weeks\n",
      "Feature min_pmtamount_36A has 100% null rate in the last 2 weeks\n",
      "Feature max_processingdate_168D has 100% null rate in the last 2 weeks\n",
      "Feature max_num_group1_5 has 100% null rate in the last 2 weeks\n",
      "Feature max_pmtamount_36A has 100% null rate in the last 2 weeks\n",
      "Feature min_processingdate_168D has 100% null rate in the last 2 weeks\n",
      "Feature min_num_group1_5 has 100% null rate in the last 2 weeks\n",
      "['assignmentdate_238D', 'birthdate_574D', 'pmtaverage_3A', 'pmtcount_693L', 'pmtscount_423L', 'pmtssum_45A', 'responsedate_1012D', 'validfrom_1069D', 'min_pmtamount_36A', 'max_processingdate_168D', 'max_num_group1_5', 'max_pmtamount_36A', 'min_processingdate_168D', 'min_num_group1_5']\n"
     ]
    }
   ],
   "source": [
    "deprecated_features = []\n",
    "\n",
    "for feature in df_train.columns:\n",
    "    if feature in [\"target\", \"case_id\", \"WEEK_NUM\"]:\n",
    "        continue\n",
    "\n",
    "    by_week_df = df_train.group_by(\"WEEK_NUM\").agg(\n",
    "        (\n",
    "            pl.col(feature).null_count()\n",
    "            / pl.col(feature).len()\n",
    "        ).alias(\"null_rate\")\n",
    "    ).sort(\"WEEK_NUM\")\n",
    "\n",
    "    if by_week_df[\"null_rate\"][-1] == 1 and by_week_df[\"null_rate\"][-2] == 1:\n",
    "        print(f\"Feature {feature} has 100% null rate in the last 2 weeks\")\n",
    "        deprecated_features.append(feature)\n",
    "    elif by_week_df[\"null_rate\"][-1] == 1:\n",
    "        print(f\"Feature {feature} has 100% null rate in the last week\")\n",
    "        deprecated_features.append(feature)\n",
    "\n",
    "print(deprecated_features)"
   ]
  },
  {
   "cell_type": "code",
   "execution_count": 17,
   "id": "d2c853a0",
   "metadata": {
    "execution": {
     "iopub.execute_input": "2024-03-03T03:40:22.590363Z",
     "iopub.status.busy": "2024-03-03T03:40:22.589981Z",
     "iopub.status.idle": "2024-03-03T03:40:22.594978Z",
     "shell.execute_reply": "2024-03-03T03:40:22.594377Z"
    },
    "papermill": {
     "duration": 0.016119,
     "end_time": "2024-03-03T03:40:22.596618",
     "exception": false,
     "start_time": "2024-03-03T03:40:22.580499",
     "status": "completed"
    },
    "tags": []
   },
   "outputs": [
    {
     "data": {
      "text/plain": [
       "14"
      ]
     },
     "execution_count": 17,
     "metadata": {},
     "output_type": "execute_result"
    }
   ],
   "source": [
    "len(deprecated_features)"
   ]
  },
  {
   "cell_type": "code",
   "execution_count": 18,
   "id": "8f860d24",
   "metadata": {
    "execution": {
     "iopub.execute_input": "2024-03-03T03:40:22.615659Z",
     "iopub.status.busy": "2024-03-03T03:40:22.615120Z",
     "iopub.status.idle": "2024-03-03T03:40:22.618734Z",
     "shell.execute_reply": "2024-03-03T03:40:22.618193Z"
    },
    "papermill": {
     "duration": 0.014924,
     "end_time": "2024-03-03T03:40:22.620274",
     "exception": false,
     "start_time": "2024-03-03T03:40:22.605350",
     "status": "completed"
    },
    "tags": []
   },
   "outputs": [],
   "source": [
    "def deprecated_features_removal(data_frame, deprecated_features_list):\n",
    "    for col in deprecated_features_list:\n",
    "        data_frame = data_frame.drop(col)\n",
    "\n",
    "    return data_frame"
   ]
  },
  {
   "cell_type": "code",
   "execution_count": 19,
   "id": "0e57bc9d",
   "metadata": {
    "execution": {
     "iopub.execute_input": "2024-03-03T03:40:22.639894Z",
     "iopub.status.busy": "2024-03-03T03:40:22.639423Z",
     "iopub.status.idle": "2024-03-03T03:40:22.657338Z",
     "shell.execute_reply": "2024-03-03T03:40:22.656040Z"
    },
    "papermill": {
     "duration": 0.029789,
     "end_time": "2024-03-03T03:40:22.659466",
     "exception": false,
     "start_time": "2024-03-03T03:40:22.629677",
     "status": "completed"
    },
    "tags": []
   },
   "outputs": [
    {
     "name": "stdout",
     "output_type": "stream",
     "text": [
      "(1526659, 341)\n",
      "(1526659, 327)\n"
     ]
    }
   ],
   "source": [
    "print(df_train.shape)\n",
    "df_train = deprecated_features_removal(df_train,deprecated_features)\n",
    "print(df_train.shape)"
   ]
  },
  {
   "cell_type": "code",
   "execution_count": 20,
   "id": "79a1f0a9",
   "metadata": {
    "execution": {
     "iopub.execute_input": "2024-03-03T03:40:22.680027Z",
     "iopub.status.busy": "2024-03-03T03:40:22.679025Z",
     "iopub.status.idle": "2024-03-03T03:40:22.688902Z",
     "shell.execute_reply": "2024-03-03T03:40:22.688136Z"
    },
    "papermill": {
     "duration": 0.02271,
     "end_time": "2024-03-03T03:40:22.691751",
     "exception": false,
     "start_time": "2024-03-03T03:40:22.669041",
     "status": "completed"
    },
    "tags": []
   },
   "outputs": [
    {
     "name": "stdout",
     "output_type": "stream",
     "text": [
      "(10, 340)\n",
      "(10, 326)\n"
     ]
    }
   ],
   "source": [
    "print(df_test.shape)\n",
    "df_test = deprecated_features_removal(df_test,deprecated_features)\n",
    "print(df_test.shape)"
   ]
  },
  {
   "cell_type": "code",
   "execution_count": 21,
   "id": "9fd1ba5f",
   "metadata": {
    "execution": {
     "iopub.execute_input": "2024-03-03T03:40:22.711780Z",
     "iopub.status.busy": "2024-03-03T03:40:22.711247Z",
     "iopub.status.idle": "2024-03-03T03:40:22.724501Z",
     "shell.execute_reply": "2024-03-03T03:40:22.723869Z"
    },
    "papermill": {
     "duration": 0.025,
     "end_time": "2024-03-03T03:40:22.726187",
     "exception": false,
     "start_time": "2024-03-03T03:40:22.701187",
     "status": "completed"
    },
    "tags": []
   },
   "outputs": [
    {
     "data": {
      "text/html": [
       "<div><style>\n",
       ".dataframe > thead > tr,\n",
       ".dataframe > tbody > tr {\n",
       "  text-align: right;\n",
       "  white-space: pre-wrap;\n",
       "}\n",
       "</style>\n",
       "<small>shape: (5, 327)</small><table border=\"1\" class=\"dataframe\"><thead><tr><th>case_id</th><th>WEEK_NUM</th><th>target</th><th>month_decision</th><th>weekday_decision</th><th>assignmentdate_4527235D</th><th>contractssum_5085716L</th><th>dateofbirth_337D</th><th>days120_123L</th><th>days180_256L</th><th>days30_165L</th><th>days360_512L</th><th>days90_310L</th><th>description_5085714M</th><th>education_1103M</th><th>education_88M</th><th>firstquarter_103L</th><th>fourthquarter_440L</th><th>maritalst_385M</th><th>maritalst_893M</th><th>numberofqueries_373L</th><th>pmtaverage_4527227A</th><th>pmtcount_4527229L</th><th>requesttype_4525192L</th><th>responsedate_4527233D</th><th>responsedate_4917613D</th><th>secondquarter_766L</th><th>thirdquarter_1082L</th><th>actualdpdtolerance_344P</th><th>amtinstpaidbefduel24m_4187115A</th><th>annuity_780A</th><th>annuitynextmonth_57A</th><th>applicationcnt_361L</th><th>applications30d_658L</th><th>applicationscnt_1086L</th><th>applicationscnt_464L</th><th>applicationscnt_629L</th><th>&hellip;</th><th>max_role_1084L</th><th>max_safeguarantyflag_411L</th><th>max_sex_738L</th><th>max_type_25L</th><th>max_num_group1_8</th><th>max_mainoccupationinc_384A</th><th>min_birth_259D</th><th>min_empl_employedfrom_271D</th><th>min_education_927M</th><th>min_language1_981M</th><th>min_contaddr_matchlist_1032L</th><th>min_contaddr_smempladdr_334L</th><th>min_empl_employedtotal_800L</th><th>min_empl_industry_691L</th><th>min_familystate_447L</th><th>min_housetype_905L</th><th>min_incometype_1044T</th><th>min_personindex_1023L</th><th>min_persontype_1072L</th><th>min_persontype_792L</th><th>min_relationshiptoclient_415T</th><th>min_relationshiptoclient_642T</th><th>min_remitter_829L</th><th>min_safeguarantyflag_411L</th><th>min_sex_738L</th><th>min_type_25L</th><th>min_num_group1_8</th><th>min_amount_416A</th><th>max_openingdate_313D</th><th>max_num_group1_9</th><th>max_amount_416A</th><th>min_openingdate_313D</th><th>min_num_group1_9</th><th>max_openingdate_857D</th><th>max_num_group1_10</th><th>min_openingdate_857D</th><th>min_num_group1_10</th></tr><tr><td>i64</td><td>i64</td><td>i64</td><td>i8</td><td>i8</td><td>i64</td><td>f64</td><td>i64</td><td>f64</td><td>f64</td><td>f64</td><td>f64</td><td>f64</td><td>str</td><td>str</td><td>str</td><td>f64</td><td>f64</td><td>str</td><td>str</td><td>f64</td><td>f64</td><td>f64</td><td>str</td><td>i64</td><td>i64</td><td>f64</td><td>f64</td><td>f64</td><td>f64</td><td>f64</td><td>f64</td><td>f64</td><td>f64</td><td>f64</td><td>f64</td><td>f64</td><td>&hellip;</td><td>str</td><td>bool</td><td>str</td><td>str</td><td>i64</td><td>f64</td><td>i64</td><td>i64</td><td>str</td><td>str</td><td>bool</td><td>bool</td><td>str</td><td>str</td><td>str</td><td>str</td><td>str</td><td>f64</td><td>f64</td><td>f64</td><td>str</td><td>str</td><td>bool</td><td>bool</td><td>str</td><td>str</td><td>i64</td><td>f64</td><td>i64</td><td>i64</td><td>f64</td><td>i64</td><td>i64</td><td>i64</td><td>i64</td><td>i64</td><td>i64</td></tr></thead><tbody><tr><td>0</td><td>0</td><td>0</td><td>1</td><td>4</td><td>null</td><td>null</td><td>null</td><td>null</td><td>null</td><td>null</td><td>null</td><td>null</td><td>null</td><td>null</td><td>null</td><td>null</td><td>null</td><td>null</td><td>null</td><td>null</td><td>null</td><td>null</td><td>null</td><td>null</td><td>null</td><td>null</td><td>null</td><td>null</td><td>null</td><td>1917.6</td><td>0.0</td><td>0.0</td><td>0.0</td><td>0.0</td><td>0.0</td><td>0.0</td><td>&hellip;</td><td>&quot;PE&quot;</td><td>true</td><td>&quot;F&quot;</td><td>&quot;PRIMARY_MOBILE…</td><td>3</td><td>10800.0</td><td>-11874</td><td>-475</td><td>&quot;P97_36_170&quot;</td><td>&quot;P10_39_147&quot;</td><td>false</td><td>false</td><td>&quot;MORE_FIVE&quot;</td><td>&quot;OTHER&quot;</td><td>&quot;MARRIED&quot;</td><td>null</td><td>&quot;SALARIED_GOVT&quot;</td><td>0.0</td><td>1.0</td><td>1.0</td><td>&quot;COLLEAGUE&quot;</td><td>&quot;COLLEAGUE&quot;</td><td>false</td><td>true</td><td>&quot;F&quot;</td><td>&quot;PHONE&quot;</td><td>0</td><td>null</td><td>null</td><td>null</td><td>null</td><td>null</td><td>null</td><td>null</td><td>null</td><td>null</td><td>null</td></tr><tr><td>1</td><td>0</td><td>0</td><td>1</td><td>4</td><td>null</td><td>null</td><td>null</td><td>null</td><td>null</td><td>null</td><td>null</td><td>null</td><td>null</td><td>null</td><td>null</td><td>null</td><td>null</td><td>null</td><td>null</td><td>null</td><td>null</td><td>null</td><td>null</td><td>null</td><td>null</td><td>null</td><td>null</td><td>null</td><td>null</td><td>3134.0</td><td>0.0</td><td>0.0</td><td>0.0</td><td>0.0</td><td>0.0</td><td>0.0</td><td>&hellip;</td><td>&quot;PE&quot;</td><td>true</td><td>&quot;M&quot;</td><td>&quot;PRIMARY_MOBILE…</td><td>4</td><td>10000.0</td><td>-22435</td><td>-3718</td><td>&quot;P97_36_170&quot;</td><td>&quot;P10_39_147&quot;</td><td>false</td><td>false</td><td>&quot;MORE_FIVE&quot;</td><td>&quot;OTHER&quot;</td><td>&quot;DIVORCED&quot;</td><td>null</td><td>&quot;SALARIED_GOVT&quot;</td><td>0.0</td><td>1.0</td><td>1.0</td><td>&quot;OTHER_RELATIVE…</td><td>&quot;OTHER_RELATIVE…</td><td>false</td><td>true</td><td>&quot;M&quot;</td><td>&quot;PHONE&quot;</td><td>0</td><td>null</td><td>null</td><td>null</td><td>null</td><td>null</td><td>null</td><td>null</td><td>null</td><td>null</td><td>null</td></tr><tr><td>2</td><td>0</td><td>0</td><td>1</td><td>5</td><td>null</td><td>null</td><td>null</td><td>null</td><td>null</td><td>null</td><td>null</td><td>null</td><td>null</td><td>null</td><td>null</td><td>null</td><td>null</td><td>null</td><td>null</td><td>null</td><td>null</td><td>null</td><td>null</td><td>null</td><td>null</td><td>null</td><td>null</td><td>null</td><td>null</td><td>4937.0</td><td>0.0</td><td>0.0</td><td>0.0</td><td>0.0</td><td>0.0</td><td>0.0</td><td>&hellip;</td><td>&quot;PE&quot;</td><td>true</td><td>&quot;F&quot;</td><td>&quot;PRIMARY_MOBILE…</td><td>4</td><td>14000.0</td><td>-16105</td><td>-3245</td><td>&quot;P97_36_170&quot;</td><td>&quot;P10_39_147&quot;</td><td>false</td><td>false</td><td>&quot;MORE_FIVE&quot;</td><td>&quot;OTHER&quot;</td><td>&quot;MARRIED&quot;</td><td>null</td><td>&quot;EMPLOYED&quot;</td><td>0.0</td><td>1.0</td><td>1.0</td><td>&quot;SIBLING&quot;</td><td>&quot;SIBLING&quot;</td><td>false</td><td>true</td><td>&quot;F&quot;</td><td>&quot;HOME_PHONE&quot;</td><td>0</td><td>null</td><td>null</td><td>null</td><td>null</td><td>null</td><td>null</td><td>null</td><td>null</td><td>null</td><td>null</td></tr><tr><td>3</td><td>0</td><td>0</td><td>1</td><td>4</td><td>null</td><td>null</td><td>null</td><td>null</td><td>null</td><td>null</td><td>null</td><td>null</td><td>null</td><td>null</td><td>null</td><td>null</td><td>null</td><td>null</td><td>null</td><td>null</td><td>null</td><td>null</td><td>null</td><td>null</td><td>null</td><td>null</td><td>null</td><td>null</td><td>null</td><td>4643.6</td><td>0.0</td><td>0.0</td><td>1.0</td><td>0.0</td><td>2.0</td><td>0.0</td><td>&hellip;</td><td>&quot;PE&quot;</td><td>true</td><td>&quot;F&quot;</td><td>&quot;PRIMARY_MOBILE…</td><td>2</td><td>10000.0</td><td>-9286</td><td>-233</td><td>&quot;P33_146_175&quot;</td><td>&quot;P10_39_147&quot;</td><td>false</td><td>false</td><td>&quot;MORE_FIVE&quot;</td><td>&quot;OTHER&quot;</td><td>&quot;MARRIED&quot;</td><td>null</td><td>&quot;EMPLOYED&quot;</td><td>0.0</td><td>1.0</td><td>1.0</td><td>&quot;SPOUSE&quot;</td><td>&quot;SPOUSE&quot;</td><td>false</td><td>true</td><td>&quot;F&quot;</td><td>&quot;PHONE&quot;</td><td>0</td><td>null</td><td>null</td><td>null</td><td>null</td><td>null</td><td>null</td><td>null</td><td>null</td><td>null</td><td>null</td></tr><tr><td>4</td><td>0</td><td>1</td><td>1</td><td>5</td><td>null</td><td>null</td><td>null</td><td>null</td><td>null</td><td>null</td><td>null</td><td>null</td><td>null</td><td>null</td><td>null</td><td>null</td><td>null</td><td>null</td><td>null</td><td>null</td><td>null</td><td>null</td><td>null</td><td>null</td><td>null</td><td>null</td><td>null</td><td>null</td><td>null</td><td>3390.2</td><td>0.0</td><td>0.0</td><td>1.0</td><td>0.0</td><td>0.0</td><td>0.0</td><td>&hellip;</td><td>&quot;PE&quot;</td><td>true</td><td>&quot;F&quot;</td><td>&quot;PRIMARY_MOBILE…</td><td>3</td><td>24000.0</td><td>-9134</td><td>-1481</td><td>&quot;P33_146_175&quot;</td><td>&quot;P10_39_147&quot;</td><td>false</td><td>false</td><td>&quot;MORE_FIVE&quot;</td><td>&quot;OTHER&quot;</td><td>&quot;MARRIED&quot;</td><td>null</td><td>&quot;EMPLOYED&quot;</td><td>0.0</td><td>1.0</td><td>1.0</td><td>&quot;COLLEAGUE&quot;</td><td>&quot;COLLEAGUE&quot;</td><td>false</td><td>true</td><td>&quot;F&quot;</td><td>&quot;PHONE&quot;</td><td>0</td><td>null</td><td>null</td><td>null</td><td>null</td><td>null</td><td>null</td><td>null</td><td>null</td><td>null</td><td>null</td></tr></tbody></table></div>"
      ],
      "text/plain": [
       "shape: (5, 327)\n",
       "┌─────────┬──────────┬────────┬────────────┬───┬────────────┬────────────┬────────────┬────────────┐\n",
       "│ case_id ┆ WEEK_NUM ┆ target ┆ month_deci ┆ … ┆ max_openin ┆ max_num_gr ┆ min_openin ┆ min_num_gr │\n",
       "│ ---     ┆ ---      ┆ ---    ┆ sion       ┆   ┆ gdate_857D ┆ oup1_10    ┆ gdate_857D ┆ oup1_10    │\n",
       "│ i64     ┆ i64      ┆ i64    ┆ ---        ┆   ┆ ---        ┆ ---        ┆ ---        ┆ ---        │\n",
       "│         ┆          ┆        ┆ i8         ┆   ┆ i64        ┆ i64        ┆ i64        ┆ i64        │\n",
       "╞═════════╪══════════╪════════╪════════════╪═══╪════════════╪════════════╪════════════╪════════════╡\n",
       "│ 0       ┆ 0        ┆ 0      ┆ 1          ┆ … ┆ null       ┆ null       ┆ null       ┆ null       │\n",
       "│ 1       ┆ 0        ┆ 0      ┆ 1          ┆ … ┆ null       ┆ null       ┆ null       ┆ null       │\n",
       "│ 2       ┆ 0        ┆ 0      ┆ 1          ┆ … ┆ null       ┆ null       ┆ null       ┆ null       │\n",
       "│ 3       ┆ 0        ┆ 0      ┆ 1          ┆ … ┆ null       ┆ null       ┆ null       ┆ null       │\n",
       "│ 4       ┆ 0        ┆ 1      ┆ 1          ┆ … ┆ null       ┆ null       ┆ null       ┆ null       │\n",
       "└─────────┴──────────┴────────┴────────────┴───┴────────────┴────────────┴────────────┴────────────┘"
      ]
     },
     "execution_count": 21,
     "metadata": {},
     "output_type": "execute_result"
    }
   ],
   "source": [
    "df_train.head()"
   ]
  },
  {
   "cell_type": "code",
   "execution_count": 22,
   "id": "bf7896c5",
   "metadata": {
    "execution": {
     "iopub.execute_input": "2024-03-03T03:40:22.747790Z",
     "iopub.status.busy": "2024-03-03T03:40:22.746846Z",
     "iopub.status.idle": "2024-03-03T03:40:23.758437Z",
     "shell.execute_reply": "2024-03-03T03:40:23.756885Z"
    },
    "papermill": {
     "duration": 1.024331,
     "end_time": "2024-03-03T03:40:23.760540",
     "exception": false,
     "start_time": "2024-03-03T03:40:22.736209",
     "status": "completed"
    },
    "tags": []
   },
   "outputs": [
    {
     "name": "stdout",
     "output_type": "stream",
     "text": [
      "assignmentdate_4527235D : 1411681\n",
      "contractssum_5085716L : 1369330\n",
      "dateofbirth_337D : 140968\n",
      "days120_123L : 140968\n",
      "days180_256L : 140968\n",
      "days30_165L : 140968\n",
      "days360_512L : 140968\n",
      "days90_310L : 140968\n",
      "\u001b[1mCategorical column\u001b[0m description_5085714M : 26183\n",
      "\u001b[1mCategorical column\u001b[0m description_5085714M : shape: (3,)\n",
      "Series: 'description_5085714M' [str]\n",
      "[\n",
      "\tnull\n",
      "\t\"2fc785b2\"\n",
      "\t\"a55475b1\"\n",
      "]\n",
      "\u001b[1mCategorical column\u001b[0m education_1103M : 26183\n",
      "\u001b[1mCategorical column\u001b[0m education_1103M : shape: (6,)\n",
      "Series: 'education_1103M' [str]\n",
      "[\n",
      "\t\"c8e1a1d0\"\n",
      "\t\"39a0853f\"\n",
      "\tnull\n",
      "\t\"a55475b1\"\n",
      "\t\"6b2ae0fa\"\n",
      "\t\"717ddd49\"\n",
      "]\n",
      "\u001b[1mCategorical column\u001b[0m education_88M : 26183\n",
      "\u001b[1mCategorical column\u001b[0m education_88M : shape: (6,)\n",
      "Series: 'education_88M' [str]\n",
      "[\n",
      "\t\"a55475b1\"\n",
      "\t\"6b2ae0fa\"\n",
      "\t\"c8e1a1d0\"\n",
      "\t\"717ddd49\"\n",
      "\t\"a34a13c8\"\n",
      "\tnull\n",
      "]\n",
      "firstquarter_103L : 140968\n",
      "fourthquarter_440L : 140968\n",
      "\u001b[1mCategorical column\u001b[0m maritalst_385M : 26183\n",
      "\u001b[1mCategorical column\u001b[0m maritalst_385M : shape: (7,)\n",
      "Series: 'maritalst_385M' [str]\n",
      "[\n",
      "\t\"ecd83604\"\n",
      "\t\"a55475b1\"\n",
      "\t\"a7fcb6e5\"\n",
      "\t\"38c061ee\"\n",
      "\t\"3439d993\"\n",
      "\t\"b6cabe76\"\n",
      "\tnull\n",
      "]\n",
      "\u001b[1mCategorical column\u001b[0m maritalst_893M : 26183\n",
      "\u001b[1mCategorical column\u001b[0m maritalst_893M : shape: (7,)\n",
      "Series: 'maritalst_893M' [str]\n",
      "[\n",
      "\t\"1a19667c\"\n",
      "\t\"977b2a70\"\n",
      "\t\"a55475b1\"\n",
      "\tnull\n",
      "\t\"e18430ff\"\n",
      "\t\"46b968c3\"\n",
      "\t\"ecd83604\"\n",
      "]\n",
      "numberofqueries_373L : 140968\n",
      "pmtaverage_4527227A : 1411681\n",
      "pmtcount_4527229L : 1411681\n",
      "\u001b[1mCategorical column\u001b[0m requesttype_4525192L : 853395\n",
      "\u001b[1mCategorical column\u001b[0m requesttype_4525192L : shape: (4,)\n",
      "Series: 'requesttype_4525192L' [str]\n",
      "[\n",
      "\t\"PENSION_6\"\n",
      "\t\"DEDUCTION_6\"\n",
      "\tnull\n",
      "\t\"SOCIAL_6\"\n",
      "]\n",
      "responsedate_4527233D : 866332\n",
      "responsedate_4917613D : 1301747\n",
      "secondquarter_766L : 140968\n",
      "thirdquarter_1082L : 140968\n",
      "actualdpdtolerance_344P : 418178\n",
      "amtinstpaidbefduel24m_4187115A : 561124\n",
      "annuitynextmonth_57A : 4\n",
      "avgdbddpdlast24m_3658932P : 613202\n",
      "avgdbddpdlast3m_4187120P : 948244\n",
      "avgdbdtollast24m_4525197P : 972827\n",
      "avgdpdtolclosure24_3658938P : 467175\n",
      "avginstallast24m_3658937A : 624875\n",
      "avglnamtstart24m_4525187A : 1364150\n",
      "avgmaxdpdlast9m_3716943P : 757006\n",
      "avgoutstandbalancel6m_4187114A : 841181\n",
      "avgpmtlast12m_4525200A : 1026987\n",
      "\u001b[1mCategorical column\u001b[0m bankacctype_710L : 1109629\n",
      "\u001b[1mCategorical column\u001b[0m bankacctype_710L : shape: (2,)\n",
      "Series: 'bankacctype_710L' [str]\n",
      "[\n",
      "\tnull\n",
      "\t\"CA\"\n",
      "]\n",
      "\u001b[1mCategorical column\u001b[0m cardtype_51L : 1334968\n",
      "\u001b[1mCategorical column\u001b[0m cardtype_51L : shape: (3,)\n",
      "Series: 'cardtype_51L' [str]\n",
      "[\n",
      "\t\"PERSONALIZED\"\n",
      "\tnull\n",
      "\t\"INSTANT\"\n",
      "]\n",
      "cntincpaycont9m_3716944L : 455190\n",
      "cntpmts24_3658933L : 460822\n",
      "commnoinclast6m_3546845L : 343375\n",
      "\u001b[1mCategorical column\u001b[0m credtype_322L : 1\n",
      "\u001b[1mCategorical column\u001b[0m credtype_322L : shape: (4,)\n",
      "Series: 'credtype_322L' [str]\n",
      "[\n",
      "\t\"COL\"\n",
      "\t\"REL\"\n",
      "\tnull\n",
      "\t\"CAL\"\n",
      "]\n",
      "currdebt_22A : 4\n",
      "currdebtcredtyperange_828A : 4\n",
      "datefirstoffer_1144D : 833735\n",
      "datelastinstal40dpd_247D : 1392841\n",
      "datelastunpaid_3546854D : 887659\n",
      "daysoverduetolerancedd_3976961L : 452594\n",
      "\u001b[1mCategorical column\u001b[0m disbursementtype_67L : 866\n",
      "\u001b[1mCategorical column\u001b[0m disbursementtype_67L : shape: (4,)\n",
      "Series: 'disbursementtype_67L' [str]\n",
      "[\n",
      "\t\"SBA\"\n",
      "\t\"DD\"\n",
      "\tnull\n",
      "\t\"GBA\"\n",
      "]\n",
      "dtlastpmtallstes_4499206D : 977119\n",
      "eir_270L : 190833\n",
      "equalitydataagreement_891L : 1448632\n",
      "firstclxcampaign_1125D : 859214\n",
      "firstdatedue_489D : 482103\n",
      "inittransactionamount_650A : 1334357\n",
      "\u001b[1mCategorical column\u001b[0m inittransactioncode_186L : 1\n",
      "\u001b[1mCategorical column\u001b[0m inittransactioncode_186L : shape: (4,)\n",
      "Series: 'inittransactioncode_186L' [str]\n",
      "[\n",
      "\t\"POS\"\n",
      "\t\"NDF\"\n",
      "\tnull\n",
      "\t\"CASH\"\n",
      "]\n",
      "interestrate_311L : 190833\n",
      "isdebitcard_729L : 1334357\n",
      "lastactivateddate_801D : 453587\n",
      "lastapplicationdate_877D : 305137\n",
      "lastapprcredamount_781A : 442041\n",
      "lastapprdate_640D : 442041\n",
      "lastdelinqdate_224D : 977975\n",
      "lastrejectcredamount_222A : 769046\n",
      "lastrejectdate_50D : 769046\n",
      "\u001b[1mCategorical column\u001b[0m lastst_736L : 305137\n",
      "\u001b[1mCategorical column\u001b[0m lastst_736L : shape: (12,)\n",
      "Series: 'lastst_736L' [str]\n",
      "[\n",
      "\t\"Q\"\n",
      "\tnull\n",
      "\t\"S\"\n",
      "\t\"N\"\n",
      "\t\"K\"\n",
      "\t\"A\"\n",
      "\t\"P\"\n",
      "\t\"D\"\n",
      "\t\"R\"\n",
      "\t\"H\"\n",
      "\t\"L\"\n",
      "\t\"T\"\n",
      "]\n",
      "maininc_215A : 511255\n",
      "mastercontrelectronic_519L : 306019\n",
      "mastercontrexist_109L : 306019\n",
      "maxannuity_159A : 306019\n",
      "maxdbddpdlast1m_3658939P : 960953\n",
      "maxdbddpdtollast12m_3658940P : 705504\n",
      "maxdbddpdtollast6m_4187119P : 876276\n",
      "maxdebt4_972A : 306019\n",
      "maxdpdfrom6mto36m_3546853P : 343375\n",
      "maxdpdinstldate_3546855D : 826000\n",
      "maxdpdinstlnum_3546846P : 829402\n",
      "maxdpdlast12m_727P : 306019\n",
      "maxdpdlast24m_143P : 306019\n",
      "maxdpdlast3m_392P : 306019\n",
      "maxdpdlast6m_474P : 306019\n",
      "maxdpdlast9m_1059P : 306019\n",
      "maxdpdtolerance_374P : 306019\n",
      "maxinstallast24m_3658928A : 624875\n",
      "maxlnamtstart6m_4525199A : 1032856\n",
      "maxoutstandbalancel12m_4187113A : 766958\n",
      "maxpmtlast3m_4525190A : 1129330\n",
      "mindbddpdlast24m_3658935P : 613202\n",
      "mindbdtollast24m_4525191P : 972827\n",
      "monthsannuity_845L : 452593\n",
      "numincomingpmts_3546848L : 455081\n",
      "numinstlallpaidearly3d_817L : 445669\n",
      "numinstls_657L : 4\n",
      "numinstlsallpaid_934L : 445669\n",
      "numinstlswithdpd10_728L : 456495\n",
      "numinstlswithdpd5_4187116L : 561124\n",
      "numinstlswithoutdpd_562L : 456495\n",
      "numinstmatpaidtearly2d_4499204L : 847191\n",
      "numinstpaid_4499208L : 847191\n",
      "numinstpaidearly3d_3546850L : 446983\n",
      "numinstpaidearly3dest_4493216L : 840646\n",
      "numinstpaidearly5d_1087L : 452593\n",
      "numinstpaidearly5dest_4493211L : 840646\n",
      "numinstpaidearly5dobd_4499205L : 847191\n",
      "numinstpaidearly_338L : 452593\n",
      "numinstpaidearlyest_4493214L : 840646\n",
      "numinstpaidlastcontr_4325080L : 669186\n",
      "numinstpaidlate1d_3546852L : 452593\n",
      "numinstregularpaid_973L : 455612\n",
      "numinstregularpaidest_4493210L : 840646\n",
      "numinsttopaygr_769L : 452594\n",
      "numinsttopaygrest_4493213L : 840646\n",
      "numinstunpaidmax_3546851L : 452594\n",
      "numinstunpaidmaxest_4493212L : 840646\n",
      "opencred_647L : 305137\n",
      "\u001b[1mCategorical column\u001b[0m paytype1st_925L : 58575\n",
      "\u001b[1mCategorical column\u001b[0m paytype1st_925L : shape: (2,)\n",
      "Series: 'paytype1st_925L' [str]\n",
      "[\n",
      "\t\"OTHER\"\n",
      "\tnull\n",
      "]\n",
      "\u001b[1mCategorical column\u001b[0m paytype_783L : 58575\n",
      "\u001b[1mCategorical column\u001b[0m paytype_783L : shape: (2,)\n",
      "Series: 'paytype_783L' [str]\n",
      "[\n",
      "\t\"OTHER\"\n",
      "\tnull\n",
      "]\n",
      "pctinstlsallpaidearl3d_427L : 458738\n",
      "pctinstlsallpaidlat10d_839L : 461362\n",
      "pctinstlsallpaidlate1d_3546856L : 458738\n",
      "pctinstlsallpaidlate4d_3546849L : 459827\n",
      "pctinstlsallpaidlate6d_3546844L : 460079\n",
      "pmtnum_254L : 44954\n",
      "posfpd10lastmonth_333P : 78526\n",
      "posfpd30lastmonth_3976960P : 131888\n",
      "posfstqpd30lastmonth_3976962P : 181122\n",
      "price_1097A : 223240\n",
      "sumoutstandtotal_3546847A : 445320\n",
      "sumoutstandtotalest_4493215A : 840646\n",
      "totaldebt_9A : 3\n",
      "totalsettled_863A : 4\n",
      "totinstallast1m_4525188A : 1174211\n",
      "\u001b[1mCategorical column\u001b[0m twobodfilling_608L : 91\n",
      "\u001b[1mCategorical column\u001b[0m twobodfilling_608L : shape: (3,)\n",
      "Series: 'twobodfilling_608L' [str]\n",
      "[\n",
      "\t\"BO\"\n",
      "\tnull\n",
      "\t\"FO\"\n",
      "]\n",
      "\u001b[1mCategorical column\u001b[0m typesuite_864L : 1121505\n",
      "\u001b[1mCategorical column\u001b[0m typesuite_864L : shape: (2,)\n",
      "Series: 'typesuite_864L' [str]\n",
      "[\n",
      "\t\"AL\"\n",
      "\tnull\n",
      "]\n",
      "min_actualdpd_943P : 305154\n",
      "min_annuity_853A : 308739\n",
      "min_credacc_actualbalance_314A : 1273086\n",
      "min_credacc_credlmt_575A : 307441\n",
      "min_credacc_maxhisbal_375A : 1273086\n",
      "min_credacc_minhisbal_90A : 1273086\n",
      "min_credamount_590A : 307441\n",
      "min_currdebt_94A : 419006\n",
      "min_downpmt_134A : 307441\n",
      "min_mainoccupationinc_437A : 306361\n",
      "min_maxdpdtolerance_577P : 450969\n",
      "min_outstandingdebt_522A : 420383\n",
      "min_revolvingaccount_394A : 1273082\n",
      "max_approvaldate_319D : 442999\n",
      "max_creationdate_885D : 305137\n",
      "max_dateactivated_425D : 454678\n",
      "max_dtlastpmt_581D : 703840\n",
      "max_dtlastpmtallstes_3545839D : 548987\n",
      "max_employedfrom_700D : 559169\n",
      "max_firstnonzeroinstldate_307D : 334873\n",
      "\u001b[1mCategorical column\u001b[0m max_cancelreason_3545846M : 305137\n",
      "\u001b[1mCategorical column\u001b[0m max_cancelreason_3545846M : shape: (61,)\n",
      "Series: 'max_cancelreason_3545846M' [str]\n",
      "[\n",
      "\t\"P53_10_15\"\n",
      "\t\"P145_77_120\"\n",
      "\t\"P180_60_137\"\n",
      "\t\"P128_12_74\"\n",
      "\t\"P118_140_56\"\n",
      "\t\"P201_100_144\"\n",
      "\t\"P5_143_178\"\n",
      "\t\"P185_66_167\"\n",
      "\t\"P183_71_60\"\n",
      "\t\"P116_157_162\"\n",
      "\t\"P107_145_100\"\n",
      "\t\"P203_135_156\"\n",
      "\t…\n",
      "\t\"P120_0_10\"\n",
      "\t\"P73_130_169\"\n",
      "\t\"P69_72_116\"\n",
      "\t\"P11_56_131\"\n",
      "\t\"P72_115_176\"\n",
      "\t\"P57_100_127\"\n",
      "\t\"P141_135_146\"\n",
      "\t\"P94_154_184\"\n",
      "\t\"P19_25_34\"\n",
      "\t\"P98_38_170\"\n",
      "\t\"P163_9_145\"\n",
      "\t\"P60_137_164\"\n",
      "\t\"P198_14_171\"\n",
      "]\n",
      "\u001b[1mCategorical column\u001b[0m max_education_1138M : 305137\n",
      "\u001b[1mCategorical column\u001b[0m max_education_1138M : shape: (7,)\n",
      "Series: 'max_education_1138M' [str]\n",
      "[\n",
      "\t\"P17_36_170\"\n",
      "\tnull\n",
      "\t\"P97_36_170\"\n",
      "\t\"P106_81_188\"\n",
      "\t\"P33_146_175\"\n",
      "\t\"P157_18_172\"\n",
      "\t\"a55475b1\"\n",
      "]\n",
      "\u001b[1mCategorical column\u001b[0m max_postype_4733339M : 305137\n",
      "\u001b[1mCategorical column\u001b[0m max_postype_4733339M : shape: (10,)\n",
      "Series: 'max_postype_4733339M' [str]\n",
      "[\n",
      "\t\"a55475b1\"\n",
      "\tnull\n",
      "\t\"P140_48_169\"\n",
      "\t\"P177_117_192\"\n",
      "\t\"P46_145_78\"\n",
      "\t\"P60_146_156\"\n",
      "\t\"P217_110_186\"\n",
      "\t\"P67_102_161\"\n",
      "\t\"P169_115_83\"\n",
      "\t\"P149_40_170\"\n",
      "]\n",
      "\u001b[1mCategorical column\u001b[0m max_rejectreason_755M : 305137\n",
      "\u001b[1mCategorical column\u001b[0m max_rejectreason_755M : shape: (13,)\n",
      "Series: 'max_rejectreason_755M' [str]\n",
      "[\n",
      "\t\"P94_109_143\"\n",
      "\t\"P198_131_9\"\n",
      "\t\"P45_84_106\"\n",
      "\t\"P196_88_176\"\n",
      "\t\"P99_56_166\"\n",
      "\tnull\n",
      "\t\"a55475b1\"\n",
      "\t\"P121_60_164\"\n",
      "\t\"P53_10_15\"\n",
      "\t\"P48_22_32\"\n",
      "\t\"P19_25_34\"\n",
      "\t\"P84_14_61\"\n",
      "\t\"P5_143_178\"\n",
      "]\n",
      "\u001b[1mCategorical column\u001b[0m max_rejectreasonclient_4145042M : 305137\n",
      "\u001b[1mCategorical column\u001b[0m max_rejectreasonclient_4145042M : shape: (9,)\n",
      "Series: 'max_rejectreasonclient_4145042M' [str]\n",
      "[\n",
      "\tnull\n",
      "\t\"P84_14_61\"\n",
      "\t\"P69_72_116\"\n",
      "\t\"a55475b1\"\n",
      "\t\"P94_109_143\"\n",
      "\t\"P30_86_84\"\n",
      "\t\"P5_143_178\"\n",
      "\t\"P19_25_34\"\n",
      "\t\"P53_10_15\"\n",
      "]\n",
      "max_byoccupationinc_3656910L : 961606\n",
      "max_childnum_21L : 552766\n",
      "\u001b[1mCategorical column\u001b[0m max_credacc_status_367L : 1273086\n",
      "\u001b[1mCategorical column\u001b[0m max_credacc_status_367L : shape: (7,)\n",
      "Series: 'max_credacc_status_367L' [str]\n",
      "[\n",
      "\t\"CL\"\n",
      "\t\"PO\"\n",
      "\t\"CR\"\n",
      "\tnull\n",
      "\t\"AC\"\n",
      "\t\"CA\"\n",
      "\t\"PCL\"\n",
      "]\n",
      "max_credacc_transactions_402L : 1273086\n",
      "\u001b[1mCategorical column\u001b[0m max_credtype_587L : 307441\n",
      "\u001b[1mCategorical column\u001b[0m max_credtype_587L : shape: (4,)\n",
      "Series: 'max_credtype_587L' [str]\n",
      "[\n",
      "\t\"CAL\"\n",
      "\tnull\n",
      "\t\"REL\"\n",
      "\t\"COL\"\n",
      "]\n",
      "\u001b[1mCategorical column\u001b[0m max_familystate_726L : 363563\n",
      "\u001b[1mCategorical column\u001b[0m max_familystate_726L : shape: (6,)\n",
      "Series: 'max_familystate_726L' [str]\n",
      "[\n",
      "\t\"SINGLE\"\n",
      "\t\"LIVING_WITH_PA…\n",
      "\t\"MARRIED\"\n",
      "\t\"DIVORCED\"\n",
      "\tnull\n",
      "\t\"WIDOWED\"\n",
      "]\n",
      "\u001b[1mCategorical column\u001b[0m max_inittransactioncode_279L : 307441\n",
      "\u001b[1mCategorical column\u001b[0m max_inittransactioncode_279L : shape: (4,)\n",
      "Series: 'max_inittransactioncode_279L' [str]\n",
      "[\n",
      "\t\"CASH\"\n",
      "\t\"NDF\"\n",
      "\tnull\n",
      "\t\"POS\"\n",
      "]\n",
      "max_isbidproduct_390L : 305137\n",
      "max_isdebitcard_527L : 1182972\n",
      "max_pmtnum_8L : 321446\n",
      "\u001b[1mCategorical column\u001b[0m max_status_219L : 305137\n",
      "\u001b[1mCategorical column\u001b[0m max_status_219L : shape: (12,)\n",
      "Series: 'max_status_219L' [str]\n",
      "[\n",
      "\t\"K\"\n",
      "\t\"S\"\n",
      "\t\"T\"\n",
      "\t\"L\"\n",
      "\t\"Q\"\n",
      "\t\"D\"\n",
      "\t\"N\"\n",
      "\t\"A\"\n",
      "\tnull\n",
      "\t\"H\"\n",
      "\t\"P\"\n",
      "\t\"R\"\n",
      "]\n",
      "max_tenor_203L : 321446\n",
      "max_num_group1 : 305137\n",
      "max_actualdpd_943P : 305154\n",
      "max_annuity_853A : 308739\n",
      "max_credacc_actualbalance_314A : 1273086\n",
      "max_credacc_credlmt_575A : 307441\n",
      "max_credacc_maxhisbal_375A : 1273086\n",
      "max_credacc_minhisbal_90A : 1273086\n",
      "max_credamount_590A : 307441\n",
      "max_currdebt_94A : 419006\n",
      "max_downpmt_134A : 307441\n",
      "max_mainoccupationinc_437A : 306361\n",
      "max_maxdpdtolerance_577P : 450969\n",
      "max_outstandingdebt_522A : 420383\n",
      "max_revolvingaccount_394A : 1273082\n",
      "min_approvaldate_319D : 442999\n",
      "min_creationdate_885D : 305137\n",
      "min_dateactivated_425D : 454678\n",
      "min_dtlastpmt_581D : 703840\n",
      "min_dtlastpmtallstes_3545839D : 548987\n",
      "min_employedfrom_700D : 559169\n",
      "min_firstnonzeroinstldate_307D : 334873\n",
      "\u001b[1mCategorical column\u001b[0m min_cancelreason_3545846M : 305137\n",
      "\u001b[1mCategorical column\u001b[0m min_cancelreason_3545846M : shape: (77,)\n",
      "Series: 'min_cancelreason_3545846M' [str]\n",
      "[\n",
      "\t\"P60_96_75\"\n",
      "\t\"P65_58_157\"\n",
      "\t\"P199_114_13\"\n",
      "\t\"P141_135_146\"\n",
      "\t\"P9_82_76\"\n",
      "\t\"P166_126_174\"\n",
      "\t\"P175_4_106\"\n",
      "\t\"P32_163_96\"\n",
      "\tnull\n",
      "\t\"P11_156_146\"\n",
      "\t\"P11_56_131\"\n",
      "\t\"P145_77_120\"\n",
      "\t…\n",
      "\t\"P94_154_184\"\n",
      "\t\"P30_86_84\"\n",
      "\t\"P128_12_74\"\n",
      "\t\"P123_22_171\"\n",
      "\t\"P94_109_143\"\n",
      "\t\"P46_50_166\"\n",
      "\t\"P60_137_164\"\n",
      "\t\"P91_110_150\"\n",
      "\t\"P32_86_86\"\n",
      "\t\"P7_85_64\"\n",
      "\t\"P99_98_113\"\n",
      "\t\"P195_62_170\"\n",
      "\t\"P19_105_83\"\n",
      "]\n",
      "\u001b[1mCategorical column\u001b[0m min_education_1138M : 305137\n",
      "\u001b[1mCategorical column\u001b[0m min_education_1138M : shape: (7,)\n",
      "Series: 'min_education_1138M' [str]\n",
      "[\n",
      "\t\"P17_36_170\"\n",
      "\t\"P33_146_175\"\n",
      "\t\"P106_81_188\"\n",
      "\tnull\n",
      "\t\"P97_36_170\"\n",
      "\t\"P157_18_172\"\n",
      "\t\"a55475b1\"\n",
      "]\n",
      "\u001b[1mCategorical column\u001b[0m min_postype_4733339M : 305137\n",
      "\u001b[1mCategorical column\u001b[0m min_postype_4733339M : shape: (10,)\n",
      "Series: 'min_postype_4733339M' [str]\n",
      "[\n",
      "\t\"P217_110_186\"\n",
      "\t\"P67_102_161\"\n",
      "\t\"P140_48_169\"\n",
      "\t\"P169_115_83\"\n",
      "\t\"a55475b1\"\n",
      "\t\"P46_145_78\"\n",
      "\t\"P177_117_192\"\n",
      "\t\"P60_146_156\"\n",
      "\tnull\n",
      "\t\"P149_40_170\"\n",
      "]\n",
      "\u001b[1mCategorical column\u001b[0m min_rejectreason_755M : 305137\n",
      "\u001b[1mCategorical column\u001b[0m min_rejectreason_755M : shape: (19,)\n",
      "Series: 'min_rejectreason_755M' [str]\n",
      "[\n",
      "\t\"P53_10_15\"\n",
      "\t\"P185_59_178\"\n",
      "\t\"P45_84_106\"\n",
      "\t\"a55475b1\"\n",
      "\t\"P48_22_32\"\n",
      "\t\"P129_162_80\"\n",
      "\t\"P198_131_9\"\n",
      "\t\"P69_72_116\"\n",
      "\t\"P5_143_178\"\n",
      "\t\"P121_60_164\"\n",
      "\t\"P99_56_166\"\n",
      "\tnull\n",
      "\t\"P84_14_61\"\n",
      "\t\"P64_121_167\"\n",
      "\t\"P30_86_84\"\n",
      "\t\"P196_88_176\"\n",
      "\t\"P94_109_143\"\n",
      "\t\"P52_67_90\"\n",
      "\t\"P19_25_34\"\n",
      "]\n",
      "\u001b[1mCategorical column\u001b[0m min_rejectreasonclient_4145042M : 305137\n",
      "\u001b[1mCategorical column\u001b[0m min_rejectreasonclient_4145042M : shape: (15,)\n",
      "Series: 'min_rejectreasonclient_4145042M' [str]\n",
      "[\n",
      "\t\"P129_162_80\"\n",
      "\t\"P19_25_34\"\n",
      "\t\"P64_121_167\"\n",
      "\t\"a55475b1\"\n",
      "\t\"P203_151_99\"\n",
      "\t\"P84_14_61\"\n",
      "\tnull\n",
      "\t\"P53_10_15\"\n",
      "\t\"P52_67_90\"\n",
      "\t\"P30_86_84\"\n",
      "\t\"P69_72_116\"\n",
      "\t\"P94_109_143\"\n",
      "\t\"P5_143_178\"\n",
      "\t\"P204_22_168\"\n",
      "\t\"P59_114_135\"\n",
      "]\n",
      "min_byoccupationinc_3656910L : 961606\n",
      "min_childnum_21L : 552766\n",
      "\u001b[1mCategorical column\u001b[0m min_credacc_status_367L : 1273086\n",
      "\u001b[1mCategorical column\u001b[0m min_credacc_status_367L : shape: (7,)\n",
      "Series: 'min_credacc_status_367L' [str]\n",
      "[\n",
      "\t\"CA\"\n",
      "\t\"CL\"\n",
      "\t\"CR\"\n",
      "\tnull\n",
      "\t\"PO\"\n",
      "\t\"AC\"\n",
      "\t\"PCL\"\n",
      "]\n",
      "min_credacc_transactions_402L : 1273086\n",
      "\u001b[1mCategorical column\u001b[0m min_credtype_587L : 307441\n",
      "\u001b[1mCategorical column\u001b[0m min_credtype_587L : shape: (4,)\n",
      "Series: 'min_credtype_587L' [str]\n",
      "[\n",
      "\t\"CAL\"\n",
      "\t\"REL\"\n",
      "\t\"COL\"\n",
      "\tnull\n",
      "]\n",
      "\u001b[1mCategorical column\u001b[0m min_familystate_726L : 363563\n",
      "\u001b[1mCategorical column\u001b[0m min_familystate_726L : shape: (6,)\n",
      "Series: 'min_familystate_726L' [str]\n",
      "[\n",
      "\t\"LIVING_WITH_PA…\n",
      "\t\"MARRIED\"\n",
      "\t\"SINGLE\"\n",
      "\tnull\n",
      "\t\"DIVORCED\"\n",
      "\t\"WIDOWED\"\n",
      "]\n",
      "\u001b[1mCategorical column\u001b[0m min_inittransactioncode_279L : 307441\n",
      "\u001b[1mCategorical column\u001b[0m min_inittransactioncode_279L : shape: (4,)\n",
      "Series: 'min_inittransactioncode_279L' [str]\n",
      "[\n",
      "\t\"CASH\"\n",
      "\tnull\n",
      "\t\"NDF\"\n",
      "\t\"POS\"\n",
      "]\n",
      "min_isbidproduct_390L : 305137\n",
      "min_isdebitcard_527L : 1182972\n",
      "min_pmtnum_8L : 321446\n",
      "\u001b[1mCategorical column\u001b[0m min_status_219L : 305137\n",
      "\u001b[1mCategorical column\u001b[0m min_status_219L : shape: (10,)\n",
      "Series: 'min_status_219L' [str]\n",
      "[\n",
      "\t\"A\"\n",
      "\t\"Q\"\n",
      "\t\"N\"\n",
      "\t\"S\"\n",
      "\t\"K\"\n",
      "\t\"D\"\n",
      "\t\"L\"\n",
      "\tnull\n",
      "\t\"T\"\n",
      "\t\"H\"\n",
      "]\n",
      "min_tenor_203L : 321446\n",
      "min_num_group1 : 305137\n",
      "min_amount_4527230A : 1068725\n",
      "max_recorddate_4527225D : 1068725\n",
      "max_num_group1_3 : 1068725\n",
      "max_amount_4527230A : 1068725\n",
      "min_recorddate_4527225D : 1068725\n",
      "min_num_group1_3 : 1068725\n",
      "min_amount_4917619A : 1375927\n",
      "max_deductiondate_4917603D : 1375927\n",
      "max_num_group1_4 : 1375927\n",
      "max_amount_4917619A : 1375927\n",
      "min_deductiondate_4917603D : 1375927\n",
      "min_num_group1_4 : 1375927\n",
      "max_empl_employedfrom_271D : 959958\n",
      "max_contaddr_matchlist_1032L : 441\n",
      "max_contaddr_smempladdr_334L : 441\n",
      "\u001b[1mCategorical column\u001b[0m max_empl_employedtotal_800L : 998344\n",
      "\u001b[1mCategorical column\u001b[0m max_empl_employedtotal_800L : shape: (4,)\n",
      "Series: 'max_empl_employedtotal_800L' [str]\n",
      "[\n",
      "\tnull\n",
      "\t\"LESS_ONE\"\n",
      "\t\"MORE_FIVE\"\n",
      "\t\"MORE_ONE\"\n",
      "]\n",
      "\u001b[1mCategorical column\u001b[0m max_empl_industry_691L : 1004423\n",
      "\u001b[1mCategorical column\u001b[0m max_empl_industry_691L : shape: (25,)\n",
      "Series: 'max_empl_industry_691L' [str]\n",
      "[\n",
      "\t\"MINING\"\n",
      "\t\"TRADE\"\n",
      "\t\"RECRUITMENT\"\n",
      "\t\"MANUFACTURING\"\n",
      "\t\"POST_TELCO\"\n",
      "\t\"TOURISM\"\n",
      "\t\"TRANSPORTATION…\n",
      "\tnull\n",
      "\t\"REAL_ESTATE\"\n",
      "\t\"WELNESS\"\n",
      "\t\"ART_MEDIA\"\n",
      "\t\"GOVERNMENT\"\n",
      "\t\"LAWYER\"\n",
      "\t\"AGRICULTURE\"\n",
      "\t\"CHARITY_RELIGI…\n",
      "\t\"MARKETING\"\n",
      "\t\"GAMING\"\n",
      "\t\"IT\"\n",
      "\t\"ARMY_POLICE\"\n",
      "\t\"INSURANCE\"\n",
      "\t\"EDUCATION\"\n",
      "\t\"HEALTH\"\n",
      "\t\"CATERING\"\n",
      "\t\"FINANCE\"\n",
      "\t\"OTHER\"\n",
      "]\n",
      "\u001b[1mCategorical column\u001b[0m max_familystate_447L : 798046\n",
      "\u001b[1mCategorical column\u001b[0m max_familystate_447L : shape: (6,)\n",
      "Series: 'max_familystate_447L' [str]\n",
      "[\n",
      "\t\"DIVORCED\"\n",
      "\t\"WIDOWED\"\n",
      "\tnull\n",
      "\t\"MARRIED\"\n",
      "\t\"SINGLE\"\n",
      "\t\"LIVING_WITH_PA…\n",
      "]\n",
      "\u001b[1mCategorical column\u001b[0m max_housetype_905L : 1425841\n",
      "\u001b[1mCategorical column\u001b[0m max_housetype_905L : shape: (7,)\n",
      "Series: 'max_housetype_905L' [str]\n",
      "[\n",
      "\t\"FLAT\"\n",
      "\t\"COOP_FLAT\"\n",
      "\t\"OWNED\"\n",
      "\t\"COMPANY_FLAT\"\n",
      "\t\"STATE_FLAT\"\n",
      "\t\"PARENTAL\"\n",
      "\tnull\n",
      "]\n",
      "\u001b[1mCategorical column\u001b[0m max_relationshiptoclient_415T : 935626\n",
      "\u001b[1mCategorical column\u001b[0m max_relationshiptoclient_415T : shape: (11,)\n",
      "Series: 'max_relationshiptoclient_415T' [str]\n",
      "[\n",
      "\t\"CHILD\"\n",
      "\t\"NEIGHBOR\"\n",
      "\t\"PARENT\"\n",
      "\t\"GRAND_PARENT\"\n",
      "\t\"FRIEND\"\n",
      "\t\"SPOUSE\"\n",
      "\tnull\n",
      "\t\"OTHER\"\n",
      "\t\"SIBLING\"\n",
      "\t\"OTHER_RELATIVE…\n",
      "\t\"COLLEAGUE\"\n",
      "]\n",
      "\u001b[1mCategorical column\u001b[0m max_relationshiptoclient_642T : 935626\n",
      "\u001b[1mCategorical column\u001b[0m max_relationshiptoclient_642T : shape: (11,)\n",
      "Series: 'max_relationshiptoclient_642T' [str]\n",
      "[\n",
      "\t\"PARENT\"\n",
      "\tnull\n",
      "\t\"NEIGHBOR\"\n",
      "\t\"GRAND_PARENT\"\n",
      "\t\"OTHER\"\n",
      "\t\"SPOUSE\"\n",
      "\t\"COLLEAGUE\"\n",
      "\t\"FRIEND\"\n",
      "\t\"SIBLING\"\n",
      "\t\"CHILD\"\n",
      "\t\"OTHER_RELATIVE…\n",
      "]\n",
      "max_remitter_829L : 935626\n",
      "max_safeguarantyflag_411L : 2\n",
      "min_empl_employedfrom_271D : 959958\n",
      "min_contaddr_matchlist_1032L : 441\n",
      "min_contaddr_smempladdr_334L : 441\n",
      "\u001b[1mCategorical column\u001b[0m min_empl_employedtotal_800L : 998344\n",
      "\u001b[1mCategorical column\u001b[0m min_empl_employedtotal_800L : shape: (4,)\n",
      "Series: 'min_empl_employedtotal_800L' [str]\n",
      "[\n",
      "\t\"MORE_ONE\"\n",
      "\tnull\n",
      "\t\"LESS_ONE\"\n",
      "\t\"MORE_FIVE\"\n",
      "]\n",
      "\u001b[1mCategorical column\u001b[0m min_empl_industry_691L : 1004423\n",
      "\u001b[1mCategorical column\u001b[0m min_empl_industry_691L : shape: (25,)\n",
      "Series: 'min_empl_industry_691L' [str]\n",
      "[\n",
      "\t\"RECRUITMENT\"\n",
      "\t\"ARMY_POLICE\"\n",
      "\t\"GAMING\"\n",
      "\tnull\n",
      "\t\"WELNESS\"\n",
      "\t\"OTHER\"\n",
      "\t\"ART_MEDIA\"\n",
      "\t\"MARKETING\"\n",
      "\t\"LAWYER\"\n",
      "\t\"TRADE\"\n",
      "\t\"EDUCATION\"\n",
      "\t\"CHARITY_RELIGI…\n",
      "\t\"TOURISM\"\n",
      "\t\"GOVERNMENT\"\n",
      "\t\"INSURANCE\"\n",
      "\t\"CATERING\"\n",
      "\t\"MANUFACTURING\"\n",
      "\t\"AGRICULTURE\"\n",
      "\t\"POST_TELCO\"\n",
      "\t\"TRANSPORTATION…\n",
      "\t\"FINANCE\"\n",
      "\t\"HEALTH\"\n",
      "\t\"REAL_ESTATE\"\n",
      "\t\"MINING\"\n",
      "\t\"IT\"\n",
      "]\n",
      "\u001b[1mCategorical column\u001b[0m min_familystate_447L : 798046\n",
      "\u001b[1mCategorical column\u001b[0m min_familystate_447L : shape: (6,)\n",
      "Series: 'min_familystate_447L' [str]\n",
      "[\n",
      "\t\"DIVORCED\"\n",
      "\t\"WIDOWED\"\n",
      "\t\"LIVING_WITH_PA…\n",
      "\t\"MARRIED\"\n",
      "\t\"SINGLE\"\n",
      "\tnull\n",
      "]\n",
      "\u001b[1mCategorical column\u001b[0m min_housetype_905L : 1425841\n",
      "\u001b[1mCategorical column\u001b[0m min_housetype_905L : shape: (7,)\n",
      "Series: 'min_housetype_905L' [str]\n",
      "[\n",
      "\t\"PARENTAL\"\n",
      "\tnull\n",
      "\t\"OWNED\"\n",
      "\t\"STATE_FLAT\"\n",
      "\t\"FLAT\"\n",
      "\t\"COMPANY_FLAT\"\n",
      "\t\"COOP_FLAT\"\n",
      "]\n",
      "\u001b[1mCategorical column\u001b[0m min_relationshiptoclient_415T : 935626\n",
      "\u001b[1mCategorical column\u001b[0m min_relationshiptoclient_415T : shape: (11,)\n",
      "Series: 'min_relationshiptoclient_415T' [str]\n",
      "[\n",
      "\t\"GRAND_PARENT\"\n",
      "\t\"NEIGHBOR\"\n",
      "\t\"SPOUSE\"\n",
      "\tnull\n",
      "\t\"COLLEAGUE\"\n",
      "\t\"OTHER_RELATIVE…\n",
      "\t\"FRIEND\"\n",
      "\t\"PARENT\"\n",
      "\t\"SIBLING\"\n",
      "\t\"CHILD\"\n",
      "\t\"OTHER\"\n",
      "]\n",
      "\u001b[1mCategorical column\u001b[0m min_relationshiptoclient_642T : 935626\n",
      "\u001b[1mCategorical column\u001b[0m min_relationshiptoclient_642T : shape: (11,)\n",
      "Series: 'min_relationshiptoclient_642T' [str]\n",
      "[\n",
      "\tnull\n",
      "\t\"GRAND_PARENT\"\n",
      "\t\"SIBLING\"\n",
      "\t\"CHILD\"\n",
      "\t\"OTHER\"\n",
      "\t\"PARENT\"\n",
      "\t\"FRIEND\"\n",
      "\t\"NEIGHBOR\"\n",
      "\t\"SPOUSE\"\n",
      "\t\"COLLEAGUE\"\n",
      "\t\"OTHER_RELATIVE…\n",
      "]\n",
      "min_remitter_829L : 935626\n",
      "min_safeguarantyflag_411L : 2\n",
      "min_amount_416A : 1421548\n",
      "max_openingdate_313D : 1421548\n",
      "max_num_group1_9 : 1421548\n",
      "max_amount_416A : 1421548\n",
      "min_openingdate_313D : 1421548\n",
      "min_num_group1_9 : 1421548\n",
      "max_openingdate_857D : 1421572\n",
      "max_num_group1_10 : 1414887\n",
      "min_openingdate_857D : 1421572\n",
      "min_num_group1_10 : 1414887\n",
      "205\n",
      "48\n"
     ]
    }
   ],
   "source": [
    "count = 0\n",
    "cat_count = 0\n",
    "for col in df_train.columns:\n",
    "    isnull = df_train[col].is_null().sum()\n",
    "    if df_train[col].dtype != pl.String and isnull >0:\n",
    "        print(col,\":\",df_train[col].is_null().sum())\n",
    "        count+=1\n",
    "    elif df_train[col].dtype == pl.String and isnull >0:\n",
    "        print('\\033[1m'+\"Categorical column\"+'\\033[0m',col,\":\",df_train[col].is_null().sum())\n",
    "        print('\\033[1m'+\"Categorical column\"+'\\033[0m',col,\":\",df_train[col].unique())\n",
    "        cat_count+=1\n",
    "print(count)\n",
    "\n",
    "print(cat_count)\n",
    "    "
   ]
  },
  {
   "cell_type": "code",
   "execution_count": 23,
   "id": "8e63191a",
   "metadata": {
    "execution": {
     "iopub.execute_input": "2024-03-03T03:40:23.784819Z",
     "iopub.status.busy": "2024-03-03T03:40:23.784493Z",
     "iopub.status.idle": "2024-03-03T03:40:23.790019Z",
     "shell.execute_reply": "2024-03-03T03:40:23.789139Z"
    },
    "papermill": {
     "duration": 0.019602,
     "end_time": "2024-03-03T03:40:23.791742",
     "exception": false,
     "start_time": "2024-03-03T03:40:23.772140",
     "status": "completed"
    },
    "tags": []
   },
   "outputs": [],
   "source": [
    "def to_pandas(data_frame, cat_cols=None,numaric_col = None):\n",
    "    data_frame = data_frame.to_pandas()\n",
    "    \n",
    "    if cat_cols is None:\n",
    "        cat_cols = list(data_frame.select_dtypes(\"object\").columns)\n",
    "    \n",
    "    if numaric_col is None:\n",
    "        numaric_col = list(data_frame.select_dtypes(np.number).columns)\n",
    "        \n",
    "    data_frame[cat_cols] = data_frame[cat_cols].astype(\"category\")\n",
    "    \n",
    "    return data_frame, cat_cols, numaric_col"
   ]
  },
  {
   "cell_type": "code",
   "execution_count": 24,
   "id": "458ad54a",
   "metadata": {
    "execution": {
     "iopub.execute_input": "2024-03-03T03:40:23.815343Z",
     "iopub.status.busy": "2024-03-03T03:40:23.815007Z",
     "iopub.status.idle": "2024-03-03T03:40:36.022745Z",
     "shell.execute_reply": "2024-03-03T03:40:36.021473Z"
    },
    "papermill": {
     "duration": 12.222152,
     "end_time": "2024-03-03T03:40:36.024999",
     "exception": false,
     "start_time": "2024-03-03T03:40:23.802847",
     "status": "completed"
    },
    "tags": []
   },
   "outputs": [],
   "source": [
    "df_train, cat_cols,numarical_col = to_pandas(df_train)\n",
    "df_test, cat_cols,numarical_col = to_pandas(df_test, cat_cols,numarical_col)"
   ]
  },
  {
   "cell_type": "code",
   "execution_count": 25,
   "id": "75278f54",
   "metadata": {
    "execution": {
     "iopub.execute_input": "2024-03-03T03:40:36.048606Z",
     "iopub.status.busy": "2024-03-03T03:40:36.048272Z",
     "iopub.status.idle": "2024-03-03T03:40:36.133842Z",
     "shell.execute_reply": "2024-03-03T03:40:36.132924Z"
    },
    "papermill": {
     "duration": 0.099444,
     "end_time": "2024-03-03T03:40:36.135575",
     "exception": false,
     "start_time": "2024-03-03T03:40:36.036131",
     "status": "completed"
    },
    "tags": []
   },
   "outputs": [
    {
     "data": {
      "text/plain": [
       "0"
      ]
     },
     "execution_count": 25,
     "metadata": {},
     "output_type": "execute_result"
    }
   ],
   "source": [
    "del data_store\n",
    "del deprecated_features\n",
    "# del cat_count\n",
    "\n",
    "gc.collect()"
   ]
  },
  {
   "cell_type": "code",
   "execution_count": 26,
   "id": "837651ff",
   "metadata": {
    "execution": {
     "iopub.execute_input": "2024-03-03T03:40:36.159438Z",
     "iopub.status.busy": "2024-03-03T03:40:36.159140Z",
     "iopub.status.idle": "2024-03-03T03:40:36.190358Z",
     "shell.execute_reply": "2024-03-03T03:40:36.189372Z"
    },
    "papermill": {
     "duration": 0.045589,
     "end_time": "2024-03-03T03:40:36.192273",
     "exception": false,
     "start_time": "2024-03-03T03:40:36.146684",
     "status": "completed"
    },
    "tags": []
   },
   "outputs": [
    {
     "name": "stdout",
     "output_type": "stream",
     "text": [
      "Train is duplicated:\t False\n",
      "Train Week Range:\t (0, 91)\n",
      "\n",
      "Test is duplicated:\t False\n",
      "Test Week Range:\t (92, 92)\n"
     ]
    }
   ],
   "source": [
    "print(\"Train is duplicated:\\t\", df_train[\"case_id\"].duplicated().any())\n",
    "print(\"Train Week Range:\\t\", (df_train[\"WEEK_NUM\"].min(), df_train[\"WEEK_NUM\"].max()))\n",
    "\n",
    "print()\n",
    "\n",
    "print(\"Test is duplicated:\\t\", df_test[\"case_id\"].duplicated().any())\n",
    "print(\"Test Week Range:\\t\", (df_test[\"WEEK_NUM\"].min(), df_test[\"WEEK_NUM\"].max()))"
   ]
  },
  {
   "cell_type": "code",
   "execution_count": 27,
   "id": "2e3dd062",
   "metadata": {
    "execution": {
     "iopub.execute_input": "2024-03-03T03:40:36.216032Z",
     "iopub.status.busy": "2024-03-03T03:40:36.215710Z",
     "iopub.status.idle": "2024-03-03T03:40:51.130661Z",
     "shell.execute_reply": "2024-03-03T03:40:51.129973Z"
    },
    "papermill": {
     "duration": 14.929022,
     "end_time": "2024-03-03T03:40:51.132478",
     "exception": false,
     "start_time": "2024-03-03T03:40:36.203456",
     "status": "completed"
    },
    "tags": []
   },
   "outputs": [
    {
     "data": {
      "image/png": "[encoded data removed]",
      "text/plain": [
       "<Figure size 640x480 with 1 Axes>"
      ]
     },
     "metadata": {},
     "output_type": "display_data"
    }
   ],
   "source": [
    "sns.lineplot(\n",
    "    data=df_train,\n",
    "    x=\"WEEK_NUM\",\n",
    "    y=\"target\",\n",
    ")\n",
    "plt.show()"
   ]
  },
  {
   "cell_type": "code",
   "execution_count": 28,
   "id": "d5ef62dc",
   "metadata": {
    "execution": {
     "iopub.execute_input": "2024-03-03T03:40:51.157844Z",
     "iopub.status.busy": "2024-03-03T03:40:51.156964Z",
     "iopub.status.idle": "2024-03-03T03:40:51.565857Z",
     "shell.execute_reply": "2024-03-03T03:40:51.564657Z"
    },
    "papermill": {
     "duration": 0.423714,
     "end_time": "2024-03-03T03:40:51.568176",
     "exception": false,
     "start_time": "2024-03-03T03:40:51.144462",
     "status": "completed"
    },
    "tags": []
   },
   "outputs": [],
   "source": [
    "X = df_train.drop(columns=[\"target\", \"case_id\",\"WEEK_NUM\"])\n",
    "y = df_train[\"target\"]\n",
    "weeks = df_train[\"WEEK_NUM\"]"
   ]
  },
  {
   "cell_type": "code",
   "execution_count": 29,
   "id": "e2b6e926",
   "metadata": {
    "execution": {
     "iopub.execute_input": "2024-03-03T03:40:51.646034Z",
     "iopub.status.busy": "2024-03-03T03:40:51.645333Z",
     "iopub.status.idle": "2024-03-03T03:40:52.575249Z",
     "shell.execute_reply": "2024-03-03T03:40:52.574150Z"
    },
    "papermill": {
     "duration": 0.945379,
     "end_time": "2024-03-03T03:40:52.577422",
     "exception": false,
     "start_time": "2024-03-03T03:40:51.632043",
     "status": "completed"
    },
    "tags": []
   },
   "outputs": [],
   "source": [
    "from sklearn.model_selection import KFold\n",
    "\n",
    "# Assuming X, y, and weeks are your features, labels, and grouping information\n",
    "cv = KFold(n_splits=5, shuffle=True, random_state=42)\n",
    "\n",
    "# Get the first split\n",
    "idx_train, idx_valid = next(cv.split(X, y, groups=weeks))\n",
    "\n",
    "X_train, y_train = X.iloc[idx_train], y.iloc[idx_train]\n",
    "X_valid, y_valid = X.iloc[idx_valid], y.iloc[idx_valid]\n",
    "\n",
    "# Now, you can use X_train, y_train for training and X_valid, y_valid for validation\n",
    "# Your model training and evaluation code can go here\n"
   ]
  },
  {
   "cell_type": "code",
   "execution_count": 30,
   "id": "021563a4",
   "metadata": {
    "execution": {
     "iopub.execute_input": "2024-03-03T03:40:52.604380Z",
     "iopub.status.busy": "2024-03-03T03:40:52.604061Z",
     "iopub.status.idle": "2024-03-03T04:29:35.918737Z",
     "shell.execute_reply": "2024-03-03T04:29:35.917901Z"
    },
    "papermill": {
     "duration": 2923.332256,
     "end_time": "2024-03-03T04:29:35.921872",
     "exception": false,
     "start_time": "2024-03-03T03:40:52.589616",
     "status": "completed"
    },
    "tags": []
   },
   "outputs": [
    {
     "name": "stderr",
     "output_type": "stream",
     "text": [
      "/opt/conda/lib/python3.10/site-packages/xgboost/sklearn.py:889: UserWarning: `early_stopping_rounds` in `fit` method is deprecated for better compatibility with scikit-learn, use `early_stopping_rounds` in constructor or`set_params` instead.\n",
      "  warnings.warn(\n",
      "/opt/conda/lib/python3.10/site-packages/xgboost/core.py:160: UserWarning: [03:41:47] WARNING: /workspace/src/context.cc:44: No visible GPU is found, setting device to CPU.\n",
      "  warnings.warn(smsg, UserWarning)\n"
     ]
    },
    {
     "name": "stdout",
     "output_type": "stream",
     "text": [
      "[0]\tvalidation_0-auc:0.69813\n",
      "[1]\tvalidation_0-auc:0.72356\n",
      "[2]\tvalidation_0-auc:0.73983\n",
      "[3]\tvalidation_0-auc:0.74862\n",
      "[4]\tvalidation_0-auc:0.75539\n",
      "[5]\tvalidation_0-auc:0.75783\n",
      "[6]\tvalidation_0-auc:0.76121\n",
      "[7]\tvalidation_0-auc:0.76576\n",
      "[8]\tvalidation_0-auc:0.76790\n",
      "[9]\tvalidation_0-auc:0.77057\n",
      "[10]\tvalidation_0-auc:0.77295\n",
      "[11]\tvalidation_0-auc:0.77503\n",
      "[12]\tvalidation_0-auc:0.77809\n",
      "[13]\tvalidation_0-auc:0.78014\n",
      "[14]\tvalidation_0-auc:0.78172\n",
      "[15]\tvalidation_0-auc:0.78293\n",
      "[16]\tvalidation_0-auc:0.78435\n",
      "[17]\tvalidation_0-auc:0.78532\n",
      "[18]\tvalidation_0-auc:0.78564\n",
      "[19]\tvalidation_0-auc:0.78641\n",
      "[20]\tvalidation_0-auc:0.78680\n",
      "[21]\tvalidation_0-auc:0.78750\n",
      "[22]\tvalidation_0-auc:0.78784\n",
      "[23]\tvalidation_0-auc:0.78796\n",
      "[24]\tvalidation_0-auc:0.78884\n",
      "[25]\tvalidation_0-auc:0.78919\n",
      "[26]\tvalidation_0-auc:0.78917\n",
      "[27]\tvalidation_0-auc:0.78964\n",
      "[28]\tvalidation_0-auc:0.78971\n",
      "[29]\tvalidation_0-auc:0.79035\n",
      "[30]\tvalidation_0-auc:0.79118\n",
      "[31]\tvalidation_0-auc:0.79135\n",
      "[32]\tvalidation_0-auc:0.79179\n",
      "[33]\tvalidation_0-auc:0.79159\n",
      "[34]\tvalidation_0-auc:0.79200\n",
      "[35]\tvalidation_0-auc:0.79270\n",
      "[36]\tvalidation_0-auc:0.79257\n",
      "[37]\tvalidation_0-auc:0.79284\n",
      "[38]\tvalidation_0-auc:0.79289\n",
      "[39]\tvalidation_0-auc:0.79274\n",
      "[40]\tvalidation_0-auc:0.79324\n",
      "[41]\tvalidation_0-auc:0.79371\n",
      "[42]\tvalidation_0-auc:0.79366\n",
      "[43]\tvalidation_0-auc:0.79364\n",
      "[44]\tvalidation_0-auc:0.79355\n",
      "[45]\tvalidation_0-auc:0.79358\n",
      "[46]\tvalidation_0-auc:0.79357\n",
      "[47]\tvalidation_0-auc:0.79413\n",
      "[48]\tvalidation_0-auc:0.79436\n",
      "[49]\tvalidation_0-auc:0.79444\n",
      "[50]\tvalidation_0-auc:0.79459\n",
      "[51]\tvalidation_0-auc:0.79466\n",
      "[52]\tvalidation_0-auc:0.79471\n",
      "[53]\tvalidation_0-auc:0.79492\n",
      "[54]\tvalidation_0-auc:0.79495\n",
      "[55]\tvalidation_0-auc:0.79530\n",
      "[56]\tvalidation_0-auc:0.79529\n",
      "[57]\tvalidation_0-auc:0.79537\n",
      "[58]\tvalidation_0-auc:0.79535\n",
      "[59]\tvalidation_0-auc:0.79578\n",
      "[60]\tvalidation_0-auc:0.79578\n",
      "[61]\tvalidation_0-auc:0.79578\n",
      "[62]\tvalidation_0-auc:0.79568\n",
      "[63]\tvalidation_0-auc:0.79582\n",
      "[64]\tvalidation_0-auc:0.79597\n",
      "[65]\tvalidation_0-auc:0.79595\n",
      "[66]\tvalidation_0-auc:0.79619\n",
      "[67]\tvalidation_0-auc:0.79619\n",
      "[68]\tvalidation_0-auc:0.79642\n",
      "[69]\tvalidation_0-auc:0.79630\n",
      "[70]\tvalidation_0-auc:0.79654\n",
      "[71]\tvalidation_0-auc:0.79661\n",
      "[72]\tvalidation_0-auc:0.79684\n",
      "[73]\tvalidation_0-auc:0.79701\n",
      "[74]\tvalidation_0-auc:0.79712\n",
      "[75]\tvalidation_0-auc:0.79730\n",
      "[76]\tvalidation_0-auc:0.79722\n",
      "[77]\tvalidation_0-auc:0.79729\n",
      "[78]\tvalidation_0-auc:0.79730\n",
      "[79]\tvalidation_0-auc:0.79772\n",
      "[80]\tvalidation_0-auc:0.79794\n",
      "[81]\tvalidation_0-auc:0.79804\n",
      "[82]\tvalidation_0-auc:0.79807\n",
      "[83]\tvalidation_0-auc:0.79802\n",
      "[84]\tvalidation_0-auc:0.79811\n",
      "[85]\tvalidation_0-auc:0.79797\n",
      "[86]\tvalidation_0-auc:0.79793\n",
      "[87]\tvalidation_0-auc:0.79817\n",
      "[88]\tvalidation_0-auc:0.79820\n",
      "[89]\tvalidation_0-auc:0.79852\n",
      "[90]\tvalidation_0-auc:0.79851\n",
      "[91]\tvalidation_0-auc:0.79861\n",
      "[92]\tvalidation_0-auc:0.79876\n",
      "[93]\tvalidation_0-auc:0.79870\n",
      "[94]\tvalidation_0-auc:0.79879\n",
      "[95]\tvalidation_0-auc:0.79880\n",
      "[96]\tvalidation_0-auc:0.79896\n",
      "[97]\tvalidation_0-auc:0.79911\n",
      "[98]\tvalidation_0-auc:0.79914\n",
      "[99]\tvalidation_0-auc:0.79909\n",
      "[100]\tvalidation_0-auc:0.79913\n",
      "[101]\tvalidation_0-auc:0.79915\n",
      "[102]\tvalidation_0-auc:0.79924\n",
      "[103]\tvalidation_0-auc:0.79936\n",
      "[104]\tvalidation_0-auc:0.79926\n",
      "[105]\tvalidation_0-auc:0.79938\n",
      "[106]\tvalidation_0-auc:0.79949\n",
      "[107]\tvalidation_0-auc:0.79946\n",
      "[108]\tvalidation_0-auc:0.79941\n",
      "[109]\tvalidation_0-auc:0.79951\n",
      "[110]\tvalidation_0-auc:0.79969\n",
      "[111]\tvalidation_0-auc:0.79961\n",
      "[112]\tvalidation_0-auc:0.79960\n",
      "[113]\tvalidation_0-auc:0.79966\n",
      "[114]\tvalidation_0-auc:0.79971\n",
      "[115]\tvalidation_0-auc:0.79990\n",
      "[116]\tvalidation_0-auc:0.79999\n",
      "[117]\tvalidation_0-auc:0.80008\n",
      "[118]\tvalidation_0-auc:0.80004\n",
      "[119]\tvalidation_0-auc:0.80003\n"
     ]
    }
   ],
   "source": [
    "import xgboost as xgb\n",
    "params = {\n",
    "    \"device\":\"cuda\",\n",
    "    \"objective\":'binary:logistic',\n",
    "    \"tree_method\":\"hist\",\n",
    "    \"enable_categorical\":True,\n",
    "    \"eval_metric\":'auc',\n",
    "    \"subsample\":1,\n",
    "    \"colsample_bytree\":1,\n",
    "    \"min_child_weight\":1,\n",
    "    \"max_depth\":20,\n",
    "    #gamma=0.7,\n",
    "    #reg_alpha=0.7,\n",
    "    \"n_estimators\":120,\n",
    "    \"random_state\":42,\n",
    "}\n",
    "xgb_model = xgb.XGBClassifier(**params)\n",
    "\n",
    "xgb_model.fit(\n",
    "        X_train, y_train,\n",
    "        eval_set=[(X_valid, y_valid)],\n",
    "        early_stopping_rounds=100,\n",
    "        verbose=True,\n",
    "    )\n",
    "\n",
    "y_pred_valid = xgb_model.predict_proba(X_valid)[:, 1]\n",
    "auc_score = roc_auc_score(y_valid, y_pred_valid)"
   ]
  },
  {
   "cell_type": "code",
   "execution_count": 31,
   "id": "bb60aaff",
   "metadata": {
    "execution": {
     "iopub.execute_input": "2024-03-03T04:29:35.962060Z",
     "iopub.status.busy": "2024-03-03T04:29:35.961364Z",
     "iopub.status.idle": "2024-03-03T04:29:35.968180Z",
     "shell.execute_reply": "2024-03-03T04:29:35.967106Z"
    },
    "papermill": {
     "duration": 0.029705,
     "end_time": "2024-03-03T04:29:35.970243",
     "exception": false,
     "start_time": "2024-03-03T04:29:35.940538",
     "status": "completed"
    },
    "tags": []
   },
   "outputs": [
    {
     "data": {
      "text/plain": [
       "0.8000815137642198"
      ]
     },
     "execution_count": 31,
     "metadata": {},
     "output_type": "execute_result"
    }
   ],
   "source": [
    "auc_score"
   ]
  },
  {
   "cell_type": "code",
   "execution_count": 32,
   "id": "c7f9b4e4",
   "metadata": {
    "execution": {
     "iopub.execute_input": "2024-03-03T04:29:36.011257Z",
     "iopub.status.busy": "2024-03-03T04:29:36.010861Z",
     "iopub.status.idle": "2024-03-03T04:29:36.075543Z",
     "shell.execute_reply": "2024-03-03T04:29:36.074509Z"
    },
    "papermill": {
     "duration": 0.087884,
     "end_time": "2024-03-03T04:29:36.078106",
     "exception": false,
     "start_time": "2024-03-03T04:29:35.990222",
     "status": "completed"
    },
    "tags": []
   },
   "outputs": [],
   "source": [
    "X_test = df_test.drop(columns=[\"WEEK_NUM\"])\n",
    "X_test = X_test.set_index(\"case_id\")\n",
    "\n",
    "xgb_pred = pd.Series(xgb_model.predict_proba(X_test)[:, 1], index=X_test.index)"
   ]
  },
  {
   "cell_type": "code",
   "execution_count": 33,
   "id": "7102b466",
   "metadata": {
    "execution": {
     "iopub.execute_input": "2024-03-03T04:29:36.119943Z",
     "iopub.status.busy": "2024-03-03T04:29:36.119612Z",
     "iopub.status.idle": "2024-03-03T04:29:36.126782Z",
     "shell.execute_reply": "2024-03-03T04:29:36.125957Z"
    },
    "papermill": {
     "duration": 0.029883,
     "end_time": "2024-03-03T04:29:36.129102",
     "exception": false,
     "start_time": "2024-03-03T04:29:36.099219",
     "status": "completed"
    },
    "tags": []
   },
   "outputs": [
    {
     "data": {
      "text/plain": [
       "case_id\n",
       "57543    0.001051\n",
       "57549    0.003575\n",
       "57551    0.004209\n",
       "57552    0.010011\n",
       "57569    0.000469\n",
       "57630    0.014755\n",
       "57631    0.013017\n",
       "57632    0.017633\n",
       "57633    0.003404\n",
       "57634    0.023823\n",
       "dtype: float32"
      ]
     },
     "execution_count": 33,
     "metadata": {},
     "output_type": "execute_result"
    }
   ],
   "source": [
    "xgb_pred"
   ]
  },
  {
   "cell_type": "code",
   "execution_count": 34,
   "id": "89459918",
   "metadata": {
    "execution": {
     "iopub.execute_input": "2024-03-03T04:29:36.168415Z",
     "iopub.status.busy": "2024-03-03T04:29:36.168053Z",
     "iopub.status.idle": "2024-03-03T04:29:36.277348Z",
     "shell.execute_reply": "2024-03-03T04:29:36.276383Z"
    },
    "papermill": {
     "duration": 0.131275,
     "end_time": "2024-03-03T04:29:36.279748",
     "exception": false,
     "start_time": "2024-03-03T04:29:36.148473",
     "status": "completed"
    },
    "tags": []
   },
   "outputs": [],
   "source": [
    "df_subm = pd.read_csv(ROOT / \"sample_submission.csv\")\n",
    "df_subm = df_subm.set_index(\"case_id\")\n",
    "\n",
    "df_subm[\"score\"] = (xgb_pred)*0.5"
   ]
  },
  {
   "cell_type": "code",
   "execution_count": 35,
   "id": "c824b1e6",
   "metadata": {
    "execution": {
     "iopub.execute_input": "2024-03-03T04:29:36.320372Z",
     "iopub.status.busy": "2024-03-03T04:29:36.320045Z",
     "iopub.status.idle": "2024-03-03T04:29:36.333815Z",
     "shell.execute_reply": "2024-03-03T04:29:36.333143Z"
    },
    "papermill": {
     "duration": 0.035972,
     "end_time": "2024-03-03T04:29:36.335359",
     "exception": false,
     "start_time": "2024-03-03T04:29:36.299387",
     "status": "completed"
    },
    "tags": []
   },
   "outputs": [
    {
     "data": {
      "text/html": [
       "<div>\n",
       "<style scoped>\n",
       "    .dataframe tbody tr th:only-of-type {\n",
       "        vertical-align: middle;\n",
       "    }\n",
       "\n",
       "    .dataframe tbody tr th {\n",
       "        vertical-align: top;\n",
       "    }\n",
       "\n",
       "    .dataframe thead th {\n",
       "        text-align: right;\n",
       "    }\n",
       "</style>\n",
       "<table border=\"1\" class=\"dataframe\">\n",
       "  <thead>\n",
       "    <tr style=\"text-align: right;\">\n",
       "      <th></th>\n",
       "      <th>score</th>\n",
       "    </tr>\n",
       "    <tr>\n",
       "      <th>case_id</th>\n",
       "      <th></th>\n",
       "    </tr>\n",
       "  </thead>\n",
       "  <tbody>\n",
       "    <tr>\n",
       "      <th>57543</th>\n",
       "      <td>0.000525</td>\n",
       "    </tr>\n",
       "    <tr>\n",
       "      <th>57549</th>\n",
       "      <td>0.001788</td>\n",
       "    </tr>\n",
       "    <tr>\n",
       "      <th>57551</th>\n",
       "      <td>0.002104</td>\n",
       "    </tr>\n",
       "    <tr>\n",
       "      <th>57552</th>\n",
       "      <td>0.005005</td>\n",
       "    </tr>\n",
       "    <tr>\n",
       "      <th>57569</th>\n",
       "      <td>0.000235</td>\n",
       "    </tr>\n",
       "    <tr>\n",
       "      <th>57630</th>\n",
       "      <td>0.007378</td>\n",
       "    </tr>\n",
       "    <tr>\n",
       "      <th>57631</th>\n",
       "      <td>0.006509</td>\n",
       "    </tr>\n",
       "    <tr>\n",
       "      <th>57632</th>\n",
       "      <td>0.008817</td>\n",
       "    </tr>\n",
       "    <tr>\n",
       "      <th>57633</th>\n",
       "      <td>0.001702</td>\n",
       "    </tr>\n",
       "    <tr>\n",
       "      <th>57634</th>\n",
       "      <td>0.011911</td>\n",
       "    </tr>\n",
       "  </tbody>\n",
       "</table>\n",
       "</div>"
      ],
      "text/plain": [
       "            score\n",
       "case_id          \n",
       "57543    0.000525\n",
       "57549    0.001788\n",
       "57551    0.002104\n",
       "57552    0.005005\n",
       "57569    0.000235\n",
       "57630    0.007378\n",
       "57631    0.006509\n",
       "57632    0.008817\n",
       "57633    0.001702\n",
       "57634    0.011911"
      ]
     },
     "execution_count": 35,
     "metadata": {},
     "output_type": "execute_result"
    }
   ],
   "source": [
    "df_subm"
   ]
  },
  {
   "cell_type": "code",
   "execution_count": 36,
   "id": "2fb0b030",
   "metadata": {
    "execution": {
     "iopub.execute_input": "2024-03-03T04:29:36.377464Z",
     "iopub.status.busy": "2024-03-03T04:29:36.377129Z",
     "iopub.status.idle": "2024-03-03T04:29:36.383042Z",
     "shell.execute_reply": "2024-03-03T04:29:36.381885Z"
    },
    "papermill": {
     "duration": 0.029942,
     "end_time": "2024-03-03T04:29:36.384884",
     "exception": false,
     "start_time": "2024-03-03T04:29:36.354942",
     "status": "completed"
    },
    "tags": []
   },
   "outputs": [
    {
     "name": "stdout",
     "output_type": "stream",
     "text": [
      "Check null:  False\n"
     ]
    }
   ],
   "source": [
    "print(\"Check null: \", df_subm[\"score\"].isnull().any())"
   ]
  },
  {
   "cell_type": "code",
   "execution_count": 37,
   "id": "c19aefd8",
   "metadata": {
    "execution": {
     "iopub.execute_input": "2024-03-03T04:29:36.428026Z",
     "iopub.status.busy": "2024-03-03T04:29:36.427333Z",
     "iopub.status.idle": "2024-03-03T04:29:36.438931Z",
     "shell.execute_reply": "2024-03-03T04:29:36.438108Z"
    },
    "papermill": {
     "duration": 0.035621,
     "end_time": "2024-03-03T04:29:36.441285",
     "exception": false,
     "start_time": "2024-03-03T04:29:36.405664",
     "status": "completed"
    },
    "tags": []
   },
   "outputs": [],
   "source": [
    "df_subm.to_csv(\"submission.csv\")"
   ]
  },
  {
   "cell_type": "code",
   "execution_count": null,
   "id": "a54dd24f",
   "metadata": {
    "papermill": {
     "duration": 0.019291,
     "end_time": "2024-03-03T04:29:36.480812",
     "exception": false,
     "start_time": "2024-03-03T04:29:36.461521",
     "status": "completed"
    },
    "tags": []
   },
   "outputs": [],
   "source": []
  }
 ],
 "metadata": {
  "kaggle": {
   "accelerator": "none",
   "dataSources": [
    {
     "databundleVersionId": 7602123,
     "sourceId": 50160,
     "sourceType": "competition"
    }
   ],
   "dockerImageVersionId": 30646,
   "isGpuEnabled": false,
   "isInternetEnabled": true,
   "language": "python",
   "sourceType": "notebook"
  },
  "kernelspec": {
   "display_name": "Python 3",
   "language": "python",
   "name": "python3"
  },
  "language_info": {
   "codemirror_mode": {
    "name": "ipython",
    "version": 3
   },
   "file_extension": ".py",
   "mimetype": "text/x-python",
   "name": "python",
   "nbconvert_exporter": "python",
   "pygments_lexer": "ipython3",
   "version": "3.10.13"
  },
  "papermill": {
   "default_parameters": {},
   "duration": 3021.17269,
   "end_time": "2024-03-03T04:29:37.950328",
   "environment_variables": {},
   "exception": null,
   "input_path": "__notebook__.ipynb",
   "output_path": "__notebook__.ipynb",
   "parameters": {},
   "start_time": "2024-03-03T03:39:16.777638",
   "version": "2.5.0"
  }
 },
 "nbformat": 4,
 "nbformat_minor": 5
}
